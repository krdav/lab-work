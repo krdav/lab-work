{
 "cells": [
  {
   "cell_type": "code",
   "execution_count": 84,
   "metadata": {},
   "outputs": [],
   "source": [
    "import sys, os, re, copy\n",
    "import dill as pickle # this serializes all the functions inside the quantification dict\n",
    "import numpy as np\n",
    "import scipy as sp\n",
    "from scipy.optimize import newton, minimize, fsolve\n",
    "import pandas as pd\n",
    "import matplotlib.pyplot as plt\n",
    "import matplotlib.backends.backend_pdf\n",
    "import matplotlib.colors as mcolors\n",
    "import matplotlib.ticker as ticker\n",
    "from matplotlib.gridspec import GridSpec\n",
    "palette = list(mcolors.TABLEAU_COLORS.keys())\n",
    "%matplotlib inline\n",
    "import seaborn as sns\n",
    "sns.set_style(\"whitegrid\", {\n",
    " 'axes.spines.bottom': True,\n",
    " 'axes.spines.left': True,\n",
    " 'axes.spines.right': True,\n",
    " 'axes.spines.top': True\n",
    "})\n",
    "sns.set(font_scale=1)\n",
    "palette = list(mcolors.TABLEAU_COLORS.keys())\n",
    "sns.set_theme(style=\"ticks\", palette=\"muted\")\n",
    "sns.set_context(\"talk\")"
   ]
  },
  {
   "cell_type": "code",
   "execution_count": null,
   "metadata": {},
   "outputs": [],
   "source": []
  },
  {
   "cell_type": "markdown",
   "metadata": {},
   "source": [
    "# Amino acid uptake in 143B GOT DKO cells\n",
    "hbgdfsa\n",
    "xdfbgdfsd"
   ]
  },
  {
   "cell_type": "code",
   "execution_count": null,
   "metadata": {},
   "outputs": [],
   "source": []
  },
  {
   "cell_type": "code",
   "execution_count": null,
   "metadata": {},
   "outputs": [],
   "source": []
  },
  {
   "cell_type": "code",
   "execution_count": null,
   "metadata": {},
   "outputs": [],
   "source": []
  },
  {
   "cell_type": "code",
   "execution_count": null,
   "metadata": {},
   "outputs": [],
   "source": []
  },
  {
   "cell_type": "code",
   "execution_count": 85,
   "metadata": {},
   "outputs": [],
   "source": [
    "AAcode = {\n",
    "    'Alanine': 'Ala',\n",
    "    'Arginine': 'Arg',\n",
    "    'Asparagine': 'Asn',\n",
    "    'Aspartate': 'Asp',\n",
    "    'Glutamate': 'Glu',\n",
    "    'Glutamine': 'Gln',\n",
    "    'Glycine': 'Gly',\n",
    "    'Isoleucine': 'Ile',\n",
    "    'Leucine': 'Leu',\n",
    "    'Lysine': 'Lys',\n",
    "    'Methionine': 'Met',\n",
    "    'Phenylalanine': 'Phe',\n",
    "    'Proline': 'Pro',\n",
    "    'Serine': 'Ser',\n",
    "    'Threonine': 'Thr',\n",
    "    'Tryptophan': 'Trp',\n",
    "    'Tyrosine': 'Tyr',\n",
    "    'Valine': 'Val'\n",
    "}"
   ]
  },
  {
   "cell_type": "code",
   "execution_count": 86,
   "metadata": {},
   "outputs": [],
   "source": [
    "def impute_conc(piece_wise_fit_metab, response_ratio):\n",
    "    '''\n",
    "    This function imputes the concentration from a response ratio.\n",
    "    '''\n",
    "    response_ratio_range = np.array(list(piece_wise_fit_metab.keys()))\n",
    "    mask_range = [response_ratio >= min_v and response_ratio <= max_v for max_v, min_v in response_ratio_range]\n",
    "    k = tuple(response_ratio_range[mask_range][0])\n",
    "    conc = piece_wise_fit_metab[k](response_ratio)\n",
    "    estimator = 'intrapolation'\n",
    "    if 0 in k:\n",
    "        estimator = 'extrapolation under'\n",
    "    elif np.inf in k:\n",
    "        estimator = 'extrapolation over'\n",
    "    return(conc, estimator)"
   ]
  },
  {
   "cell_type": "code",
   "execution_count": null,
   "metadata": {},
   "outputs": [],
   "source": []
  },
  {
   "cell_type": "code",
   "execution_count": null,
   "metadata": {},
   "outputs": [],
   "source": []
  },
  {
   "cell_type": "code",
   "execution_count": null,
   "metadata": {},
   "outputs": [],
   "source": []
  },
  {
   "cell_type": "markdown",
   "metadata": {},
   "source": [
    "### Calculate quantities and fluxes"
   ]
  },
  {
   "cell_type": "code",
   "execution_count": 87,
   "metadata": {},
   "outputs": [],
   "source": [
    "### Read quantification function ###\n",
    "dict_pickle_fnam = 'AA-quant_oct_20.pickle'\n",
    "with open(dict_pickle_fnam, 'rb') as handle:\n",
    "    piece_wise_fit_AA = pickle.load(handle)\n",
    "# Merge the two quantitation dictionaries:\n",
    "piece_wise_fit_quant = {**piece_wise_fit_AA}\n",
    "\n",
    "### Read measurements ###\n",
    "### Replace all N/F with 0 before start ###\n",
    "esheet_dict_mes = pd.read_excel('Asp-uptake-flux.xlsx', sheet_name=None)\n",
    "annotation_df = pd.read_excel('annotations.xlsx')\n",
    "metab_dict_mes = dict()\n",
    "metab_names_mes = list()\n",
    "for k in esheet_dict_mes.keys():\n",
    "    if 'U-13C' not in k:\n",
    "        metab_names_mes.append(k)\n",
    "        metab_dict_mes[k] = copy.deepcopy(esheet_dict_mes[k])\n",
    "        metab_dict_mes[k]['Response Ratio'] = metab_dict_mes[k]['Area'] / metab_dict_mes[k]['ISTD Response']\n",
    "        metab_dict_mes[k]['Response Ratio'] = metab_dict_mes[k]['Response Ratio'].fillna(0).replace(np.inf, 0)\n",
    "        # CAA was reconstituted in 400 uL instead of 500 uL\n",
    "        # CAA peak will then be 5/4 times what it should be\n",
    "        ## RR will then be 4/5 of what it should be\n",
    "        # Correction factor: 5/4\n",
    "        metab_dict_mes[k]['Response Ratio'] = metab_dict_mes[k]['Response Ratio'] * 5/4\n",
    "        metab_dict_mes[k]['Sample_name'] = [fn.split('_')[-1] for fn in metab_dict_mes[k]['Filename']]\n",
    "        # Add annotations:\n",
    "        metab_dict_mes[k] = metab_dict_mes[k].merge(annotation_df, left_on='Sample_name', right_on='Sample_name')\n",
    "        metab_dict_mes[k] = metab_dict_mes[k].drop(['Flag Details', 'Filename', 'Type', 'RT'], axis=1)\n",
    "\n",
    "### Impute concentration and add to metabolite dataframe ###\n",
    "rr_mes = dict() # for plotting \n",
    "imp_conc_mes = dict() # for plotting\n",
    "for metab in metab_names_mes[:]:\n",
    "    # Assign imputed concentration:\n",
    "    if metab in piece_wise_fit_quant:\n",
    "        conc_list = list()\n",
    "        estimator_list = list()\n",
    "        for rr in metab_dict_mes[metab]['Response Ratio'].values:\n",
    "            conc, estimator = impute_conc(piece_wise_fit_quant[metab], rr)\n",
    "            conc_list.append(conc)\n",
    "            estimator_list.append(estimator)\n",
    "        metab_dict_mes[metab]['imputed_sample_conc'] = conc_list\n",
    "        metab_dict_mes[metab]['imputed_sample_estimator'] = estimator_list\n",
    "\n",
    "        # Extract data for plotting:\n",
    "        if metab in rr_mes:\n",
    "            rr_mes[metab].extend(list(metab_dict_mes[metab]['Response Ratio'].values))\n",
    "            imp_conc_mes[metab].extend(list(metab_dict_mes[metab]['imputed_sample_conc'].values))\n",
    "        else:\n",
    "            rr_mes[metab] = list(metab_dict_mes[metab]['Response Ratio'].values)\n",
    "            imp_conc_mes[metab] = list(metab_dict_mes[metab]['imputed_sample_conc'].values)"
   ]
  },
  {
   "cell_type": "code",
   "execution_count": 88,
   "metadata": {},
   "outputs": [],
   "source": [
    "# Convert to media concentration and flux:\n",
    "for metab in metab_names_mes:\n",
    "    if metab in piece_wise_fit_quant:\n",
    "        metab_dict_mes[metab]['undil_sample_conc'] = metab_dict_mes[metab]['imputed_sample_conc'] / metab_dict_mes[metab]['dilution_factor']\n",
    "        metab_dict_mes[metab]['pmol'] = metab_dict_mes[metab]['undil_sample_conc'] * metab_dict_mes[metab]['Media_vol']\n",
    "        blank_pmol = metab_dict_mes[metab][metab_dict_mes[metab]['Time'] == 0]['pmol'].mean()\n",
    "        metab_dict_mes[metab]['nmol_depleted'] = (blank_pmol - metab_dict_mes[metab]['pmol']) * 1e-3\n",
    "        # Influx in mM/h:\n",
    "        metab_dict_mes[metab]['Influx'] = metab_dict_mes[metab]['nmol_depleted'] / metab_dict_mes[metab]['vol_hour'] * 1e-6\n",
    "\n",
    "### Extract all metabolites for quantification ###\n",
    "df = copy.deepcopy(metab_dict_mes[metab_names_mes[0]]).drop(['Compound', 'Formula', 'Response Ratio', 'Area', 'ISTD Response', 'imputed_sample_conc', 'imputed_sample_estimator', 'undil_sample_conc', 'pmol', 'nmol_depleted', 'Influx', 'dilution_factor', 'vol_hour', 'Media_vol'], axis=1)\n",
    "for metab in metab_names_mes:\n",
    "    if metab in piece_wise_fit_quant:\n",
    "        assert(metab_dict_mes[metab]['Sample_name'].equals(df['Sample_name']))\n",
    "        df[metab] = metab_dict_mes[metab]['Influx']\n",
    "# Save data in Excel file:\n",
    "df.to_excel('influx.xlsx', index=False)"
   ]
  },
  {
   "cell_type": "code",
   "execution_count": null,
   "metadata": {},
   "outputs": [],
   "source": [
    "df"
   ]
  },
  {
   "cell_type": "code",
   "execution_count": null,
   "metadata": {},
   "outputs": [],
   "source": []
  },
  {
   "cell_type": "code",
   "execution_count": null,
   "metadata": {},
   "outputs": [],
   "source": []
  },
  {
   "cell_type": "code",
   "execution_count": null,
   "metadata": {},
   "outputs": [],
   "source": []
  },
  {
   "cell_type": "markdown",
   "metadata": {},
   "source": [
    "### Plot data"
   ]
  },
  {
   "cell_type": "code",
   "execution_count": 91,
   "metadata": {},
   "outputs": [],
   "source": [
    "# Rename to three letter amino acid code,\n",
    "# Sort according to highest influx at 23 h\n",
    "df.columns = [v.split()[0] for v in df.columns.values]\n",
    "df = df.rename(columns=AAcode)\n",
    "# Sort:\n",
    "df_mean = df.groupby(['Time']).mean().reset_index()\n",
    "col_sele = df_mean.columns.values[1:]\n",
    "sort_mask = df_mean.loc[1, col_sele].sort_values(ascending=False).index.values\n",
    "sort_mask = np.concatenate([['Time'], sort_mask])\n",
    "df_sort = df.loc[:, sort_mask]\n",
    "# Remove t=0:\n",
    "time_mask = df_sort['Time'] > 0\n",
    "df_sort = df_sort[time_mask]\n",
    "# Flatten for plotting:\n",
    "df_melt = df_sort.melt(id_vars=['Time'], var_name='Amino acid', value_name='Flux')"
   ]
  },
  {
   "cell_type": "code",
   "execution_count": 96,
   "metadata": {},
   "outputs": [
    {
     "data": {
      "image/png": "[encoded data removed]",
      "text/plain": [
       "<Figure size 864x316.8 with 2 Axes>"
      ]
     },
     "metadata": {},
     "output_type": "display_data"
    }
   ],
   "source": [
    "### Plot the influx ###\n",
    "fig, (ax1, ax2) = plt.subplots(1, 2, figsize=(12, 4.4), gridspec_kw={'width_ratios': [1, 8]})\n",
    "\n",
    "# Small plot for Gln/Glu:\n",
    "mask = df_melt['Amino acid'].isin(['Gln', 'Glu'])\n",
    "g1 = sns.barplot(ax=ax1, x=\"Amino acid\", y=\"Flux\", hue=\"Time\", data=df_melt[mask], capsize=.1, errwidth=2, edgecolor='black', linewidth=2, alpha=0.7)\n",
    "ax1.axhline(y=0, linestyle='-', zorder=1, linewidth=2, color='#444444')\n",
    "g1.grid(True, axis='y')\n",
    "#g1.set_yscale('log')\n",
    "g1.set_ylabel('Influx (mM/h)');\n",
    "g1.set_xlabel('');\n",
    "g1.legend_.remove()\n",
    "g1.set_xticklabels(g1.get_xticklabels(), rotation=0)\n",
    "\n",
    "# Plot the all other AAs:\n",
    "g2 = sns.barplot(ax=ax2, x=\"Amino acid\", y=\"Flux\", hue=\"Time\", data=df_melt[~mask], capsize=.1, errwidth=2, edgecolor='black', linewidth=2, alpha=0.7)\n",
    "ax2.axhline(y=0, linestyle='-', zorder=1, linewidth=2, color='#444444')\n",
    "g2.grid(True, axis='y')\n",
    "g2.set_ylabel('Influx (mM/h)');\n",
    "g2.set_xlabel('');\n",
    "g2.set_xticklabels(g2.get_xticklabels(), rotation=0);\n",
    "g2.set_ylim([-1.4, 5.6])\n",
    "g2.yaxis.set_major_locator(ticker.MultipleLocator(1))\n",
    "\n",
    "# Add legend:\n",
    "old_legend = g2.legend_\n",
    "handles = old_legend.legendHandles\n",
    "labels = ['23 h', '31 h']\n",
    "title = 'Sampling time'\n",
    "g2.legend(handles, labels, title=title);\n",
    "\n",
    "# Show/save:\n",
    "fig.tight_layout()\n",
    "fig.savefig('influx.pdf')"
   ]
  },
  {
   "cell_type": "code",
   "execution_count": null,
   "metadata": {},
   "outputs": [],
   "source": []
  },
  {
   "cell_type": "code",
   "execution_count": null,
   "metadata": {},
   "outputs": [],
   "source": []
  },
  {
   "cell_type": "code",
   "execution_count": null,
   "metadata": {},
   "outputs": [],
   "source": []
  },
  {
   "cell_type": "code",
   "execution_count": null,
   "metadata": {},
   "outputs": [],
   "source": []
  },
  {
   "cell_type": "code",
   "execution_count": null,
   "metadata": {},
   "outputs": [],
   "source": []
  },
  {
   "cell_type": "code",
   "execution_count": null,
   "metadata": {},
   "outputs": [],
   "source": []
  },
  {
   "cell_type": "code",
   "execution_count": null,
   "metadata": {},
   "outputs": [],
   "source": []
  },
  {
   "cell_type": "code",
   "execution_count": null,
   "metadata": {},
   "outputs": [],
   "source": []
  }
 ],
 "metadata": {
  "kernelspec": {
   "display_name": "Python 3",
   "language": "python",
   "name": "python3"
  },
  "language_info": {
   "codemirror_mode": {
    "name": "ipython",
    "version": 3
   },
   "file_extension": ".py",
   "mimetype": "text/x-python",
   "name": "python",
   "nbconvert_exporter": "python",
   "pygments_lexer": "ipython3",
   "version": "3.8.5"
  }
 },
 "nbformat": 4,
 "nbformat_minor": 2
}
