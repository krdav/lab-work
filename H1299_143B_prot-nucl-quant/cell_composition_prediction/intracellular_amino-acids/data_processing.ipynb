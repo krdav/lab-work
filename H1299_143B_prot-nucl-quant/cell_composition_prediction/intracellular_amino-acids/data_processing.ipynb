{
 "cells": [
  {
   "cell_type": "code",
   "execution_count": 1,
   "metadata": {},
   "outputs": [],
   "source": [
    "import sys, os, re, copy\n",
    "import dill as pickle # this serializes all the functions inside the quantification dict\n",
    "import numpy as np\n",
    "import scipy as sp\n",
    "from scipy.optimize import newton, minimize, fsolve\n",
    "import pandas as pd\n",
    "import matplotlib.pyplot as plt\n",
    "import matplotlib.backends.backend_pdf\n",
    "import matplotlib.colors as mcolors\n",
    "palette = list(mcolors.TABLEAU_COLORS.keys())\n",
    "%matplotlib inline\n",
    "import seaborn as sns\n",
    "sns.set_style(\"whitegrid\", {\n",
    " 'axes.spines.bottom': True,\n",
    " 'axes.spines.left': True,\n",
    " 'axes.spines.right': True,\n",
    " 'axes.spines.top': True\n",
    "})\n",
    "sns.set(font_scale=1)\n",
    "palette = list(mcolors.TABLEAU_COLORS.keys())\n",
    "sns.set_theme(style=\"ticks\", palette=\"muted\")\n",
    "sns.set_context(\"talk\")"
   ]
  },
  {
   "cell_type": "code",
   "execution_count": null,
   "metadata": {},
   "outputs": [],
   "source": []
  },
  {
   "cell_type": "markdown",
   "metadata": {},
   "source": [
    "## Quantification of free amino acids in 143B and H1299 cells\n",
    "Six well plates of 143B and H1299 cells were cultured in DMEM, 10% dialyzed FBS, no pyruvate with either vehicle or 1 mM Asn.\n",
    "At close to confluency, the top row of cells were washed twice with cold saline and metabolites extracted using 1 mL 80% MeOH.\n",
    "The bottom row was counted using a Coulter counter to determine the total cell volume.\n",
    "The metabolite extract was spun down and 500 uL was dried.\n",
    "Samples were then reconstituted in 40 uL U-15N, U-13C amino acid internal standards (CAA) in 80 % MeOH and quantified using LCMS.\n",
    "The dilution factor was calculated based on the mean total cell volume determined by Coulter counter.\n",
    "\n",
    "Here these samples are processed to calculate the intracellular concentration of each amino acid."
   ]
  },
  {
   "cell_type": "code",
   "execution_count": 2,
   "metadata": {},
   "outputs": [],
   "source": [
    "def impute_conc(piece_wise_fit_metab, response_ratio):\n",
    "    '''\n",
    "    This function imputes the concentration from a response ratio.\n",
    "    '''\n",
    "    response_ratio_range = np.array(list(piece_wise_fit_metab.keys()))\n",
    "    mask_range = [response_ratio >= min_v and response_ratio <= max_v for max_v, min_v in response_ratio_range]\n",
    "    k = tuple(response_ratio_range[mask_range][0])\n",
    "    conc = piece_wise_fit_metab[k](response_ratio)\n",
    "    estimator = 'intrapolation'\n",
    "    if 0 in k:\n",
    "        estimator = 'extrapolation under'\n",
    "    elif np.inf in k:\n",
    "        estimator = 'extrapolation over'\n",
    "    return(conc, estimator)"
   ]
  },
  {
   "cell_type": "code",
   "execution_count": null,
   "metadata": {},
   "outputs": [],
   "source": []
  },
  {
   "cell_type": "code",
   "execution_count": null,
   "metadata": {},
   "outputs": [],
   "source": []
  },
  {
   "cell_type": "code",
   "execution_count": null,
   "metadata": {},
   "outputs": [],
   "source": []
  },
  {
   "cell_type": "code",
   "execution_count": null,
   "metadata": {},
   "outputs": [],
   "source": []
  },
  {
   "cell_type": "code",
   "execution_count": null,
   "metadata": {},
   "outputs": [],
   "source": []
  },
  {
   "cell_type": "code",
   "execution_count": null,
   "metadata": {},
   "outputs": [],
   "source": []
  },
  {
   "cell_type": "code",
   "execution_count": null,
   "metadata": {},
   "outputs": [],
   "source": []
  },
  {
   "cell_type": "code",
   "execution_count": 3,
   "metadata": {},
   "outputs": [],
   "source": [
    "### Read quantification function ###\n",
    "dict_pickle_fnam = 'input/AA-quant_oct_20.pickle'\n",
    "with open(dict_pickle_fnam, 'rb') as handle:\n",
    "    piece_wise_fit_quant = pickle.load(handle)\n",
    "\n",
    "### Read measurements ###\n",
    "### Replace all N/F with 0 before start ###\n",
    "esheet_dict_mes = pd.read_excel('input/H1299-143B_intra-Asp.xlsx', sheet_name=None)\n",
    "annotation_df = pd.read_excel('input/annotations.xlsx')\n",
    "metab_dict_mes = dict()\n",
    "metab_names_mes = list()\n",
    "for k in esheet_dict_mes.keys():\n",
    "    if 'U-13C' not in k:\n",
    "        metab_names_mes.append(k)\n",
    "        metab_dict_mes[k] = copy.deepcopy(esheet_dict_mes[k])\n",
    "        metab_dict_mes[k]['Response Ratio'] = metab_dict_mes[k]['Area'] / metab_dict_mes[k]['ISTD Response']\n",
    "        metab_dict_mes[k]['Response Ratio'] = metab_dict_mes[k]['Response Ratio'].fillna(0).replace(np.inf, 0)\n",
    "        metab_dict_mes[k]['Sample_name'] = [fn.split('_')[-1] for fn in metab_dict_mes[k]['Filename']]\n",
    "        # Add annotations:\n",
    "        metab_dict_mes[k] = metab_dict_mes[k].merge(annotation_df, left_on='Sample_name', right_on='Sample_name')\n",
    "        metab_dict_mes[k] = metab_dict_mes[k].drop(['Flag Details', 'Theoretical Amt', 'Filename', 'Type', 'RT', 'Sample ID', 'Metformin', 'ISTD Response'], axis=1)"
   ]
  },
  {
   "cell_type": "code",
   "execution_count": 4,
   "metadata": {},
   "outputs": [],
   "source": [
    "### Impute concentration and add to metabolite dataframe ###\n",
    "rr_mes = dict() # for plotting \n",
    "imp_conc_mes = dict() # for plotting\n",
    "for metab in metab_names_mes[:]:\n",
    "    # Assign imputed concentration:\n",
    "    if metab in piece_wise_fit_quant:\n",
    "        conc_list = list()\n",
    "        estimator_list = list()\n",
    "        for rr in metab_dict_mes[metab]['Response Ratio'].values:\n",
    "            conc, estimator = impute_conc(piece_wise_fit_quant[metab], rr)\n",
    "            conc_list.append(conc)\n",
    "            estimator_list.append(estimator)\n",
    "        metab_dict_mes[metab]['imputed_sample_conc'] = conc_list\n",
    "        metab_dict_mes[metab]['imputed_sample_estimator'] = estimator_list\n",
    "\n",
    "        # Extract data for plotting:\n",
    "        if metab in rr_mes:\n",
    "            rr_mes[metab].extend(list(metab_dict_mes[metab]['Response Ratio'].values))\n",
    "            imp_conc_mes[metab].extend(list(metab_dict_mes[metab]['imputed_sample_conc'].values))\n",
    "        else:\n",
    "            rr_mes[metab] = list(metab_dict_mes[metab]['Response Ratio'].values)\n",
    "            imp_conc_mes[metab] = list(metab_dict_mes[metab]['imputed_sample_conc'].values)"
   ]
  },
  {
   "cell_type": "code",
   "execution_count": 5,
   "metadata": {},
   "outputs": [],
   "source": [
    "# Move the measured concentration to new dataframe:\n",
    "df = copy.deepcopy(metab_dict_mes[metab_names_mes[0]]).drop(['Compound', 'Formula', 'Response Ratio', 'Area', 'Formula', 'Proliferation_rate', 'imputed_sample_conc', 'imputed_sample_estimator'], axis=1)\n",
    "for nam in piece_wise_fit_quant.keys():\n",
    "    if nam in metab_dict_mes:\n",
    "        assert(metab_dict_mes[nam]['Sample_name'].equals(df['Sample_name']))\n",
    "        df[nam] = metab_dict_mes[nam]['imputed_sample_conc']\n",
    "# Find the mean over 3 replicates:\n",
    "df_mean = df.groupby(['Cell_line', 'Salvage_mix']).mean().reset_index()\n",
    "\n",
    "# Calculate the intracellular concentration:\n",
    "df_mean_cell_conc = copy.deepcopy(df_mean)\n",
    "AA_cols = df_mean_cell_conc.columns.values[3:]\n",
    "df_mean_cell_conc.loc[:, AA_cols] = df_mean_cell_conc.loc[:, AA_cols].div(df_mean_cell_conc['Dilution_factor'], axis=0)\n",
    "df_mean_cell_conc = df_mean_cell_conc.drop(['Dilution_factor'], axis=1)\n",
    "# Write results to an Excel file:\n",
    "df_mean_cell_conc.to_excel('output/AA_intra-conc.xlsx')"
   ]
  },
  {
   "cell_type": "code",
   "execution_count": null,
   "metadata": {},
   "outputs": [],
   "source": []
  },
  {
   "cell_type": "code",
   "execution_count": null,
   "metadata": {},
   "outputs": [],
   "source": []
  },
  {
   "cell_type": "code",
   "execution_count": null,
   "metadata": {},
   "outputs": [],
   "source": []
  },
  {
   "cell_type": "code",
   "execution_count": null,
   "metadata": {},
   "outputs": [],
   "source": []
  },
  {
   "cell_type": "code",
   "execution_count": null,
   "metadata": {},
   "outputs": [],
   "source": []
  },
  {
   "cell_type": "code",
   "execution_count": null,
   "metadata": {},
   "outputs": [],
   "source": []
  },
  {
   "cell_type": "code",
   "execution_count": null,
   "metadata": {},
   "outputs": [],
   "source": []
  },
  {
   "cell_type": "code",
   "execution_count": null,
   "metadata": {},
   "outputs": [],
   "source": []
  },
  {
   "cell_type": "code",
   "execution_count": null,
   "metadata": {},
   "outputs": [],
   "source": []
  }
 ],
 "metadata": {
  "kernelspec": {
   "display_name": "Python 3",
   "language": "python",
   "name": "python3"
  },
  "language_info": {
   "codemirror_mode": {
    "name": "ipython",
    "version": 3
   },
   "file_extension": ".py",
   "mimetype": "text/x-python",
   "name": "python",
   "nbconvert_exporter": "python",
   "pygments_lexer": "ipython3",
   "version": "3.8.5"
  }
 },
 "nbformat": 4,
 "nbformat_minor": 2
}
