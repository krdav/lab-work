{
 "cells": [
  {
   "cell_type": "code",
   "execution_count": 1,
   "metadata": {},
   "outputs": [],
   "source": [
    "import pandas as pd\n",
    "pd.set_option('display.max_columns', 50)\n",
    "import numpy as np\n",
    "from matplotlib import pyplot as plt\n",
    "from matplotlib.colors import ListedColormap\n",
    "from venn import venn\n",
    "import copy\n",
    "import random\n",
    "%matplotlib inline\n",
    "import seaborn as sns\n",
    "from pylab import *\n",
    "from matplotlib.colors import colorConverter\n",
    "\n",
    "import matplotlib.colors as mcolors\n",
    "palette = list(mcolors.TABLEAU_COLORS.keys())\n",
    "palette.extend(['salmon', 'teal','yellowgreen'])\n",
    "\n",
    "\n",
    "from Bio import SeqIO\n",
    "AA_symbols = {'A', 'C', 'D', 'E', 'F', 'G', 'H', 'I', 'K', 'L', 'M', 'N', 'P', 'Q', 'R', 'S', 'T', 'V', 'W', 'Y'}"
   ]
  },
  {
   "cell_type": "code",
   "execution_count": null,
   "metadata": {},
   "outputs": [],
   "source": []
  },
  {
   "cell_type": "code",
   "execution_count": 2,
   "metadata": {},
   "outputs": [],
   "source": [
    "# Two datasets from HeLa cells:\n",
    "fnam1 = 'hsa_Geiger_2012_HeLa.csv'\n",
    "fnam2 = 'hsa_Nagaraj_2011.csv'\n",
    "\n",
    "df1 = pd.read_csv(fnam1, sep='\\t', skiprows=[0])\n",
    "df2 = pd.read_csv(fnam2, sep='\\t', skiprows=[0])"
   ]
  },
  {
   "cell_type": "code",
   "execution_count": 3,
   "metadata": {},
   "outputs": [
    {
     "name": "stdout",
     "output_type": "stream",
     "text": [
      "20857\n",
      "14605\n"
     ]
    }
   ],
   "source": [
    "# Extract all the UniProt IDs:\n",
    "P_id = list(df1['!ProteinIdentifier'].values)\n",
    "P_id.extend(list(df2['!ProteinIdentifier'].values))\n",
    "print(len(P_id))\n",
    "P_id = list(set(P_id))\n",
    "print(len(P_id))\n",
    "# Print the IDs to a file,\n",
    "# then download a fasta file with all their sequences:\n",
    "with open('all_protein_IDs.txt', 'w') as fh:\n",
    "    print(' '.join(P_id), file=fh)"
   ]
  },
  {
   "cell_type": "code",
   "execution_count": 4,
   "metadata": {},
   "outputs": [],
   "source": [
    "# Fasta file with all the protein sequences\n",
    "# containing abundance information:\n",
    "seq_file = 'all_proteins.fasta'\n",
    "\n",
    "id2seq = dict()\n",
    "for record in SeqIO.parse(seq_file, \"fasta\"):\n",
    "    ID = record.id.split('|')[1]\n",
    "    seq = str(record.seq)\n",
    "    id2seq[ID] = seq"
   ]
  },
  {
   "cell_type": "code",
   "execution_count": 5,
   "metadata": {},
   "outputs": [],
   "source": [
    "### Non unresolved amino acids are so few that they are neglegible ###\n",
    "# Removing unresolved amino acids:\n",
    "for ID, seq in id2seq.items():\n",
    "    non_ca = [AA for AA in seq if AA not in AA_symbols]\n",
    "    ca = [AA for AA in seq if AA in AA_symbols]\n",
    "    if len(non_ca) > 0:\n",
    "        pass\n",
    "        #print(ID)\n",
    "        #print(non_ca)\n",
    "        #print(seq)\n",
    "    id2seq[ID] = ''.join(ca)"
   ]
  },
  {
   "cell_type": "code",
   "execution_count": 6,
   "metadata": {},
   "outputs": [],
   "source": [
    "AA_abundance = dict()\n",
    "for AA_i, df_i in enumerate([df1, df2]):\n",
    "    # Extract usefull information:\n",
    "    df_abd_info = df_i.loc[:,['!ProteinIdentifier', '!Abundance[ppm]', '!ProteinSize', '!ProteinName', '!Pathway']]\n",
    "    df_abd_info['Seq'] = [''] * len(df_abd_info)\n",
    "    \n",
    "    # Insert sequence information:\n",
    "    prot_ids = df_abd_info['!ProteinIdentifier'].values\n",
    "    for ID in prot_ids:\n",
    "        if ID in id2seq:\n",
    "            seq = id2seq[ID]\n",
    "        else:\n",
    "            seq = None\n",
    "        df_abd_info.loc[df_abd_info['!ProteinIdentifier'] == ID, 'Seq'] = seq\n",
    "\n",
    "    # Remove rows with no sequence data:\n",
    "    df_abd_info = df_abd_info.loc[~(df_abd_info['Seq'].values == None)]\n",
    "\n",
    "    # Renormalize ppm values:\n",
    "    norm = sum(df_abd_info['!Abundance[ppm]'].values) / 1e6\n",
    "    df_abd_info.loc[:, '!Abundance[ppm]'] = df_abd_info['!Abundance[ppm]'] * norm\n",
    "\n",
    "    # Tally the abundance of each amino acid:\n",
    "    AA_abundance[AA_i] = {AA: 0 for AA in AA_symbols}\n",
    "    for ppm, seq in zip(df_abd_info['!Abundance[ppm]'], df_abd_info['Seq']):\n",
    "        for AA in seq:\n",
    "            AA_abundance[AA_i][AA] += ppm\n",
    "\n",
    "    # Normalize the amino acid abundance to frequencies:\n",
    "    ts = sum([v for v in AA_abundance[AA_i].values()])\n",
    "    for k in AA_abundance[AA_i].keys():\n",
    "        AA_abundance[AA_i][k] = AA_abundance[AA_i][k] / ts * 100"
   ]
  },
  {
   "cell_type": "code",
   "execution_count": null,
   "metadata": {},
   "outputs": [],
   "source": []
  },
  {
   "cell_type": "code",
   "execution_count": 7,
   "metadata": {},
   "outputs": [
    {
     "data": {
      "text/plain": [
       "<matplotlib.collections.PathCollection at 0x11ae4f240>"
      ]
     },
     "execution_count": 7,
     "metadata": {},
     "output_type": "execute_result"
    },
    {
     "data": {
      "image/png": "[encoded data removed]",
      "text/plain": [
       "<Figure size 432x288 with 1 Axes>"
      ]
     },
     "metadata": {
      "needs_background": "light"
     },
     "output_type": "display_data"
    }
   ],
   "source": [
    "# Make comparisons between the two datasets:\n",
    "AAs = list(AA_symbols)\n",
    "x = [AA_abundance[0][AA] for AA in AAs]\n",
    "y = [AA_abundance[1][AA] for AA in AAs]\n",
    "# Plot it:\n",
    "plt.scatter(x,y)"
   ]
  },
  {
   "cell_type": "code",
   "execution_count": null,
   "metadata": {},
   "outputs": [],
   "source": []
  },
  {
   "cell_type": "code",
   "execution_count": 8,
   "metadata": {},
   "outputs": [
    {
     "name": "stdout",
     "output_type": "stream",
     "text": [
      "F\tY\tK\tI\tT\tV\tP\tR\tG\tN\tQ\tC\tE\tD\tW\tM\tS\tH\tA\tL\n",
      "3.5400902600192596\t2.8633775943760575\t7.71788059786008\t5.132941279536273\t5.13659495173733\t6.657652169784657\t4.858186481737166\t5.7787966448172225\t7.463707354066949\t3.7322397078378686\t4.157017702770572\t1.4092404269735272\t7.620460379429243\t5.5564643766742705\t0.9236601061398463\t2.452326874795476\t6.392700434153051\t2.072777971221846\t7.800325313503667\t8.733559372565644\n"
     ]
    }
   ],
   "source": [
    "# Print amino acid frequencies:\n",
    "AA_list = []\n",
    "abd_list = []\n",
    "for k, v in AA_abundance[0].items():\n",
    "    AA_list.append(k)\n",
    "    abd_list.append(v)\n",
    "print('\\t'.join(AA_list))\n",
    "print('\\t'.join(list(map(str, abd_list))))"
   ]
  },
  {
   "cell_type": "code",
   "execution_count": null,
   "metadata": {},
   "outputs": [],
   "source": []
  },
  {
   "cell_type": "code",
   "execution_count": null,
   "metadata": {},
   "outputs": [],
   "source": []
  },
  {
   "cell_type": "code",
   "execution_count": null,
   "metadata": {},
   "outputs": [],
   "source": []
  },
  {
   "cell_type": "code",
   "execution_count": null,
   "metadata": {},
   "outputs": [],
   "source": []
  },
  {
   "cell_type": "code",
   "execution_count": null,
   "metadata": {},
   "outputs": [],
   "source": []
  },
  {
   "cell_type": "code",
   "execution_count": null,
   "metadata": {},
   "outputs": [],
   "source": []
  },
  {
   "cell_type": "code",
   "execution_count": null,
   "metadata": {},
   "outputs": [],
   "source": []
  }
 ],
 "metadata": {
  "kernelspec": {
   "display_name": "Python 3",
   "language": "python",
   "name": "python3"
  },
  "language_info": {
   "codemirror_mode": {
    "name": "ipython",
    "version": 3
   },
   "file_extension": ".py",
   "mimetype": "text/x-python",
   "name": "python",
   "nbconvert_exporter": "python",
   "pygments_lexer": "ipython3",
   "version": "3.7.1"
  }
 },
 "nbformat": 4,
 "nbformat_minor": 2
}
