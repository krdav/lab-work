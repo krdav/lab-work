{
 "cells": [
  {
   "cell_type": "code",
   "execution_count": 1,
   "metadata": {},
   "outputs": [],
   "source": [
    "import sys, os, re, copy\n",
    "import dill as pickle # this serializes all the functions inside the quantification dict\n",
    "import numpy as np\n",
    "import scipy as sp\n",
    "from scipy.optimize import newton, minimize, fsolve\n",
    "import pandas as pd\n",
    "import matplotlib.pyplot as plt\n",
    "import matplotlib.backends.backend_pdf\n",
    "import matplotlib.colors as mcolors\n",
    "import matplotlib.ticker as tck\n",
    "from matplotlib.gridspec import GridSpec\n",
    "palette = list(mcolors.TABLEAU_COLORS.keys())\n",
    "%matplotlib inline\n",
    "import seaborn as sns\n",
    "sns.set_style(\"whitegrid\", {\n",
    " 'axes.spines.bottom': True,\n",
    " 'axes.spines.left': True,\n",
    " 'axes.spines.right': True,\n",
    " 'axes.spines.top': True\n",
    "})\n",
    "sns.set(font_scale=1)\n",
    "palette = list(mcolors.TABLEAU_COLORS.keys())\n",
    "sns.set_theme(style=\"ticks\", palette=\"muted\")\n",
    "sns.set_context(\"talk\")"
   ]
  },
  {
   "cell_type": "code",
   "execution_count": null,
   "metadata": {},
   "outputs": [],
   "source": []
  },
  {
   "cell_type": "code",
   "execution_count": null,
   "metadata": {},
   "outputs": [],
   "source": []
  },
  {
   "cell_type": "code",
   "execution_count": 2,
   "metadata": {},
   "outputs": [
    {
     "data": {
      "text/html": [
       "<div>\n",
       "<style scoped>\n",
       "    .dataframe tbody tr th:only-of-type {\n",
       "        vertical-align: middle;\n",
       "    }\n",
       "\n",
       "    .dataframe tbody tr th {\n",
       "        vertical-align: top;\n",
       "    }\n",
       "\n",
       "    .dataframe thead th {\n",
       "        text-align: right;\n",
       "    }\n",
       "</style>\n",
       "<table border=\"1\" class=\"dataframe\">\n",
       "  <thead>\n",
       "    <tr style=\"text-align: right;\">\n",
       "      <th></th>\n",
       "      <th>Fate</th>\n",
       "      <th>Asn efflux</th>\n",
       "      <th>Percent</th>\n",
       "    </tr>\n",
       "  </thead>\n",
       "  <tbody>\n",
       "    <tr>\n",
       "      <th>0</th>\n",
       "      <td>Protein (Asp)</td>\n",
       "      <td>Yes</td>\n",
       "      <td>27.935361</td>\n",
       "    </tr>\n",
       "    <tr>\n",
       "      <th>1</th>\n",
       "      <td>Efflux (Asn)</td>\n",
       "      <td>Yes</td>\n",
       "      <td>25.992724</td>\n",
       "    </tr>\n",
       "    <tr>\n",
       "      <th>2</th>\n",
       "      <td>Protein (Asn)</td>\n",
       "      <td>Yes</td>\n",
       "      <td>17.268010</td>\n",
       "    </tr>\n",
       "    <tr>\n",
       "      <th>3</th>\n",
       "      <td>Pyrimidines</td>\n",
       "      <td>Yes</td>\n",
       "      <td>14.401952</td>\n",
       "    </tr>\n",
       "    <tr>\n",
       "      <th>4</th>\n",
       "      <td>Purines</td>\n",
       "      <td>Yes</td>\n",
       "      <td>14.401952</td>\n",
       "    </tr>\n",
       "    <tr>\n",
       "      <th>5</th>\n",
       "      <td>Protein (Asp)</td>\n",
       "      <td>No</td>\n",
       "      <td>37.746777</td>\n",
       "    </tr>\n",
       "    <tr>\n",
       "      <th>6</th>\n",
       "      <td>Efflux (Asn)</td>\n",
       "      <td>No</td>\n",
       "      <td>0.000000</td>\n",
       "    </tr>\n",
       "    <tr>\n",
       "      <th>7</th>\n",
       "      <td>Protein (Asn)</td>\n",
       "      <td>No</td>\n",
       "      <td>23.332855</td>\n",
       "    </tr>\n",
       "    <tr>\n",
       "      <th>8</th>\n",
       "      <td>Pyrimidines</td>\n",
       "      <td>No</td>\n",
       "      <td>19.460184</td>\n",
       "    </tr>\n",
       "    <tr>\n",
       "      <th>9</th>\n",
       "      <td>Purines</td>\n",
       "      <td>No</td>\n",
       "      <td>19.460184</td>\n",
       "    </tr>\n",
       "  </tbody>\n",
       "</table>\n",
       "</div>"
      ],
      "text/plain": [
       "            Fate Asn efflux    Percent\n",
       "0  Protein (Asp)        Yes  27.935361\n",
       "1   Efflux (Asn)        Yes  25.992724\n",
       "2  Protein (Asn)        Yes  17.268010\n",
       "3    Pyrimidines        Yes  14.401952\n",
       "4        Purines        Yes  14.401952\n",
       "5  Protein (Asp)         No  37.746777\n",
       "6   Efflux (Asn)         No   0.000000\n",
       "7  Protein (Asn)         No  23.332855\n",
       "8    Pyrimidines         No  19.460184\n",
       "9        Purines         No  19.460184"
      ]
     },
     "execution_count": 2,
     "metadata": {},
     "output_type": "execute_result"
    }
   ],
   "source": [
    "plot_df = pd.read_excel('asp_fate_plotting.xlsx')\n",
    "plot_df"
   ]
  },
  {
   "cell_type": "code",
   "execution_count": null,
   "metadata": {},
   "outputs": [],
   "source": []
  },
  {
   "cell_type": "code",
   "execution_count": 3,
   "metadata": {},
   "outputs": [
    {
     "data": {
      "image/png": "[encoded data removed]",
      "text/plain": [
       "<Figure size 360x338.4 with 1 Axes>"
      ]
     },
     "metadata": {},
     "output_type": "display_data"
    }
   ],
   "source": [
    "fig, ax1 = plt.subplots(1, 1, figsize=(5, 4.7))\n",
    "\n",
    "g1 = sns.barplot(ax=ax1, x=\"Fate\", y=\"Percent\", hue=\"Asn efflux\", data=plot_df, capsize=.1, errwidth=2, edgecolor='black', linewidth=2, alpha=0.7)\n",
    "\n",
    "g1.grid(True, axis='y')\n",
    "g1.set_ylabel('Percent of total (%)');\n",
    "g1.set_xlabel('Aspartate fate');\n",
    "g1.set_xticklabels(g1.get_xticklabels(), rotation=35);\n",
    "\n",
    "fig.tight_layout()\n",
    "fig.savefig('asp_fate.pdf')"
   ]
  },
  {
   "cell_type": "code",
   "execution_count": null,
   "metadata": {},
   "outputs": [],
   "source": []
  },
  {
   "cell_type": "code",
   "execution_count": null,
   "metadata": {},
   "outputs": [],
   "source": []
  },
  {
   "cell_type": "code",
   "execution_count": null,
   "metadata": {},
   "outputs": [],
   "source": []
  },
  {
   "cell_type": "code",
   "execution_count": 5,
   "metadata": {},
   "outputs": [
    {
     "data": {
      "text/html": [
       "<div>\n",
       "<style scoped>\n",
       "    .dataframe tbody tr th:only-of-type {\n",
       "        vertical-align: middle;\n",
       "    }\n",
       "\n",
       "    .dataframe tbody tr th {\n",
       "        vertical-align: top;\n",
       "    }\n",
       "\n",
       "    .dataframe thead th {\n",
       "        text-align: right;\n",
       "    }\n",
       "</style>\n",
       "<table border=\"1\" class=\"dataframe\">\n",
       "  <thead>\n",
       "    <tr style=\"text-align: right;\">\n",
       "      <th></th>\n",
       "      <th>Fate</th>\n",
       "      <th>Flux</th>\n",
       "      <th>Percent</th>\n",
       "    </tr>\n",
       "  </thead>\n",
       "  <tbody>\n",
       "    <tr>\n",
       "      <th>0</th>\n",
       "      <td>Protein (Arg)</td>\n",
       "      <td>2.881181</td>\n",
       "      <td>23.742378</td>\n",
       "    </tr>\n",
       "    <tr>\n",
       "      <th>1</th>\n",
       "      <td>Protein (Asp)</td>\n",
       "      <td>2.585267</td>\n",
       "      <td>21.303902</td>\n",
       "    </tr>\n",
       "    <tr>\n",
       "      <th>2</th>\n",
       "      <td>Protein (Asn)</td>\n",
       "      <td>1.598061</td>\n",
       "      <td>13.168829</td>\n",
       "    </tr>\n",
       "    <tr>\n",
       "      <th>3</th>\n",
       "      <td>Pyrimidines</td>\n",
       "      <td>1.332823</td>\n",
       "      <td>10.983133</td>\n",
       "    </tr>\n",
       "    <tr>\n",
       "      <th>4</th>\n",
       "      <td>Purines</td>\n",
       "      <td>1.332823</td>\n",
       "      <td>10.983133</td>\n",
       "    </tr>\n",
       "    <tr>\n",
       "      <th>5</th>\n",
       "      <td>Efflux (Asn)*</td>\n",
       "      <td>2.405026</td>\n",
       "      <td>19.818627</td>\n",
       "    </tr>\n",
       "  </tbody>\n",
       "</table>\n",
       "</div>"
      ],
      "text/plain": [
       "            Fate      Flux    Percent\n",
       "0  Protein (Arg)  2.881181  23.742378\n",
       "1  Protein (Asp)  2.585267  21.303902\n",
       "2  Protein (Asn)  1.598061  13.168829\n",
       "3    Pyrimidines  1.332823  10.983133\n",
       "4        Purines  1.332823  10.983133\n",
       "5  Efflux (Asn)*  2.405026  19.818627"
      ]
     },
     "execution_count": 5,
     "metadata": {},
     "output_type": "execute_result"
    }
   ],
   "source": [
    "plot_df = pd.read_excel('asp_fate2_plotting.xlsx')\n",
    "plot_df"
   ]
  },
  {
   "cell_type": "code",
   "execution_count": 28,
   "metadata": {},
   "outputs": [
    {
     "data": {
      "image/png": "[encoded data removed]",
      "text/plain": [
       "<Figure size 288x374.4 with 1 Axes>"
      ]
     },
     "metadata": {},
     "output_type": "display_data"
    }
   ],
   "source": [
    "fig, ax1 = plt.subplots(1, 1, figsize=(4, 5.2))\n",
    "\n",
    "#g1 = sns.barplot(ax=ax1, x=\"Fate\", y=\"Flux\", hue=\"Asn efflux\", data=plot_df, capsize=.1, errwidth=2, edgecolor='black', linewidth=2, alpha=0.7)\n",
    "pal = list(sns.color_palette())\n",
    "pal[5] = pal[7]\n",
    "g1 = sns.barplot(ax=ax1, x=\"Fate\", y=\"Flux\", data=plot_df, capsize=.1, errwidth=2, edgecolor='black', linewidth=2, alpha=0.7, palette=pal)\n",
    "\n",
    "g1.grid(True, axis='y')\n",
    "g1.set_ylabel('Flux (mM/h)');\n",
    "g1.set_xlabel('Aspartate fate');\n",
    "g1.set_xticklabels(g1.get_xticklabels(), rotation=45, ha='right', rotation_mode='anchor');\n",
    "\n",
    "fig.tight_layout()\n",
    "fig.savefig('asp_fate2.pdf')"
   ]
  },
  {
   "cell_type": "code",
   "execution_count": null,
   "metadata": {},
   "outputs": [],
   "source": []
  },
  {
   "cell_type": "code",
   "execution_count": null,
   "metadata": {},
   "outputs": [],
   "source": []
  },
  {
   "cell_type": "code",
   "execution_count": null,
   "metadata": {},
   "outputs": [],
   "source": []
  },
  {
   "cell_type": "code",
   "execution_count": null,
   "metadata": {},
   "outputs": [],
   "source": []
  }
 ],
 "metadata": {
  "kernelspec": {
   "display_name": "Python 3",
   "language": "python",
   "name": "python3"
  },
  "language_info": {
   "codemirror_mode": {
    "name": "ipython",
    "version": 3
   },
   "file_extension": ".py",
   "mimetype": "text/x-python",
   "name": "python",
   "nbconvert_exporter": "python",
   "pygments_lexer": "ipython3",
   "version": "3.8.5"
  }
 },
 "nbformat": 4,
 "nbformat_minor": 2
}
