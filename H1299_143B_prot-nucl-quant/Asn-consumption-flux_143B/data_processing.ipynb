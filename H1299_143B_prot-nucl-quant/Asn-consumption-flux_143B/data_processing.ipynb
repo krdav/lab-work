{
 "cells": [
  {
   "cell_type": "code",
   "execution_count": 1,
   "metadata": {},
   "outputs": [],
   "source": [
    "import sys, os, re, copy\n",
    "import dill as pickle # this serializes all the functions inside the quantification dict\n",
    "import numpy as np\n",
    "import scipy as sp\n",
    "from scipy.optimize import newton, minimize, fsolve\n",
    "import pandas as pd\n",
    "import matplotlib.pyplot as plt\n",
    "import matplotlib.backends.backend_pdf\n",
    "import matplotlib.colors as mcolors\n",
    "import matplotlib.ticker as ticker\n",
    "from matplotlib.gridspec import GridSpec\n",
    "palette = list(mcolors.TABLEAU_COLORS.keys())\n",
    "%matplotlib inline\n",
    "import seaborn as sns\n",
    "sns.set_style(\"whitegrid\", {\n",
    " 'axes.spines.bottom': True,\n",
    " 'axes.spines.left': True,\n",
    " 'axes.spines.right': True,\n",
    " 'axes.spines.top': True\n",
    "})\n",
    "sns.set(font_scale=1)\n",
    "palette = list(mcolors.TABLEAU_COLORS.keys())\n",
    "sns.set_theme(style=\"ticks\", palette=\"muted\")\n",
    "sns.set_context(\"talk\")"
   ]
  },
  {
   "cell_type": "code",
   "execution_count": null,
   "metadata": {},
   "outputs": [],
   "source": []
  },
  {
   "cell_type": "markdown",
   "metadata": {},
   "source": [
    "# 13C4 Asn uptake in 143B cells\n",
    "In this notebook I will process and plot data from an experiment were I quantified amino acid uptake from media over time to determine the total aspartate consumption flux.\n",
    "\n",
    "\n",
    "\n",
    "### How to calculate flux\n",
    "For cell count ($y$), the cell counts over time is defined as an exponential function ($y(t)$) with proliferation rate $K$ and cell count at $t=0$ being $y_0$:\n",
    "$$\n",
    "y(t) = y_0 2^{K t}\n",
    "$$\n",
    "\n",
    "If we assume that amino acid uptake into a cell is constant, the uptake rate (also called influx) can be defined as the total molar uptake over at time range divided by the total area under the cell count curve over the same time range.\n",
    "\n",
    "Formally, with $F_i$ being the influx and $n(t)$ being the molar quantity of a compound $i$, and $t_1$ and $t_2$ first and second timepoint, respectively, defining the time range:\n",
    "$$\n",
    "F_i = \\frac{n_i(t_1) - n_i(t_2)}{\\int_{t_1}^{t_2} y(t) dt}\n",
    "$$\n",
    "\n",
    "Using $\\Delta$ to indicate we can simplify the above:\n",
    "$$\n",
    "F_i = \\frac{\\Delta n_i}{\\int_{t_1}^{t_2} y(t) dt} = \\frac{\\Delta n_i}{\\frac{y_0 2^{K t_2}}{K\\ \\text{ln}(2)} - \\frac{y_0 2^{K t_1}}{K\\ \\text{ln}(2)}} = \\frac{\\Delta n_i}{\\frac{y_0 (2^{K t_2} - 2^{K t_1})}{K\\ \\text{ln}(2)}}\n",
    "$$\n",
    "The denominator is equal to the area under the cell count curve over the same time range ($t_1$ to $t_2$), this is sometimes referred to as \"cell hours\" becuase of its unit is time, typically in hours.\n",
    "\n",
    "Using cell hours it is possible to calculate the molar quantity taken up per cell per hour, typically as: $\\frac{\\text{fmol}}{\\text{cell}\\times h}$.\n",
    "However, this makes it hard to compare accross cell lines because of variability in cell size. To fix this, simply redefine the problem from integrating the area under the cell count curve to the area under the volumne increase curve.\n",
    "This is trivial using a volume per cell multiplier ($V_c$):\n",
    "$$\n",
    "V(t) = y(t) V_c = V_c y_0 2^{t K}\n",
    "$$\n",
    "\n",
    "Since $V_c$ is indenpendent of time, it is not integrated and we get:\n",
    "$$\n",
    "F_i = \\frac{\\Delta n_i}{\\frac{V_c y_0 (2^{K t_2} - 2^{K t_1})}{K\\ \\text{ln}(2)}}\n",
    "$$\n",
    "\n",
    "Since $V_c$ is a volume, we have a denominator with typical unit of $\\frac{L}{h}$.\n",
    "We could call this \"volume hours\", and dividing the molar quantity onto this we get the typical unit of $\\frac{\\text{mM}}{h}$ which is comparable accross cell lines with different sizes.\n",
    "\n",
    "Sometimes it can be usefull to convert the influx of a compound to the intracellular concentration of the compound.\n",
    "In doing this we assume that the influxed compound is passively accumulating inside the cell and this can be a reasonable assumption when looking at for instance essential amino acids.\n",
    "For example take leucine, by adding the amount of free leucine with that bound in protein it should correspond to that being taken up through influx as it is neither synthesized nor broken down.\n",
    "To convert flux to cell concentration for compound $i$ observe the following rearrangement of above:\n",
    "$$\n",
    "F_i = K\\ \\text{ln}(2) \\frac{\\Delta n_i}{V_c y_0 (2^{K t_2} - 2^{K t_1})}\n",
    "$$\n",
    "\n",
    "The fraction is the molar quantity of consumed compound $i$ divided by the accumulation of cell volume i.e. the intracellular concentration of compound $i$ ($C_i$).\n",
    "Thus we have:\n",
    "$$\n",
    "F_i = K\\ \\text{ln}(2) C_i => C_i = \\frac{F_i}{K\\ \\text{ln}(2)}\n",
    "$$\n",
    "\n"
   ]
  },
  {
   "cell_type": "code",
   "execution_count": null,
   "metadata": {},
   "outputs": [],
   "source": []
  },
  {
   "cell_type": "code",
   "execution_count": null,
   "metadata": {},
   "outputs": [],
   "source": []
  },
  {
   "cell_type": "code",
   "execution_count": null,
   "metadata": {},
   "outputs": [],
   "source": []
  },
  {
   "cell_type": "code",
   "execution_count": 2,
   "metadata": {},
   "outputs": [],
   "source": [
    "AAcode = {\n",
    "    'Alanine': 'Ala',\n",
    "    'Arginine': 'Arg',\n",
    "    'Asparagine': 'Asn',\n",
    "    'Asparagine-13C4': '*Asn',\n",
    "    'Aspartate': 'Asp',\n",
    "    'Glutamate': 'Glu',\n",
    "    'Glutamine': 'Gln',\n",
    "    'Glycine': 'Gly',\n",
    "    'Isoleucine': 'Ile',\n",
    "    'Leucine': 'Leu',\n",
    "    'Lysine': 'Lys',\n",
    "    'Methionine': 'Met',\n",
    "    'Phenylalanine': 'Phe',\n",
    "    'Proline': 'Pro',\n",
    "    'Serine': 'Ser',\n",
    "    'Threonine': 'Thr',\n",
    "    'Tryptophan': 'Trp',\n",
    "    'Tyrosine': 'Tyr',\n",
    "    'Valine': 'Val'}\n",
    "\n",
    "AA_protMW = {\n",
    "'Aspartate': 115.08742,\n",
    "'Asparagine': 114.10262,\n",
    "'Arginine': 156.18572,\n",
    "'Glycine': 57.05132,\n",
    "'Glutamate': 129.11402,\n",
    "'Tyrosine': 163.17322,\n",
    "'Histidine': 137.13932,\n",
    "'Glutamine': 128.12922,\n",
    "'Serine': 87.07732,\n",
    "'Proline': 97.11522,\n",
    "'Threonine': 101.10392,\n",
    "'Tryptophan': 186.20992,\n",
    "'Lysine': 128.17232,\n",
    "'Methionine': 131.19602,\n",
    "'Leucine': 113.15762,\n",
    "'Cysteine': 103.14292,\n",
    "'Valine': 99.13102,\n",
    "'Phenylalanine': 147.17382,\n",
    "'Isoleucine': 113.15762,\n",
    "'Alanine': 71.07792\n",
    "}"
   ]
  },
  {
   "cell_type": "code",
   "execution_count": 3,
   "metadata": {},
   "outputs": [],
   "source": [
    "def impute_conc(piece_wise_fit_metab, response_ratio):\n",
    "    '''\n",
    "    This function imputes the concentration from a response ratio.\n",
    "    '''\n",
    "    response_ratio_range = np.array(list(piece_wise_fit_metab.keys()))\n",
    "    mask_range = [response_ratio >= min_v and response_ratio <= max_v for max_v, min_v in response_ratio_range]\n",
    "    k = tuple(response_ratio_range[mask_range][0])\n",
    "    conc = piece_wise_fit_metab[k](response_ratio)\n",
    "    estimator = 'intrapolation'\n",
    "    if 0 in k:\n",
    "        estimator = 'extrapolation under'\n",
    "    elif np.inf in k:\n",
    "        estimator = 'extrapolation over'\n",
    "    return(conc, estimator)"
   ]
  },
  {
   "cell_type": "code",
   "execution_count": null,
   "metadata": {},
   "outputs": [],
   "source": []
  },
  {
   "cell_type": "code",
   "execution_count": null,
   "metadata": {},
   "outputs": [],
   "source": []
  },
  {
   "cell_type": "code",
   "execution_count": null,
   "metadata": {},
   "outputs": [],
   "source": []
  },
  {
   "cell_type": "markdown",
   "metadata": {},
   "source": [
    "### Calculate quantities and fluxes"
   ]
  },
  {
   "cell_type": "code",
   "execution_count": 4,
   "metadata": {},
   "outputs": [],
   "source": [
    "### Read quantification function ###\n",
    "dict_pickle_fnam = 'input/AA-quant_oct_20.pickle'\n",
    "with open(dict_pickle_fnam, 'rb') as handle:\n",
    "    piece_wise_fit_AA = pickle.load(handle)\n",
    "# Merge the two quantitation dictionaries:\n",
    "piece_wise_fit_quant = {**piece_wise_fit_AA}\n",
    "# Quant labelled Asn the same:\n",
    "piece_wise_fit_quant['Asparagine-13C4 pos'] = piece_wise_fit_quant['Asparagine pos']\n",
    "\n",
    "### Read measurements ###\n",
    "### Replace all N/F with 0 before start ###\n",
    "esheet_dict_mes = pd.read_excel('input/Asn_uptake-to-flux_oct20.xlsx', sheet_name=None)\n",
    "annotation_df = pd.read_excel('input/annotations.xlsx')\n",
    "metab_dict_mes = dict()\n",
    "metab_names_mes = list()\n",
    "for k in esheet_dict_mes.keys():\n",
    "    if 'U-13C' not in k:\n",
    "        metab_names_mes.append(k)\n",
    "        metab_dict_mes[k] = copy.deepcopy(esheet_dict_mes[k])\n",
    "        metab_dict_mes[k]['Response Ratio'] = metab_dict_mes[k]['Area'] / metab_dict_mes[k]['ISTD Response']\n",
    "        metab_dict_mes[k]['Response Ratio'] = metab_dict_mes[k]['Response Ratio'].fillna(0).replace(np.inf, 0)\n",
    "        # CAA was reconstituted in 400 uL instead of 500 uL\n",
    "        # CAA peak will then be 5/4 times what it should be\n",
    "        ## RR will then be 4/5 of what it should be\n",
    "        # Correction factor: 5/4\n",
    "        metab_dict_mes[k]['Response Ratio'] = metab_dict_mes[k]['Response Ratio']# * 5/4\n",
    "        metab_dict_mes[k]['Sample_name'] = [fn.split('_')[-2]+'_'+fn.split('_')[-1] for fn in metab_dict_mes[k]['Filename']]\n",
    "        # Add annotations:\n",
    "        metab_dict_mes[k] = metab_dict_mes[k].merge(annotation_df, left_on='Sample_name', right_on='Sample_name')\n",
    "        metab_dict_mes[k] = metab_dict_mes[k].drop(['Filename', 'Type', 'RT', 'Height', 'S/N', 'Sample ID', 'ISTD Response'], axis=1)\n",
    "\n",
    "### Impute concentration and add to metabolite dataframe ###\n",
    "rr_mes = dict() # for plotting \n",
    "imp_conc_mes = dict() # for plotting\n",
    "for metab in metab_names_mes[:]:\n",
    "    # Assign imputed concentration:\n",
    "    if metab in piece_wise_fit_quant:\n",
    "        conc_list = list()\n",
    "        estimator_list = list()\n",
    "        for rr in metab_dict_mes[metab]['Response Ratio'].values:\n",
    "            conc, estimator = impute_conc(piece_wise_fit_quant[metab], rr)\n",
    "            conc_list.append(conc)\n",
    "            estimator_list.append(estimator)\n",
    "        metab_dict_mes[metab]['imputed_sample_conc'] = conc_list\n",
    "        metab_dict_mes[metab]['imputed_sample_estimator'] = estimator_list\n",
    "\n",
    "        # Extract data for plotting:\n",
    "        if metab in rr_mes:\n",
    "            rr_mes[metab].extend(list(metab_dict_mes[metab]['Response Ratio'].values))\n",
    "            imp_conc_mes[metab].extend(list(metab_dict_mes[metab]['imputed_sample_conc'].values))\n",
    "        else:\n",
    "            rr_mes[metab] = list(metab_dict_mes[metab]['Response Ratio'].values)\n",
    "            imp_conc_mes[metab] = list(metab_dict_mes[metab]['imputed_sample_conc'].values)"
   ]
  },
  {
   "cell_type": "code",
   "execution_count": 5,
   "metadata": {},
   "outputs": [],
   "source": [
    "# Convert to media concentration and flux:\n",
    "for metab in metab_names_mes:\n",
    "    mask = metab_dict_mes[metab]['intracellular'] == False\n",
    "    if metab in piece_wise_fit_quant:\n",
    "        metab_dict_mes[metab]['undil_sample_conc'] = 0\n",
    "        metab_dict_mes[metab].loc[mask, 'undil_sample_conc'] = metab_dict_mes[metab][mask]['imputed_sample_conc'] / metab_dict_mes[metab][mask]['dilution_factor']\n",
    "        metab_dict_mes[metab]['pmol'] = 0\n",
    "        metab_dict_mes[metab].loc[mask, 'pmol'] = metab_dict_mes[metab][mask]['undil_sample_conc'] * metab_dict_mes[metab][mask]['Media_vol']\n",
    "        blank_pmol = metab_dict_mes[metab][metab_dict_mes[metab]['Time'] == 0]['undil_sample_conc'] * metab_dict_mes[metab][metab_dict_mes[metab]['Time'] == 0]['Media_vol_t0']\n",
    "        metab_dict_mes[metab]['nmol_depleted'] = 0\n",
    "        mask_10 = metab_dict_mes[metab]['Time'] == 10\n",
    "        mask_24 = metab_dict_mes[metab]['Time'] == 24\n",
    "        metab_dict_mes[metab].loc[mask_10&mask, 'nmol_depleted'] = (blank_pmol.values - metab_dict_mes[metab][mask_10&mask]['pmol'].values) * 1e-3\n",
    "        metab_dict_mes[metab].loc[mask_24&mask, 'nmol_depleted'] = (blank_pmol.values - metab_dict_mes[metab][mask_24&mask]['pmol'].values) * 1e-3\n",
    "        # Influx in mM/h:\n",
    "        metab_dict_mes[metab]['Influx'] = 0\n",
    "        metab_dict_mes[metab].loc[mask, 'Influx'] = metab_dict_mes[metab][mask]['nmol_depleted'] / metab_dict_mes[metab][mask]['vol_hour'] * 1e-6\n",
    "#        if metab == 'Asparagine-13C4 pos':\n",
    "#            metab_dict_mes[metab].loc[mask, 'Influx'] = metab_dict_mes[metab].loc[mask, 'Influx'] / metab_dict_mes[metab].loc[mask, 'Asn_X'] - metab_dict_mes['Asparagine pos'].loc[mask, 'Influx']\n",
    "        # Total accumulated concentration:\n",
    "        metab_dict_mes[metab]['Total conc.'] = 0\n",
    "        metab_dict_mes[metab].loc[mask, 'Total conc.'] = metab_dict_mes[metab][mask]['nmol_depleted'] / metab_dict_mes[metab][mask]['vol_accum'] * 1e-6\n",
    "#        if metab == 'Asparagine-13C4 pos':\n",
    "#            metab_dict_mes[metab].loc[mask, 'Total conc.'] = metab_dict_mes[metab].loc[mask, 'Total conc.'] / metab_dict_mes[metab].loc[mask, 'Asn_X']\n",
    "\n",
    "### Extract all metabolites for quantification - imputed conc. ###\n",
    "df_imp = copy.deepcopy(metab_dict_mes[metab_names_mes[0]]).drop(['Compound', 'Formula', 'Response Ratio', 'Area', 'imputed_sample_conc', 'imputed_sample_estimator', 'undil_sample_conc', 'pmol', 'nmol_depleted', 'Influx', 'Total conc.', 'Asn_X'], axis=1)\n",
    "for metab in metab_names_mes:\n",
    "    if metab in piece_wise_fit_quant:\n",
    "        assert(metab_dict_mes[metab]['Sample_name'].equals(df_imp['Sample_name']))\n",
    "        df_imp[metab] = metab_dict_mes[metab]['imputed_sample_conc']\n",
    "# Save data in Excel file (mM):\n",
    "df_imp.to_excel('output/imputed-conc.xlsx', index=False)"
   ]
  },
  {
   "cell_type": "code",
   "execution_count": 6,
   "metadata": {},
   "outputs": [],
   "source": [
    "### Extract all metabolites for quantification - flux ###\n",
    "df_flux = copy.deepcopy(metab_dict_mes[metab_names_mes[0]]).drop(['Compound', 'Formula', 'Response Ratio', 'Area', 'imputed_sample_conc', 'imputed_sample_estimator', 'undil_sample_conc', 'pmol', 'nmol_depleted', 'Influx', 'dilution_factor', 'vol_hour', 'Media_vol', 'vol_accum', 'Total conc.', 'Media_vol_t0'], axis=1)\n",
    "for metab in metab_names_mes:\n",
    "    if metab in piece_wise_fit_quant:\n",
    "        assert(metab_dict_mes[metab]['Sample_name'].equals(df_flux['Sample_name']))\n",
    "        df_flux[metab] = metab_dict_mes[metab]['Influx']\n",
    "\n",
    "# Asn consumption flux towards protein synthesis:\n",
    "df_flux['J_Asn_prot'] = -df_flux['Asparagine-13C4 pos'] / df_flux['Asn_X']\n",
    "# Asn efflux, if no asparagine in media:\n",
    "df_flux['J_allAsn_out'] = df_flux['Asparagine pos'] / (1 - df_flux['Asn_X'])\n",
    "# Save data in Excel file (mM/h):\n",
    "df_flux.to_excel('output/influx.xlsx', index=False)"
   ]
  },
  {
   "cell_type": "code",
   "execution_count": 7,
   "metadata": {},
   "outputs": [],
   "source": [
    "### Extract all metabolites for quantification - accumulated cell conc. ###\n",
    "df_acc = copy.deepcopy(metab_dict_mes[metab_names_mes[0]]).drop(['Compound', 'Formula', 'Response Ratio', 'Area', 'imputed_sample_conc', 'imputed_sample_estimator', 'undil_sample_conc', 'pmol', 'nmol_depleted', 'Influx', 'dilution_factor', 'vol_hour', 'Media_vol', 'vol_accum', 'Total conc.', 'Media_vol_t0'], axis=1)\n",
    "for metab in metab_names_mes:\n",
    "    if metab in piece_wise_fit_quant:\n",
    "        assert(metab_dict_mes[metab]['Sample_name'].equals(df_acc['Sample_name']))\n",
    "        df_acc[metab] = metab_dict_mes[metab]['Total conc.']\n",
    "\n",
    "# Asn accumulated cell conc. towards protein synthesis:\n",
    "df_acc['Asn_prot'] = -df_acc['Asparagine-13C4 pos'] / df_acc['Asn_X']\n",
    "# Asn accumulated cell conc. towards efflux, if no asparagine in media:\n",
    "df_acc['allAsn_out'] = df_acc['Asparagine pos'] / (1 - df_acc['Asn_X'])\n",
    "# Save data in Excel file (mM):\n",
    "df_acc.to_excel('output/total-cell-conc.xlsx', index=False)"
   ]
  },
  {
   "cell_type": "code",
   "execution_count": null,
   "metadata": {},
   "outputs": [],
   "source": []
  },
  {
   "cell_type": "code",
   "execution_count": null,
   "metadata": {},
   "outputs": [],
   "source": []
  },
  {
   "cell_type": "code",
   "execution_count": null,
   "metadata": {},
   "outputs": [],
   "source": []
  },
  {
   "cell_type": "code",
   "execution_count": null,
   "metadata": {},
   "outputs": [],
   "source": []
  },
  {
   "cell_type": "code",
   "execution_count": null,
   "metadata": {},
   "outputs": [],
   "source": []
  },
  {
   "cell_type": "code",
   "execution_count": null,
   "metadata": {},
   "outputs": [],
   "source": []
  },
  {
   "cell_type": "markdown",
   "metadata": {},
   "source": [
    "### Plot data - influx\n",
    "Note that \\*Asn is equivalent to net asparagine flux into cell material i.e. ASNS flux if asparagine could not be taken up or released from the cell."
   ]
  },
  {
   "cell_type": "code",
   "execution_count": 8,
   "metadata": {},
   "outputs": [],
   "source": [
    "# Rename to three letter amino acid code,\n",
    "# Sort according to highest influx at 25 h\n",
    "df_flux.columns = [v.split()[0] for v in df_flux.columns.values]\n",
    "df_flux = df_flux.rename(columns=AAcode)\n",
    "# Sort:\n",
    "df_mean = df_flux.groupby(['Time', 'intracellular']).mean(numeric_only=True).reset_index()\n",
    "col_sele = df_mean.columns.values[1:]\n",
    "sort_mask = df_mean.loc[1, col_sele].sort_values(ascending=False).index.values\n",
    "sort_mask = np.concatenate([['Time'], sort_mask])\n",
    "df_sort = df_flux.loc[:, sort_mask]\n",
    "# Remove t=0:\n",
    "time_mask = (df_sort['Time'] > 0) & (df_sort['intracellular'] == False)\n",
    "df_sort = df_sort[time_mask]\n",
    "# Flatten for plotting:\n",
    "df_melt = df_sort.melt(id_vars=['Time', 'intracellular'], var_name='Amino acid', value_name='Flux')"
   ]
  },
  {
   "cell_type": "code",
   "execution_count": 9,
   "metadata": {},
   "outputs": [
    {
     "data": {
      "image/png": "[encoded data removed]",
      "text/plain": [
       "<Figure size 864x316.8 with 2 Axes>"
      ]
     },
     "metadata": {},
     "output_type": "display_data"
    }
   ],
   "source": [
    "### Plot the influx ###\n",
    "fig, (ax1, ax2) = plt.subplots(1, 2, figsize=(12, 4.4), gridspec_kw={'width_ratios': [1, 8]})\n",
    "\n",
    "# Small plot for Gln/Glu:\n",
    "mask = df_melt['Amino acid'].isin(['Gln', 'Glu'])\n",
    "g1 = sns.barplot(ax=ax1, x=\"Amino acid\", y=\"Flux\", hue=\"Time\", data=df_melt[mask], capsize=.1, errwidth=2, edgecolor='black', linewidth=2, alpha=0.7)\n",
    "ax1.axhline(y=0, linestyle='-', zorder=1, linewidth=2, color='#444444')\n",
    "g1.grid(True, axis='y')\n",
    "#g1.set_yscale('log')\n",
    "g1.set_ylabel('Influx (mM/h)');\n",
    "g1.set_xlabel('');\n",
    "g1.legend_.remove()\n",
    "g1.set_xticklabels(g1.get_xticklabels(), rotation=0)\n",
    "\n",
    "# Plot the all other AAs:\n",
    "mask2 = (df_melt['intracellular'] == False) & (df_melt['Amino acid'].isin(list(AAcode.values())))\n",
    "g2 = sns.barplot(ax=ax2, x=\"Amino acid\", y=\"Flux\", hue=\"Time\", data=df_melt[~mask&mask2], capsize=.1, errwidth=2, edgecolor='black', linewidth=2, alpha=0.7)\n",
    "ax2.axhline(y=0, linestyle='-', zorder=1, linewidth=2, color='#444444')\n",
    "g2.grid(True, axis='y')\n",
    "g2.set_ylabel('Influx (mM/h)');\n",
    "g2.set_xlabel('');\n",
    "g2.set_xticklabels(g2.get_xticklabels(), rotation=0);\n",
    "#g2.set_ylim([-1.4, 5.6])\n",
    "#g2.yaxis.set_major_locator(ticker.MultipleLocator(1))\n",
    "\n",
    "# Add legend:\n",
    "old_legend = g2.legend_\n",
    "handles = old_legend.legendHandles\n",
    "labels = ['10 h', '24 h']\n",
    "title = 'Sampling time'\n",
    "g2.legend(handles, labels, title=title);\n",
    "\n",
    "# Show/save:\n",
    "fig.tight_layout()\n",
    "fig.savefig('output/influx.pdf')"
   ]
  },
  {
   "cell_type": "code",
   "execution_count": null,
   "metadata": {},
   "outputs": [],
   "source": []
  },
  {
   "cell_type": "code",
   "execution_count": 10,
   "metadata": {},
   "outputs": [
    {
     "data": {
      "image/png": "[encoded data removed]",
      "text/plain": [
       "<Figure size 360x316.8 with 1 Axes>"
      ]
     },
     "metadata": {},
     "output_type": "display_data"
    }
   ],
   "source": [
    "### Plot the Asn consumption flux ###\n",
    "fig, ax1 = plt.subplots(1, 1, figsize=(5, 4.4))\n",
    "\n",
    "mask3 = (df_melt['Amino acid'] != 'Asn_X')\n",
    "df_plot = df_melt[~mask&~mask2&mask3].copy()\n",
    "df_plot['Flux'] *= -1\n",
    "df_plot['Amino acid'] = df_plot['Amino acid'].replace({'J_Asn_prot': 'Protein', 'J_allAsn_out': 'Efflux'})\n",
    "g1 = sns.barplot(ax=ax1, x=\"Amino acid\", y=\"Flux\", hue=\"Time\", data=df_plot, capsize=.1, errwidth=2, edgecolor='black', linewidth=2, alpha=0.7)\n",
    "ax1.axhline(y=0, linestyle='-', zorder=1, linewidth=2, color='#444444')\n",
    "g1.grid(True, axis='y')\n",
    "#g1.set_yscale('log')\n",
    "g1.set_ylabel('Asn consump. flux (mM/h)');\n",
    "g1.set_xlabel('');\n",
    "g1.set_xticklabels(g1.get_xticklabels(), rotation=30)\n",
    "\n",
    "# Add legend:\n",
    "old_legend = g1.legend_\n",
    "handles = old_legend.legendHandles\n",
    "labels = ['10 h', '24 h']\n",
    "title = 'Sampling time'\n",
    "g1.legend(handles, labels, title=title, loc='upper left', bbox_to_anchor=(1.05, 1.05));\n",
    "\n",
    "# Show/save:\n",
    "fig.tight_layout()\n",
    "fig.savefig('output/Asn_flux.pdf')"
   ]
  },
  {
   "cell_type": "code",
   "execution_count": null,
   "metadata": {},
   "outputs": [],
   "source": []
  },
  {
   "cell_type": "code",
   "execution_count": null,
   "metadata": {},
   "outputs": [],
   "source": []
  },
  {
   "cell_type": "code",
   "execution_count": null,
   "metadata": {},
   "outputs": [],
   "source": []
  },
  {
   "cell_type": "markdown",
   "metadata": {},
   "source": [
    "### Plot data - total cell concentration"
   ]
  },
  {
   "cell_type": "code",
   "execution_count": 11,
   "metadata": {},
   "outputs": [],
   "source": [
    "# Rename to three letter amino acid code,\n",
    "# Sort according to highest conc. at 25 h\n",
    "df_acc.columns = [v.split()[0] for v in df_acc.columns.values]\n",
    "df_acc = df_acc.rename(columns=AAcode)\n",
    "# Sort:\n",
    "df_mean = df_acc.groupby(['Time', 'intracellular']).mean(numeric_only=True).reset_index()\n",
    "col_sele = df_mean.columns.values[1:]\n",
    "sort_mask = df_mean.loc[1, col_sele].sort_values(ascending=False).index.values\n",
    "sort_mask = np.concatenate([['Time'], sort_mask])\n",
    "df_sort = df_acc.loc[:, sort_mask]\n",
    "# Remove t=0:\n",
    "time_mask = (df_sort['Time'] > 0) & (df_sort['intracellular'] == False)\n",
    "df_sort = df_sort[time_mask]\n",
    "# Flatten for plotting:\n",
    "df_melt = df_sort.melt(id_vars=['Time', 'intracellular'], var_name='Amino acid', value_name='ACC')"
   ]
  },
  {
   "cell_type": "code",
   "execution_count": 12,
   "metadata": {},
   "outputs": [
    {
     "data": {
      "image/png": "[encoded data removed]",
      "text/plain": [
       "<Figure size 864x316.8 with 2 Axes>"
      ]
     },
     "metadata": {},
     "output_type": "display_data"
    }
   ],
   "source": [
    "### Plot the influx ###\n",
    "fig, (ax1, ax2) = plt.subplots(1, 2, figsize=(12, 4.4), gridspec_kw={'width_ratios': [1, 8]})\n",
    "\n",
    "# Small plot for Gln/Glu:\n",
    "mask = df_melt['Amino acid'].isin(['Gln', 'Glu'])\n",
    "g1 = sns.barplot(ax=ax1, x=\"Amino acid\", y=\"ACC\", hue=\"Time\", data=df_melt[mask], capsize=.1, errwidth=2, edgecolor='black', linewidth=2, alpha=0.7)\n",
    "ax1.axhline(y=0, linestyle='-', zorder=1, linewidth=2, color='#444444')\n",
    "g1.grid(True, axis='y')\n",
    "#g1.set_yscale('log')\n",
    "g1.set_ylabel('Total cell conc. (mM)');\n",
    "g1.set_xlabel('');\n",
    "g1.legend_.remove()\n",
    "g1.set_xticklabels(g1.get_xticklabels(), rotation=0)\n",
    "\n",
    "# Plot the all other AAs:\n",
    "mask2 = (df_melt['intracellular'] == False) & (df_melt['Amino acid'].isin(list(AAcode.values())))\n",
    "g2 = sns.barplot(ax=ax2, x=\"Amino acid\", y=\"ACC\", hue=\"Time\", data=df_melt[~mask&mask2], capsize=.1, errwidth=2, edgecolor='black', linewidth=2, alpha=0.7)\n",
    "ax2.axhline(y=0, linestyle='-', zorder=1, linewidth=2, color='#444444')\n",
    "g2.grid(True, axis='y')\n",
    "g2.set_ylabel('Total cell conc. (mM)');\n",
    "g2.set_xlabel('');\n",
    "g2.set_xticklabels(g2.get_xticklabels(), rotation=0);\n",
    "#g2.set_ylim([-1.4, 5.6])\n",
    "#g2.yaxis.set_major_locator(ticker.MultipleLocator(1))\n",
    "\n",
    "# Add legend:\n",
    "old_legend = g2.legend_\n",
    "handles = old_legend.legendHandles\n",
    "labels = ['10 h', '24 h']\n",
    "title = 'Sampling time'\n",
    "g2.legend(handles, labels, title=title);\n",
    "\n",
    "# Show/save:\n",
    "fig.tight_layout()\n",
    "fig.savefig('output/total-cell-conc.pdf')"
   ]
  },
  {
   "cell_type": "code",
   "execution_count": null,
   "metadata": {},
   "outputs": [],
   "source": []
  },
  {
   "cell_type": "code",
   "execution_count": null,
   "metadata": {},
   "outputs": [],
   "source": []
  },
  {
   "cell_type": "code",
   "execution_count": null,
   "metadata": {},
   "outputs": [],
   "source": []
  },
  {
   "cell_type": "code",
   "execution_count": null,
   "metadata": {},
   "outputs": [],
   "source": []
  },
  {
   "cell_type": "code",
   "execution_count": null,
   "metadata": {},
   "outputs": [],
   "source": []
  },
  {
   "cell_type": "code",
   "execution_count": null,
   "metadata": {},
   "outputs": [],
   "source": []
  },
  {
   "cell_type": "code",
   "execution_count": null,
   "metadata": {},
   "outputs": [],
   "source": []
  },
  {
   "cell_type": "code",
   "execution_count": null,
   "metadata": {},
   "outputs": [],
   "source": []
  },
  {
   "cell_type": "code",
   "execution_count": null,
   "metadata": {},
   "outputs": [],
   "source": []
  }
 ],
 "metadata": {
  "kernelspec": {
   "display_name": "Python 3",
   "language": "python",
   "name": "python3"
  },
  "language_info": {
   "codemirror_mode": {
    "name": "ipython",
    "version": 3
   },
   "file_extension": ".py",
   "mimetype": "text/x-python",
   "name": "python",
   "nbconvert_exporter": "python",
   "pygments_lexer": "ipython3",
   "version": "3.8.5"
  }
 },
 "nbformat": 4,
 "nbformat_minor": 2
}
