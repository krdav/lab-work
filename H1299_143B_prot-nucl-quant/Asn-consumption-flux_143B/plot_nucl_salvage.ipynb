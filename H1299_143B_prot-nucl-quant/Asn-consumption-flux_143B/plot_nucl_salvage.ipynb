{
 "cells": [
  {
   "cell_type": "code",
   "execution_count": 2,
   "metadata": {},
   "outputs": [],
   "source": [
    "import pandas as pd\n",
    "import seaborn as sns\n",
    "sns.set_style(\"whitegrid\", {\n",
    " 'axes.spines.bottom': True,\n",
    " 'axes.spines.left': True,\n",
    " 'axes.spines.right': True,\n",
    " 'axes.spines.top': True\n",
    "})\n",
    "sns.set(font_scale=1)\n",
    "#sns.set_style(\"darkgrid\")\n",
    "#sns.set_context(\"poster\")\n",
    "import matplotlib.pyplot as plt\n",
    "import matplotlib.backends.backend_pdf\n",
    "%matplotlib inline\n",
    "import sys\n",
    "import os\n",
    "from scipy.optimize import newton, minimize, fsolve\n",
    "import numpy as np\n",
    "import copy\n",
    "import re\n",
    "\n",
    "import matplotlib.colors as mcolors\n",
    "palette = list(mcolors.TABLEAU_COLORS.keys())\n",
    "palette.extend(['salmon', 'teal','yellowgreen'])"
   ]
  },
  {
   "cell_type": "code",
   "execution_count": null,
   "metadata": {},
   "outputs": [],
   "source": []
  },
  {
   "cell_type": "code",
   "execution_count": null,
   "metadata": {},
   "outputs": [],
   "source": []
  },
  {
   "cell_type": "code",
   "execution_count": 95,
   "metadata": {},
   "outputs": [],
   "source": [
    "df = pd.read_csv('oct30_nucl_salvage_2.tab', sep='\\t')"
   ]
  },
  {
   "cell_type": "code",
   "execution_count": 97,
   "metadata": {},
   "outputs": [
    {
     "data": {
      "image/png": "[encoded data removed]",
      "text/plain": [
       "<Figure size 360x288 with 1 Axes>"
      ]
     },
     "metadata": {},
     "output_type": "display_data"
    }
   ],
   "source": [
    "pdf_plot = matplotlib.backends.backend_pdf.PdfPages('oct30_nucl_salvage_plot.pdf')\n",
    "\n",
    "new_pal = palette[:]\n",
    "new_pal.pop(1)\n",
    "\n",
    "N = 3\n",
    "width = 0.4          # the width of the bars: can also be len(x) sequence\n",
    "ind = dict()\n",
    "ind['ATP'] = np.arange(N)    # the x locations for the groups\n",
    "ind['GTP'] = np.arange(N) + 0.42\n",
    "\n",
    "fig = plt.figure(figsize=(5, 4))\n",
    "ax = fig.add_subplot(1,1,1)\n",
    "plot_objs = []\n",
    "iso_list = []\n",
    "ratio_sum = dict()\n",
    "ratio_sum['ATP'] = np.zeros(N)\n",
    "ratio_sum['GTP'] = np.zeros(N)\n",
    "\n",
    "isotopologues = ['De novo', 'Salvage', 'Other']\n",
    "for i, iso in enumerate(isotopologues):\n",
    "    iso_list.append(iso)\n",
    "    for cmp in ['ATP', 'GTP']:\n",
    "        \n",
    "        df_sele = df[(df['Isotopologue'] == iso) & (df['Compound'] == cmp)]\n",
    "        ratio_iso = df_sele['Ratio'].values\n",
    "        p = ax.barh(ind[cmp], ratio_iso, width, left=ratio_sum[cmp], color=new_pal[i])\n",
    "        ratio_sum[cmp] += ratio_iso\n",
    "    plot_objs.append(p)\n",
    "\n",
    "\n",
    "#plt.title('{}, {} ASNase, {}'.format(compound_name, ASNase, Compartment), size=17)\n",
    "#plt.ylabel('Ratio (%)', size=14)\n",
    "#plt.ylim([0, 100])\n",
    "#plt.xticks(ind, labels)\n",
    "#plt.xticks(rotation=45)\n",
    "\n",
    "#plt.legend([p[1] for p in plot_objs], list(map(str, iso_list)), loc='upper left', bbox_to_anchor=(1.04, 1), borderaxespad=0, fontsize=12, title='Origin', title_fontsize=12)\n",
    "\n",
    "plt.legend([p[1] for p in plot_objs], list(map(str, iso_list)), loc='upper center', bbox_to_anchor=(0.5, -0.05),\n",
    "          fancybox=True, shadow=True, ncol=5, fontsize=12, title='Origin', title_fontsize=12, borderaxespad=1)\n",
    "\n",
    "\n",
    "plt.tight_layout()\n",
    "#plt.close()\n",
    "\n",
    "pdf_plot.savefig(fig)\n",
    "pdf_plot.close()"
   ]
  },
  {
   "cell_type": "code",
   "execution_count": null,
   "metadata": {},
   "outputs": [],
   "source": []
  },
  {
   "cell_type": "code",
   "execution_count": null,
   "metadata": {},
   "outputs": [],
   "source": []
  },
  {
   "cell_type": "code",
   "execution_count": null,
   "metadata": {},
   "outputs": [],
   "source": []
  },
  {
   "cell_type": "code",
   "execution_count": null,
   "metadata": {},
   "outputs": [],
   "source": []
  },
  {
   "cell_type": "code",
   "execution_count": null,
   "metadata": {},
   "outputs": [],
   "source": []
  },
  {
   "cell_type": "code",
   "execution_count": null,
   "metadata": {},
   "outputs": [],
   "source": []
  },
  {
   "cell_type": "code",
   "execution_count": null,
   "metadata": {},
   "outputs": [],
   "source": []
  },
  {
   "cell_type": "code",
   "execution_count": null,
   "metadata": {},
   "outputs": [],
   "source": []
  },
  {
   "cell_type": "code",
   "execution_count": null,
   "metadata": {},
   "outputs": [],
   "source": [
    "df = pd.read_csv('oct30_nucl_salvage_1.tab', sep='\\t')"
   ]
  },
  {
   "cell_type": "code",
   "execution_count": 70,
   "metadata": {},
   "outputs": [
    {
     "data": {
      "image/png": "[encoded data removed]",
      "text/plain": [
       "<Figure size 432x360 with 1 Axes>"
      ]
     },
     "metadata": {
      "needs_background": "light"
     },
     "output_type": "display_data"
    }
   ],
   "source": [
    "pdf_plot = matplotlib.backends.backend_pdf.PdfPages('oct30_nucl_Gln_plot.pdf')\n",
    "\n",
    "new_pal = palette[:]\n",
    "new_pal.pop(1)\n",
    "\n",
    "N = 3\n",
    "width = 0.9          # the width of the bars: can also be len(x) sequence\n",
    "ind = dict()\n",
    "ind['Gln'] = np.arange(N)\n",
    "\n",
    "\n",
    "fig = plt.figure(figsize=(6, 5))\n",
    "ax = fig.add_subplot(1,1,1)\n",
    "plot_objs = []\n",
    "iso_list = []\n",
    "ratio_sum = dict()\n",
    "ratio_sum['Gln'] = np.zeros(N)\n",
    "\n",
    "\n",
    "isotopologues = ['15N0', '15N1']\n",
    "for i, iso in enumerate(isotopologues):\n",
    "    iso_list.append(iso)\n",
    "    for cmp in ['Gln']:\n",
    "        \n",
    "        df_sele = df[(df['Isotopologue'] == iso) & (df['Compound'] == cmp)]\n",
    "        ratio_iso = df_sele['Ratio'].values\n",
    "        p = ax.barh(ind[cmp], ratio_iso, width, left=ratio_sum[cmp], color=new_pal[i])\n",
    "        ratio_sum[cmp] += ratio_iso\n",
    "    plot_objs.append(p)\n",
    "\n",
    "plt.legend([p[1] for p in plot_objs], list(map(str, iso_list)), loc='upper center', bbox_to_anchor=(0.5, -0.05),\n",
    "          fancybox=True, shadow=True, ncol=5, fontsize=12, title='Origin', title_fontsize=12, borderaxespad=1)\n",
    "\n",
    "\n",
    "plt.tight_layout()\n",
    "#plt.close()\n",
    "\n",
    "pdf_plot.savefig(fig)\n",
    "pdf_plot.close()"
   ]
  },
  {
   "cell_type": "code",
   "execution_count": null,
   "metadata": {},
   "outputs": [],
   "source": []
  },
  {
   "cell_type": "code",
   "execution_count": null,
   "metadata": {},
   "outputs": [],
   "source": []
  },
  {
   "cell_type": "code",
   "execution_count": null,
   "metadata": {},
   "outputs": [],
   "source": []
  },
  {
   "cell_type": "code",
   "execution_count": null,
   "metadata": {},
   "outputs": [],
   "source": []
  },
  {
   "cell_type": "code",
   "execution_count": 81,
   "metadata": {},
   "outputs": [],
   "source": [
    "df = pd.read_csv('oct30_nucl_salvage_3.tab', sep='\\t')"
   ]
  },
  {
   "cell_type": "code",
   "execution_count": null,
   "metadata": {},
   "outputs": [],
   "source": []
  },
  {
   "cell_type": "code",
   "execution_count": 90,
   "metadata": {
    "scrolled": true
   },
   "outputs": [
    {
     "data": {
      "image/png": "[encoded data removed]",
      "text/plain": [
       "<Figure size 288x230.4 with 1 Axes>"
      ]
     },
     "metadata": {},
     "output_type": "display_data"
    }
   ],
   "source": [
    "pdf_plot = matplotlib.backends.backend_pdf.PdfPages('oct30_nucl_Hypo_plot.pdf')\n",
    "\n",
    "fig = plt.figure(figsize=(4, 3.2))\n",
    "sns.set(style=\"whitegrid\")\n",
    "g = sns.barplot(y='Area_norm', x='Hypoxanthine (uM)', data=df)\n",
    "#g.set_yscale(\"log\")\n",
    "\n",
    "\n",
    "plt.tight_layout()\n",
    "#plt.close()\n",
    "\n",
    "pdf_plot.savefig(fig)\n",
    "pdf_plot.close()"
   ]
  },
  {
   "cell_type": "code",
   "execution_count": null,
   "metadata": {},
   "outputs": [],
   "source": []
  },
  {
   "cell_type": "code",
   "execution_count": null,
   "metadata": {},
   "outputs": [],
   "source": []
  },
  {
   "cell_type": "code",
   "execution_count": null,
   "metadata": {},
   "outputs": [],
   "source": []
  },
  {
   "cell_type": "code",
   "execution_count": null,
   "metadata": {},
   "outputs": [],
   "source": []
  },
  {
   "cell_type": "code",
   "execution_count": null,
   "metadata": {},
   "outputs": [],
   "source": []
  },
  {
   "cell_type": "code",
   "execution_count": null,
   "metadata": {},
   "outputs": [],
   "source": []
  }
 ],
 "metadata": {
  "kernelspec": {
   "display_name": "Python 3",
   "language": "python",
   "name": "python3"
  },
  "language_info": {
   "codemirror_mode": {
    "name": "ipython",
    "version": 3
   },
   "file_extension": ".py",
   "mimetype": "text/x-python",
   "name": "python",
   "nbconvert_exporter": "python",
   "pygments_lexer": "ipython3",
   "version": "3.7.1"
  }
 },
 "nbformat": 4,
 "nbformat_minor": 2
}
