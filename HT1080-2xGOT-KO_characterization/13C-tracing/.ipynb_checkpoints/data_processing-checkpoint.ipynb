{
 "cells": [
  {
   "cell_type": "code",
   "execution_count": 1,
   "metadata": {},
   "outputs": [],
   "source": [
    "import pandas as pd\n",
    "import seaborn as sns\n",
    "sns.set_style(\"whitegrid\", {\n",
    " 'axes.spines.bottom': True,\n",
    " 'axes.spines.left': True,\n",
    " 'axes.spines.right': True,\n",
    " 'axes.spines.top': True\n",
    "})\n",
    "sns.set(font_scale=1)\n",
    "#sns.set_style(\"darkgrid\")\n",
    "#sns.set_context(\"poster\")\n",
    "import matplotlib.pyplot as plt\n",
    "import matplotlib.backends.backend_pdf\n",
    "%matplotlib inline\n",
    "import sys\n",
    "import os\n",
    "from scipy.optimize import newton, minimize, fsolve\n",
    "import numpy as np\n",
    "import copy\n",
    "import re\n",
    "\n",
    "import matplotlib.colors as mcolors\n",
    "palette = list(mcolors.TABLEAU_COLORS.keys())\n",
    "palette.extend(['salmon', 'teal','yellowgreen'])\n",
    "\n",
    "import random\n",
    "from pyswarm import pso\n",
    "import isocor"
   ]
  },
  {
   "cell_type": "code",
   "execution_count": 2,
   "metadata": {},
   "outputs": [],
   "source": [
    "element_prob_dict = {\n",
    "    'N_natural': 0.00364,\n",
    "    'N_enriched': 0.997774\n",
    "}"
   ]
  },
  {
   "cell_type": "code",
   "execution_count": null,
   "metadata": {},
   "outputs": [],
   "source": []
  },
  {
   "cell_type": "code",
   "execution_count": null,
   "metadata": {},
   "outputs": [],
   "source": []
  },
  {
   "cell_type": "code",
   "execution_count": null,
   "metadata": {},
   "outputs": [],
   "source": []
  },
  {
   "cell_type": "code",
   "execution_count": null,
   "metadata": {},
   "outputs": [],
   "source": []
  },
  {
   "cell_type": "code",
   "execution_count": 4,
   "metadata": {},
   "outputs": [],
   "source": [
    "Sample_names = ['HU01','HU02','HU03','HU04','HU05','HU06']\n",
    "conc = [10, 20, 30, 40, 50, 60]\n",
    "annotation_df = pd.DataFrame(list(zip(Sample_names, conc)), columns =['Sample_name', 'Conc'])"
   ]
  },
  {
   "cell_type": "code",
   "execution_count": null,
   "metadata": {},
   "outputs": [],
   "source": []
  },
  {
   "cell_type": "code",
   "execution_count": 24,
   "metadata": {},
   "outputs": [],
   "source": [
    "### Read measurements\n",
    "\n",
    "### Replace all N/F with 0 before start ###\n",
    "#esheet_dict_mes = pd.read_excel('Uridine-Hypoxanthine_salvage_143B-Nuc-RFP-noArgP10.xlsx', sheet_name=None)\n",
    "esheet_dict_mes = pd.read_excel('Uridine-Hypoxanthine_salvage_H1299.xlsx', sheet_name=None)\n",
    "\n",
    "metab_dict_mes = dict()\n",
    "metab_names_mes = list()\n",
    "for k in esheet_dict_mes.keys():\n",
    "    if 'U-13C' not in k:\n",
    "        metab_names_mes.append(k)\n",
    "        metab_dict_mes[k] = copy.deepcopy(esheet_dict_mes[k]).rename(columns={'Area': 'Response'}).fillna(0)\n",
    "        # If internal standard use response ratio:\n",
    "        ### Turned off\n",
    "        if sum(metab_dict_mes[k]['Response Ratio']) != 0 and False:\n",
    "            metab_dict_mes[k]['Response'] = metab_dict_mes[k]['Response Ratio']\n",
    "        metab_dict_mes[k]['Sample_name'] = [fn.split('_')[-1] for fn in metab_dict_mes[k]['Filename']]\n",
    "        \n",
    "        # Add annotations:\n",
    "        metab_dict_mes[k] = metab_dict_mes[k].merge(annotation_df, left_on='Sample_name', right_on='Sample_name')\n",
    "        metab_dict_mes[k] = metab_dict_mes[k].drop(['Type', 'Filename', 'Response Ratio', 'ISTD Response', 'Flag Details'], axis=1)"
   ]
  },
  {
   "cell_type": "code",
   "execution_count": null,
   "metadata": {},
   "outputs": [],
   "source": []
  },
  {
   "cell_type": "code",
   "execution_count": null,
   "metadata": {},
   "outputs": [],
   "source": []
  },
  {
   "cell_type": "code",
   "execution_count": null,
   "metadata": {},
   "outputs": [],
   "source": []
  },
  {
   "cell_type": "code",
   "execution_count": 26,
   "metadata": {},
   "outputs": [],
   "source": [
    "df = copy.deepcopy(metab_dict_mes[metab_names_mes[0]]).drop(['Compound', 'RT', 'Formula', 'Response'], axis=1)\n",
    "for nam in metab_names_mes:\n",
    "    assert(metab_dict_mes[nam]['Sample_name'].equals(df['Sample_name']))\n",
    "    df[nam] = metab_dict_mes[nam]['Response']"
   ]
  },
  {
   "cell_type": "code",
   "execution_count": null,
   "metadata": {},
   "outputs": [],
   "source": []
  },
  {
   "cell_type": "code",
   "execution_count": null,
   "metadata": {},
   "outputs": [],
   "source": []
  },
  {
   "cell_type": "code",
   "execution_count": 27,
   "metadata": {},
   "outputs": [],
   "source": [
    "metab_to_correct = {\n",
    "    'Glutamine pos': {\n",
    "        'Nmes': 2,\n",
    "        'Niso': 2,\n",
    "        'ion_formula': 'C5H11N2O3',\n",
    "        'tracer_element': '15N',\n",
    "        'charge': 1\n",
    "    },\n",
    "    'Asparagine pos': {\n",
    "        'Nmes': 1,\n",
    "        'Niso': 2,\n",
    "        'ion_formula': 'C4H9N2O3',\n",
    "        'tracer_element': '15N',\n",
    "        'charge': 1\n",
    "    },\n",
    "    # AMP = C10H14N5O7P\n",
    "    # Derived from:\n",
    "    # 1. Hpx salvage (2x natural abundance N) + 3x natural abundance N (from 2xAsp and Gly)\n",
    "    # 2. 2x Gln + 3x natural abundance N (from 2xAsp and Gly)\n",
    "    'AMP pos': {\n",
    "        'Nmes': 2,\n",
    "        'Niso': 5,\n",
    "        'ion_formula': 'C10H15N5O7P',\n",
    "        'tracer_element': '15N',\n",
    "        'charge': 1\n",
    "    },\n",
    "    'ADP neg': {\n",
    "        'Nmes': 2,\n",
    "        'Niso': 5,\n",
    "        'ion_formula': 'C10H14N5O10P2',\n",
    "        'tracer_element': '15N',\n",
    "        'charge': -1\n",
    "    },\n",
    "    # UMP = C9H13N2O9P\n",
    "    # Derived from:\n",
    "    # 1. Uridine salvage (2x natural abundance N)\n",
    "    # 2. 1x Gln + 1x natural abundance N (from Asp)\n",
    "    'UMP neg': {\n",
    "        'Nmes': 2,\n",
    "        'Niso': 2,\n",
    "        'ion_formula': 'C9H12N2O9P',\n",
    "        'tracer_element': '15N',\n",
    "        'charge': -1\n",
    "    },\n",
    "    'UDP neg': {\n",
    "        'Nmes': 2,\n",
    "        'Niso': 2,\n",
    "        'ion_formula': 'C9H13N2O12P2',\n",
    "        'tracer_element': '15N',\n",
    "        'charge': -1\n",
    "    },\n",
    "    # GMP = C10H14N5O8P\n",
    "    # Derived from:\n",
    "    # 1. Hpx salvage (2x natural abundance N) + 1x Gln + 2x natural abundance N (from Asp and Gly)\n",
    "    # 2. 3x Gln + 2x natural abundance N (from Asp and Gly)\n",
    "    'GMP pos': {\n",
    "        'Nmes': 3,\n",
    "        'Niso': 5,\n",
    "        'ion_formula': 'C10H15N5O8P',\n",
    "        'tracer_element': '15N',\n",
    "        'charge': 1\n",
    "    },\n",
    "    'GDP neg': {\n",
    "        'Nmes': 3,\n",
    "        'Niso': 5,\n",
    "        'ion_formula': 'C10H14N5O11P2',\n",
    "        'tracer_element': '15N',\n",
    "        'charge': 1\n",
    "    },\n",
    "    # CMP = C9H14N3O8P\n",
    "    # Derived from:\n",
    "    # 1. Ur salvage (2x natural abundance N) + 1x Gln\n",
    "    # 2. 2x Gln + 1x natural abundance N (from Asp)\n",
    "    'CMP neg': {\n",
    "        'Nmes': 3,\n",
    "        'Niso': 3,\n",
    "        'ion_formula': 'C9H13N3O8P',\n",
    "        'tracer_element': '15N',\n",
    "        'charge': -1\n",
    "    },\n",
    "    'CDP neg': {\n",
    "        'Nmes': 3,\n",
    "        'Niso': 3,\n",
    "        'ion_formula': 'C9H14N3O11P2',\n",
    "        'tracer_element': '15N',\n",
    "        'charge': -1\n",
    "    }\n",
    "}"
   ]
  },
  {
   "cell_type": "code",
   "execution_count": null,
   "metadata": {},
   "outputs": [],
   "source": []
  },
  {
   "cell_type": "code",
   "execution_count": 28,
   "metadata": {},
   "outputs": [],
   "source": [
    "tracer_purity = {'15N': [1-element_prob_dict['N_enriched'], element_prob_dict['N_enriched']]}\n",
    "for metab in metab_to_correct.keys():\n",
    "    ion_formula = metab_to_correct[metab]['ion_formula']\n",
    "    charge = metab_to_correct[metab]['charge']\n",
    "    tracer_element = metab_to_correct[metab]['tracer_element']\n",
    "    metab_name, polarity = metab.split()\n",
    "    Nmes1 = metab_to_correct[metab]['Nmes']+1\n",
    "    \n",
    "    corrector_HR = isocor.mscorrectors.MetaboliteCorrectorFactory(formula=ion_formula, label=metab_name, tracer=tracer_element, tracer_purity=tracer_purity[tracer_element], resolution=240000, mz_of_resolution=200, charge=charge, correct_NA_tracer=True, resolution_formula_code='orbitrap')\n",
    "\n",
    "    ratios = {'{} 15N{} ratio'.format(metab_name, i):[] for i in range(Nmes1)}\n",
    "    for sample_idx in range(6):\n",
    "        obs_mid = []\n",
    "        for i in range(metab_to_correct[metab]['Niso']+1):\n",
    "            if i == 0:\n",
    "                obs_mid.append(df['{} {}'.format(metab_name, polarity)].values[sample_idx])\n",
    "            elif i <= metab_to_correct[metab]['Nmes']:\n",
    "                obs_mid.append(df['{} 15N{} {}'.format(metab_name, i, polarity)].values[sample_idx])\n",
    "            else:\n",
    "                obs_mid.append(0)\n",
    "        \n",
    "        # Calculate the corrected isotope fraction:\n",
    "        corrected_area, iso_fraction, res, m_enr = corrector_HR.correct(obs_mid)\n",
    "        iso_fraction_norm = iso_fraction[0:Nmes1] / sum(iso_fraction[0:Nmes1])\n",
    "        for i in range(Nmes1):\n",
    "            ratios['{} 15N{} ratio'.format(metab_name, i)].append(iso_fraction_norm[i])\n",
    "        \n",
    "    for colname in ratios.keys():\n",
    "        df[colname] = ratios[colname]\n",
    "    \n"
   ]
  },
  {
   "cell_type": "code",
   "execution_count": null,
   "metadata": {},
   "outputs": [],
   "source": []
  },
  {
   "cell_type": "code",
   "execution_count": null,
   "metadata": {},
   "outputs": [],
   "source": []
  },
  {
   "cell_type": "code",
   "execution_count": null,
   "metadata": {},
   "outputs": [],
   "source": []
  },
  {
   "cell_type": "code",
   "execution_count": null,
   "metadata": {},
   "outputs": [],
   "source": []
  },
  {
   "cell_type": "code",
   "execution_count": null,
   "metadata": {},
   "outputs": [],
   "source": []
  },
  {
   "cell_type": "code",
   "execution_count": 29,
   "metadata": {},
   "outputs": [
    {
     "data": {
      "image/png": "[encoded data removed]",
      "text/plain": [
       "<Figure size 432x288 with 1 Axes>"
      ]
     },
     "metadata": {
      "needs_background": "light"
     },
     "output_type": "display_data"
    }
   ],
   "source": [
    "isotopologues = ['m+0', '15N1', '15N2']\n",
    "r = df['Conc'].values\n",
    "bars = df['Glutamine 15N0 ratio'].values\n",
    "plot_objs = []\n",
    "p = plt.bar(r, bars, edgecolor='white', width=9)\n",
    "plot_objs.append(p)\n",
    "bars_next = df['Glutamine 15N1 ratio'].values\n",
    "p = plt.bar(r, bars_next, bottom=bars, edgecolor='white', width=9)\n",
    "plot_objs.append(p)\n",
    "bars = bars + bars_next\n",
    "bars_next = df['Glutamine 15N2 ratio'].values\n",
    "p = plt.bar(r, bars_next, bottom=bars, edgecolor='white', width=9)\n",
    "plot_objs.append(p)\n",
    "\n",
    "plt.legend([p[1] for p in plot_objs], isotopologues, loc='upper left', bbox_to_anchor=(1.04, 1), borderaxespad=0, fontsize=12, title='Isotopologue', title_fontsize=12);"
   ]
  },
  {
   "cell_type": "code",
   "execution_count": null,
   "metadata": {},
   "outputs": [],
   "source": []
  },
  {
   "cell_type": "code",
   "execution_count": null,
   "metadata": {},
   "outputs": [],
   "source": []
  },
  {
   "cell_type": "code",
   "execution_count": 30,
   "metadata": {},
   "outputs": [
    {
     "data": {
      "image/png": "[encoded data removed]",
      "text/plain": [
       "<Figure size 432x288 with 1 Axes>"
      ]
     },
     "metadata": {
      "needs_background": "light"
     },
     "output_type": "display_data"
    }
   ],
   "source": [
    "isotopologues = ['m+0', '15N1']\n",
    "r = df['Conc'].values\n",
    "bars = df['Asparagine 15N0 ratio'].values\n",
    "plot_objs = []\n",
    "p = plt.bar(r, bars, edgecolor='white', width=9)\n",
    "plot_objs.append(p)\n",
    "bars_next = df['Asparagine 15N1 ratio'].values\n",
    "p = plt.bar(r, bars_next, bottom=bars, edgecolor='white', width=9)\n",
    "plot_objs.append(p)\n",
    "\n",
    "plt.legend([p[1] for p in plot_objs], isotopologues, loc='upper left', bbox_to_anchor=(1.04, 1), borderaxespad=0, fontsize=12, title='Isotopologue', title_fontsize=12);"
   ]
  },
  {
   "cell_type": "code",
   "execution_count": null,
   "metadata": {},
   "outputs": [],
   "source": []
  },
  {
   "cell_type": "code",
   "execution_count": null,
   "metadata": {},
   "outputs": [],
   "source": []
  },
  {
   "cell_type": "code",
   "execution_count": null,
   "metadata": {},
   "outputs": [],
   "source": []
  },
  {
   "cell_type": "code",
   "execution_count": 31,
   "metadata": {},
   "outputs": [
    {
     "data": {
      "image/png": "[encoded data removed]",
      "text/plain": [
       "<Figure size 432x288 with 1 Axes>"
      ]
     },
     "metadata": {
      "needs_background": "light"
     },
     "output_type": "display_data"
    }
   ],
   "source": [
    "isotopologues = ['m+0', '15N1', '15N2']\n",
    "r = df['Conc'].values\n",
    "bars = df['AMP 15N0 ratio'].values\n",
    "plot_objs = []\n",
    "p = plt.bar(r, bars, edgecolor='white', width=9)\n",
    "plot_objs.append(p)\n",
    "bars_next = df['AMP 15N1 ratio'].values\n",
    "p = plt.bar(r, bars_next, bottom=bars, edgecolor='white', width=9)\n",
    "plot_objs.append(p)\n",
    "bars = bars + bars_next\n",
    "bars_next = df['AMP 15N2 ratio'].values\n",
    "p = plt.bar(r, bars_next, bottom=bars, edgecolor='white', width=9)\n",
    "plot_objs.append(p)\n",
    "\n",
    "plt.legend([p[1] for p in plot_objs], isotopologues, loc='upper left', bbox_to_anchor=(1.04, 1), borderaxespad=0, fontsize=12, title='Isotopologue', title_fontsize=12);"
   ]
  },
  {
   "cell_type": "code",
   "execution_count": null,
   "metadata": {},
   "outputs": [],
   "source": []
  },
  {
   "cell_type": "code",
   "execution_count": 32,
   "metadata": {},
   "outputs": [
    {
     "data": {
      "image/png": "[encoded data removed]",
      "text/plain": [
       "<Figure size 432x288 with 1 Axes>"
      ]
     },
     "metadata": {
      "needs_background": "light"
     },
     "output_type": "display_data"
    }
   ],
   "source": [
    "isotopologues = ['m+0', '15N1', '15N2']\n",
    "r = df['Conc'].values\n",
    "bars = df['ADP 15N0 ratio'].values\n",
    "plot_objs = []\n",
    "p = plt.bar(r, bars, edgecolor='white', width=9)\n",
    "plot_objs.append(p)\n",
    "bars_next = df['ADP 15N1 ratio'].values\n",
    "p = plt.bar(r, bars_next, bottom=bars, edgecolor='white', width=9)\n",
    "plot_objs.append(p)\n",
    "bars = bars + bars_next\n",
    "bars_next = df['ADP 15N2 ratio'].values\n",
    "p = plt.bar(r, bars_next, bottom=bars, edgecolor='white', width=9)\n",
    "plot_objs.append(p)\n",
    "\n",
    "plt.legend([p[1] for p in plot_objs], isotopologues, loc='upper left', bbox_to_anchor=(1.04, 1), borderaxespad=0, fontsize=12, title='Isotopologue', title_fontsize=12);"
   ]
  },
  {
   "cell_type": "code",
   "execution_count": null,
   "metadata": {},
   "outputs": [],
   "source": []
  },
  {
   "cell_type": "code",
   "execution_count": null,
   "metadata": {},
   "outputs": [],
   "source": []
  },
  {
   "cell_type": "code",
   "execution_count": 33,
   "metadata": {},
   "outputs": [
    {
     "data": {
      "image/png": "[encoded data removed]",
      "text/plain": [
       "<Figure size 432x288 with 1 Axes>"
      ]
     },
     "metadata": {
      "needs_background": "light"
     },
     "output_type": "display_data"
    }
   ],
   "source": [
    "isotopologues = ['m+0', '15N1', '15N2', '15N3']\n",
    "r = df['Conc'].values\n",
    "bars = df['GMP 15N0 ratio'].values\n",
    "plot_objs = []\n",
    "p = plt.bar(r, bars, edgecolor='white', width=9)\n",
    "plot_objs.append(p)\n",
    "bars_next = df['GMP 15N1 ratio'].values\n",
    "p = plt.bar(r, bars_next, bottom=bars, edgecolor='white', width=9)\n",
    "plot_objs.append(p)\n",
    "bars = bars + bars_next\n",
    "bars_next = df['GMP 15N2 ratio'].values\n",
    "p = plt.bar(r, bars_next, bottom=bars, edgecolor='white', width=9)\n",
    "plot_objs.append(p)\n",
    "bars = bars + bars_next\n",
    "bars_next = df['GMP 15N3 ratio'].values\n",
    "p = plt.bar(r, bars_next, bottom=bars, edgecolor='white', width=9)\n",
    "plot_objs.append(p)\n",
    "\n",
    "plt.legend([p[1] for p in plot_objs], isotopologues, loc='upper left', bbox_to_anchor=(1.04, 1), borderaxespad=0, fontsize=12, title='Isotopologue', title_fontsize=12);"
   ]
  },
  {
   "cell_type": "code",
   "execution_count": null,
   "metadata": {},
   "outputs": [],
   "source": []
  },
  {
   "cell_type": "code",
   "execution_count": 34,
   "metadata": {},
   "outputs": [
    {
     "data": {
      "image/png": "[encoded data removed]",
      "text/plain": [
       "<Figure size 432x288 with 1 Axes>"
      ]
     },
     "metadata": {
      "needs_background": "light"
     },
     "output_type": "display_data"
    }
   ],
   "source": [
    "isotopologues = ['m+0', '15N1', '15N2', '15N3']\n",
    "r = df['Conc'].values\n",
    "bars = df['GDP 15N0 ratio'].values\n",
    "plot_objs = []\n",
    "p = plt.bar(r, bars, edgecolor='white', width=9)\n",
    "plot_objs.append(p)\n",
    "bars_next = df['GDP 15N1 ratio'].values\n",
    "p = plt.bar(r, bars_next, bottom=bars, edgecolor='white', width=9)\n",
    "plot_objs.append(p)\n",
    "bars = bars + bars_next\n",
    "bars_next = df['GDP 15N2 ratio'].values\n",
    "p = plt.bar(r, bars_next, bottom=bars, edgecolor='white', width=9)\n",
    "plot_objs.append(p)\n",
    "bars = bars + bars_next\n",
    "bars_next = df['GDP 15N3 ratio'].values\n",
    "p = plt.bar(r, bars_next, bottom=bars, edgecolor='white', width=9)\n",
    "plot_objs.append(p)\n",
    "\n",
    "plt.legend([p[1] for p in plot_objs], isotopologues, loc='upper left', bbox_to_anchor=(1.04, 1), borderaxespad=0, fontsize=12, title='Isotopologue', title_fontsize=12);"
   ]
  },
  {
   "cell_type": "code",
   "execution_count": null,
   "metadata": {},
   "outputs": [],
   "source": []
  },
  {
   "cell_type": "code",
   "execution_count": null,
   "metadata": {},
   "outputs": [],
   "source": []
  },
  {
   "cell_type": "code",
   "execution_count": null,
   "metadata": {},
   "outputs": [],
   "source": []
  },
  {
   "cell_type": "code",
   "execution_count": null,
   "metadata": {},
   "outputs": [],
   "source": []
  },
  {
   "cell_type": "code",
   "execution_count": null,
   "metadata": {},
   "outputs": [],
   "source": []
  },
  {
   "cell_type": "code",
   "execution_count": 35,
   "metadata": {},
   "outputs": [
    {
     "data": {
      "image/png": "[encoded data removed]",
      "text/plain": [
       "<Figure size 432x288 with 1 Axes>"
      ]
     },
     "metadata": {
      "needs_background": "light"
     },
     "output_type": "display_data"
    }
   ],
   "source": [
    "isotopologues = ['m+0', '15N1', '15N2']\n",
    "r = df['Conc'].values\n",
    "bars = df['UMP 15N0 ratio'].values\n",
    "plot_objs = []\n",
    "p = plt.bar(r, bars, edgecolor='white', width=9)\n",
    "plot_objs.append(p)\n",
    "bars_next = df['UMP 15N1 ratio'].values\n",
    "p = plt.bar(r, bars_next, bottom=bars, edgecolor='white', width=9)\n",
    "plot_objs.append(p)\n",
    "bars = bars + bars_next\n",
    "bars_next = df['UMP 15N2 ratio'].values\n",
    "p = plt.bar(r, bars_next, bottom=bars, edgecolor='white', width=9)\n",
    "plot_objs.append(p)\n",
    "\n",
    "plt.legend([p[1] for p in plot_objs], isotopologues, loc='upper left', bbox_to_anchor=(1.04, 1), borderaxespad=0, fontsize=12, title='Isotopologue', title_fontsize=12);"
   ]
  },
  {
   "cell_type": "code",
   "execution_count": null,
   "metadata": {},
   "outputs": [],
   "source": []
  },
  {
   "cell_type": "code",
   "execution_count": 36,
   "metadata": {},
   "outputs": [
    {
     "data": {
      "image/png": "[encoded data removed]",
      "text/plain": [
       "<Figure size 432x288 with 1 Axes>"
      ]
     },
     "metadata": {
      "needs_background": "light"
     },
     "output_type": "display_data"
    }
   ],
   "source": [
    "isotopologues = ['m+0', '15N1', '15N2']\n",
    "r = df['Conc'].values\n",
    "bars = df['UDP 15N0 ratio'].values\n",
    "plot_objs = []\n",
    "p = plt.bar(r, bars, edgecolor='white', width=9)\n",
    "plot_objs.append(p)\n",
    "bars_next = df['UDP 15N1 ratio'].values\n",
    "p = plt.bar(r, bars_next, bottom=bars, edgecolor='white', width=9)\n",
    "plot_objs.append(p)\n",
    "bars = bars + bars_next\n",
    "bars_next = df['UDP 15N2 ratio'].values\n",
    "p = plt.bar(r, bars_next, bottom=bars, edgecolor='white', width=9)\n",
    "plot_objs.append(p)\n",
    "\n",
    "plt.legend([p[1] for p in plot_objs], isotopologues, loc='upper left', bbox_to_anchor=(1.04, 1), borderaxespad=0, fontsize=12, title='Isotopologue', title_fontsize=12);"
   ]
  },
  {
   "cell_type": "code",
   "execution_count": null,
   "metadata": {},
   "outputs": [],
   "source": []
  },
  {
   "cell_type": "code",
   "execution_count": null,
   "metadata": {},
   "outputs": [],
   "source": []
  },
  {
   "cell_type": "code",
   "execution_count": 37,
   "metadata": {},
   "outputs": [
    {
     "data": {
      "image/png": "[encoded data removed]",
      "text/plain": [
       "<Figure size 432x288 with 1 Axes>"
      ]
     },
     "metadata": {
      "needs_background": "light"
     },
     "output_type": "display_data"
    }
   ],
   "source": [
    "isotopologues = ['m+0', '15N1', '15N2', '15N3']\n",
    "r = df['Conc'].values\n",
    "bars = df['CMP 15N0 ratio'].values\n",
    "plot_objs = []\n",
    "p = plt.bar(r, bars, edgecolor='white', width=9)\n",
    "plot_objs.append(p)\n",
    "bars_next = df['CMP 15N1 ratio'].values\n",
    "p = plt.bar(r, bars_next, bottom=bars, edgecolor='white', width=9)\n",
    "plot_objs.append(p)\n",
    "bars = bars + bars_next\n",
    "bars_next = df['CMP 15N2 ratio'].values\n",
    "p = plt.bar(r, bars_next, bottom=bars, edgecolor='white', width=9)\n",
    "plot_objs.append(p)\n",
    "bars = bars + bars_next\n",
    "bars_next = df['CMP 15N3 ratio'].values\n",
    "p = plt.bar(r, bars_next, bottom=bars, edgecolor='white', width=9)\n",
    "plot_objs.append(p)\n",
    "\n",
    "plt.legend([p[1] for p in plot_objs], isotopologues, loc='upper left', bbox_to_anchor=(1.04, 1), borderaxespad=0, fontsize=12, title='Isotopologue', title_fontsize=12);"
   ]
  },
  {
   "cell_type": "code",
   "execution_count": null,
   "metadata": {},
   "outputs": [],
   "source": []
  },
  {
   "cell_type": "code",
   "execution_count": 38,
   "metadata": {},
   "outputs": [
    {
     "data": {
      "image/png": "[encoded data removed]",
      "text/plain": [
       "<Figure size 432x288 with 1 Axes>"
      ]
     },
     "metadata": {
      "needs_background": "light"
     },
     "output_type": "display_data"
    }
   ],
   "source": [
    "isotopologues = ['m+0', '15N1', '15N2', '15N3']\n",
    "r = df['Conc'].values\n",
    "bars = df['CDP 15N0 ratio'].values\n",
    "plot_objs = []\n",
    "p = plt.bar(r, bars, edgecolor='white', width=9)\n",
    "plot_objs.append(p)\n",
    "bars_next = df['CDP 15N1 ratio'].values\n",
    "p = plt.bar(r, bars_next, bottom=bars, edgecolor='white', width=9)\n",
    "plot_objs.append(p)\n",
    "bars = bars + bars_next\n",
    "bars_next = df['CDP 15N2 ratio'].values\n",
    "p = plt.bar(r, bars_next, bottom=bars, edgecolor='white', width=9)\n",
    "plot_objs.append(p)\n",
    "bars = bars + bars_next\n",
    "bars_next = df['CDP 15N3 ratio'].values\n",
    "p = plt.bar(r, bars_next, bottom=bars, edgecolor='white', width=9)\n",
    "plot_objs.append(p)\n",
    "\n",
    "plt.legend([p[1] for p in plot_objs], isotopologues, loc='upper left', bbox_to_anchor=(1.04, 1), borderaxespad=0, fontsize=12, title='Isotopologue', title_fontsize=12);"
   ]
  },
  {
   "cell_type": "code",
   "execution_count": null,
   "metadata": {},
   "outputs": [],
   "source": []
  },
  {
   "cell_type": "code",
   "execution_count": null,
   "metadata": {},
   "outputs": [],
   "source": []
  },
  {
   "cell_type": "code",
   "execution_count": null,
   "metadata": {},
   "outputs": [],
   "source": []
  },
  {
   "cell_type": "code",
   "execution_count": null,
   "metadata": {},
   "outputs": [],
   "source": []
  },
  {
   "cell_type": "code",
   "execution_count": null,
   "metadata": {},
   "outputs": [],
   "source": []
  },
  {
   "cell_type": "code",
   "execution_count": null,
   "metadata": {},
   "outputs": [],
   "source": []
  },
  {
   "cell_type": "code",
   "execution_count": null,
   "metadata": {},
   "outputs": [],
   "source": []
  },
  {
   "cell_type": "code",
   "execution_count": 39,
   "metadata": {},
   "outputs": [],
   "source": [
    "#### Impute salvage fraction ####"
   ]
  },
  {
   "cell_type": "code",
   "execution_count": 40,
   "metadata": {},
   "outputs": [],
   "source": [
    "def obj_iso_A(v1, element_prob_dict, Gln_heavy_frac, print_sim=False, verbose=True):\n",
    "    # AMP = C10H14N5O7P\n",
    "    # Derived from:\n",
    "    # 1. Hpx salvage (2x natural abundance N) + 3x natural abundance N (from 2xAsp and Gly)\n",
    "    # 2. 2x Gln + 3x natural abundance N (from 2xAsp and Gly)\n",
    "\n",
    "    N_trials = 1000000\n",
    "    N_Hpx = int(N_trials * v1)\n",
    "    N_Gln = N_trials - N_Hpx\n",
    "\n",
    "    prob_nat = element_prob_dict['N_natural']\n",
    "    prob_mix = element_prob_dict['N_enriched'] * Gln_heavy_frac + \\\n",
    "               element_prob_dict['N_natural'] * (1 - Gln_heavy_frac)\n",
    "    # From Hpx (salvage):\n",
    "    element_prob = [prob_nat, prob_nat, prob_nat, prob_nat, prob_nat]\n",
    "    ra1 = np.random.binomial(1, element_prob, (N_Hpx, len(element_prob)))\n",
    "\n",
    "    # From Gln:\n",
    "    element_prob = [prob_mix, prob_mix, prob_nat, prob_nat, prob_nat]\n",
    "    ra2 = np.random.binomial(1, element_prob, (N_Gln, len(element_prob)))\n",
    "\n",
    "    ra = np.vstack((ra1, ra2))\n",
    "    sim_data = np.bincount(ra.sum(1))\n",
    "    sim_data = sim_data[0:3]\n",
    "    sim_data = sim_data / sum(sim_data) * 100\n",
    "    # Adjust:\n",
    "    loss = abs(obs_data[0] - sim_data[0]) + abs(obs_data[1] - sim_data[1]) + abs(obs_data[2] - sim_data[2])\n",
    "    if verbose:\n",
    "        print(v1, sim_data, loss)\n",
    "    if print_sim:\n",
    "        return(sim_data)\n",
    "    else:\n",
    "        return(loss)"
   ]
  },
  {
   "cell_type": "code",
   "execution_count": null,
   "metadata": {},
   "outputs": [],
   "source": []
  },
  {
   "cell_type": "code",
   "execution_count": 41,
   "metadata": {},
   "outputs": [],
   "source": [
    "def obj_iso_U(v1, element_prob_dict, Gln_heavy_frac, print_sim=False, verbose=True):\n",
    "    # UMP = C9H13N2O9P\n",
    "    # Derived from:\n",
    "    # 1. Uridine salvage (2x natural abundance N)\n",
    "    # 2. 1x Gln + 1x natural abundance N (from Asp)\n",
    "\n",
    "    N_trials = 1000000\n",
    "    N_Urd = int(N_trials * v1)\n",
    "    N_Gln = N_trials - N_Urd\n",
    "\n",
    "    prob_nat = element_prob_dict['N_natural']\n",
    "    prob_mix = element_prob_dict['N_enriched'] * Gln_heavy_frac + \\\n",
    "               element_prob_dict['N_natural'] * (1 - Gln_heavy_frac)\n",
    "    # From Urd (salvage):\n",
    "    element_prob = [prob_nat, prob_nat]\n",
    "    ra1 = np.random.binomial(1, element_prob, (N_Urd, len(element_prob)))\n",
    "\n",
    "    # From Gln:\n",
    "    element_prob = [prob_mix, prob_nat]\n",
    "    ra2 = np.random.binomial(1, element_prob, (N_Gln, len(element_prob)))\n",
    "\n",
    "    ra = np.vstack((ra1, ra2))\n",
    "    sim_data = np.bincount(ra.sum(1))\n",
    "    sim_data = sim_data / sum(sim_data) * 100\n",
    "    # Adjust:\n",
    "    loss = abs(obs_data[0] - sim_data[0]) + abs(obs_data[1] - sim_data[1]) + abs(obs_data[2] - sim_data[2])\n",
    "    if verbose:\n",
    "        print(v1, sim_data, loss)\n",
    "    if print_sim:\n",
    "        return(sim_data)\n",
    "    else:\n",
    "        return(loss)"
   ]
  },
  {
   "cell_type": "code",
   "execution_count": null,
   "metadata": {},
   "outputs": [],
   "source": []
  },
  {
   "cell_type": "code",
   "execution_count": 42,
   "metadata": {},
   "outputs": [],
   "source": [
    "def obj_iso_G(v1, element_prob_dict, Gln_heavy_frac, print_sim=False, verbose=True):\n",
    "    # GMP = C10H14N5O8P\n",
    "    # Derived from:\n",
    "    # 1. Hpx salvage (2x natural abundance N) + 1x Gln + 2x natural abundance N (from Asp and Gly)\n",
    "    # 2. 3x Gln + 2x natural abundance N (from Asp and Gly)\n",
    "\n",
    "    N_trials = 1000000\n",
    "    N_Hpx = int(N_trials * v1)\n",
    "    N_Gln = N_trials - N_Hpx\n",
    "\n",
    "    prob_nat = element_prob_dict['N_natural']\n",
    "    prob_mix = element_prob_dict['N_enriched'] * Gln_heavy_frac + \\\n",
    "               element_prob_dict['N_natural'] * (1 - Gln_heavy_frac)\n",
    "    # From Hpx (salvage):\n",
    "    element_prob = [prob_mix, prob_nat, prob_nat, prob_nat, prob_nat]\n",
    "    ra1 = np.random.binomial(1, element_prob, (N_Hpx, len(element_prob)))\n",
    "\n",
    "    # From Gln:\n",
    "    element_prob = [prob_mix, prob_mix, prob_mix, prob_nat, prob_nat]\n",
    "    ra2 = np.random.binomial(1, element_prob, (N_Gln, len(element_prob)))\n",
    "\n",
    "    ra = np.vstack((ra1, ra2))\n",
    "    sim_data = np.bincount(ra.sum(1))\n",
    "    sim_data = sim_data[0:4]\n",
    "    sim_data = sim_data / sum(sim_data) * 100\n",
    "    # Adjust:\n",
    "    loss = abs(obs_data[0] - sim_data[0]) + abs(obs_data[1] - sim_data[1]) + abs(obs_data[2] - sim_data[2]) + abs(obs_data[3] - sim_data[3])\n",
    "    if verbose:\n",
    "        print(v1, sim_data, loss)\n",
    "    if print_sim:\n",
    "        return(sim_data)\n",
    "    else:\n",
    "        return(loss)"
   ]
  },
  {
   "cell_type": "code",
   "execution_count": null,
   "metadata": {},
   "outputs": [],
   "source": []
  },
  {
   "cell_type": "code",
   "execution_count": 43,
   "metadata": {},
   "outputs": [],
   "source": [
    "def obj_iso_C(v1, element_prob_dict, Gln_heavy_frac, print_sim=False, verbose=True):\n",
    "    # CMP = C9H14N3O8P\n",
    "    # Derived from:\n",
    "    # 1. Ur salvage (2x natural abundance N) + 1x Gln\n",
    "    # 2. 2x Gln + 1x natural abundance N (from Asp)\n",
    "\n",
    "    N_trials = 1000000\n",
    "    N_Urd = int(N_trials * v1)\n",
    "    N_Gln = N_trials - N_Urd\n",
    "\n",
    "    prob_nat = element_prob_dict['N_natural']\n",
    "    prob_mix = element_prob_dict['N_enriched'] * Gln_heavy_frac + \\\n",
    "               element_prob_dict['N_natural'] * (1 - Gln_heavy_frac)\n",
    "    # From Urd (salvage):\n",
    "    element_prob = [prob_mix, prob_nat, prob_nat]\n",
    "    ra1 = np.random.binomial(1, element_prob, (N_Urd, len(element_prob)))\n",
    "\n",
    "    # From Gln:\n",
    "    element_prob = [prob_mix, prob_mix, prob_nat]\n",
    "    ra2 = np.random.binomial(1, element_prob, (N_Gln, len(element_prob)))\n",
    "\n",
    "    ra = np.vstack((ra1, ra2))\n",
    "    sim_data = np.bincount(ra.sum(1))\n",
    "    sim_data = sim_data / sum(sim_data) * 100\n",
    "    # Adjust:\n",
    "    loss = abs(obs_data[0] - sim_data[0]) + abs(obs_data[1] - sim_data[1]) + abs(obs_data[2] - sim_data[2]) + abs(obs_data[3] - sim_data[3])\n",
    "    if verbose:\n",
    "        print(v1, sim_data, loss)\n",
    "    if print_sim:\n",
    "        return(sim_data)\n",
    "    else:\n",
    "        return(loss)"
   ]
  },
  {
   "cell_type": "code",
   "execution_count": null,
   "metadata": {},
   "outputs": [],
   "source": []
  },
  {
   "cell_type": "code",
   "execution_count": null,
   "metadata": {},
   "outputs": [],
   "source": []
  },
  {
   "cell_type": "code",
   "execution_count": 44,
   "metadata": {},
   "outputs": [],
   "source": [
    "sal_data = dict()\n",
    "\n",
    "for base in ['AMP', 'ADP', 'GMP', 'GDP', 'UMP', 'UDP', 'CMP', 'CDP']:\n",
    "#for base in ['CMP', 'CDP']:\n",
    "    sal_data[base] = list()\n",
    "    for i in range(6):\n",
    "        if base[0] == 'A':\n",
    "            obj_iso = obj_iso_A\n",
    "            obs_data = {\n",
    "            0: df['{} 15N0 ratio'.format(base)].values[i]*100,\n",
    "            1: df['{} 15N1 ratio'.format(base)].values[i]*100,\n",
    "            2: df['{} 15N2 ratio'.format(base)].values[i]*100\n",
    "            }\n",
    "            \n",
    "            if False:\n",
    "                # Use particle swarm to find best probability to fit the data:\n",
    "                def iso_fun(v1): return(obj_iso(v1, element_prob_dict, Gln_heavy_frac, verbose=False))\n",
    "                ### Adjust salvage fraction bounds:\n",
    "                lb = (obs_data[0]/100-0.1,)\n",
    "                ub = (obs_data[0]/100+0.1,)\n",
    "                if lb[0] < 0:\n",
    "                    lb = (0,)\n",
    "                if ub[0] >= 1:\n",
    "                    ub = (0.99999,)\n",
    "                xopt, fopt = pso(iso_fun, lb, ub, swarmsize=10, maxiter=10, minstep=1e-7, minfunc=1e-7)\n",
    "                print('Imputed salvage fraction for {}, {}: {}'.format(base, i, xopt[0]))\n",
    "                \n",
    "            # Save imputed salvage fraction:\n",
    "            # m+0 = salvage, m+2 = de novo synthesis\n",
    "            sal_data[base].append(obs_data[0] / sum([obs_data[0], obs_data[2]]))\n",
    "\n",
    "        if base[0] == 'U':\n",
    "            obj_iso = obj_iso_U\n",
    "            obs_data = {\n",
    "            0: df['{} 15N0 ratio'.format(base)].values[i]*100,\n",
    "            1: df['{} 15N1 ratio'.format(base)].values[i]*100,\n",
    "            2: df['{} 15N2 ratio'.format(base)].values[i]*100\n",
    "            }\n",
    "            \n",
    "            if False:\n",
    "                # Use particle swarm to find best probability to fit the data:\n",
    "                def iso_fun(v1): return(obj_iso(v1, element_prob_dict, Gln_heavy_frac, verbose=False))\n",
    "                ### Adjust salvage fraction bounds:\n",
    "                lb = (obs_data[0]/100-0.1,)\n",
    "                ub = (obs_data[0]/100+0.1,)\n",
    "                if lb[0] < 0:\n",
    "                    lb = (0,)\n",
    "                if ub[0] >= 1:\n",
    "                    ub = (0.99999,)\n",
    "                xopt, fopt = pso(iso_fun, lb, ub, swarmsize=10, maxiter=10, minstep=1e-7, minfunc=1e-7)\n",
    "                print('Imputed salvage fraction for {}, {}: {}'.format(base, i, xopt[0]))\n",
    "            \n",
    "            # Save imputed salvage fraction:\n",
    "            # m+0 = salvage, m+1 = de novo synthesis\n",
    "            sal_data[base].append(obs_data[0] / sum([obs_data[0], obs_data[1]]))\n",
    "\n",
    "        if base[0] == 'G':\n",
    "            obj_iso = obj_iso_G\n",
    "            obs_data = {\n",
    "            0: df['{} 15N0 ratio'.format(base)].values[i]*100,\n",
    "            1: df['{} 15N1 ratio'.format(base)].values[i]*100,\n",
    "            2: df['{} 15N2 ratio'.format(base)].values[i]*100,\n",
    "            3: df['{} 15N3 ratio'.format(base)].values[i]*100\n",
    "            }\n",
    "            \n",
    "            if False:\n",
    "                # Use particle swarm to find best probability to fit the data:\n",
    "                def iso_fun(v1): return(obj_iso(v1, element_prob_dict, Gln_heavy_frac, verbose=False))\n",
    "                ### Adjust salvage fraction bounds:\n",
    "                lb = (obs_data[1]/100-0.1,)\n",
    "                ub = (obs_data[1]/100+0.1,)\n",
    "                if lb[0] < 0:\n",
    "                    lb = (0,)\n",
    "                if ub[0] >= 1:\n",
    "                    ub = (0.99999,)\n",
    "                xopt, fopt = pso(iso_fun, lb, ub, swarmsize=10, maxiter=10, minstep=1e-7, minfunc=1e-7)\n",
    "                print('Imputed salvage fraction for {}, {}: {}'.format(base, i, xopt[0]))\n",
    "            \n",
    "            # Save imputed salvage fraction:\n",
    "            # m+1 = salvage, m+3 = de novo synthesis\n",
    "            sal_data[base].append(obs_data[1] / sum([obs_data[1], obs_data[3]]))\n",
    "\n",
    "        if base[0] == 'C':\n",
    "            obj_iso = obj_iso_C\n",
    "            obs_data = {\n",
    "            0: df['{} 15N0 ratio'.format(base)].values[i]*100,\n",
    "            1: df['{} 15N1 ratio'.format(base)].values[i]*100,\n",
    "            2: df['{} 15N2 ratio'.format(base)].values[i]*100,\n",
    "            3: df['{} 15N3 ratio'.format(base)].values[i]*100\n",
    "            }\n",
    "            \n",
    "            if False:\n",
    "                # Use particle swarm to find best probability to fit the data:\n",
    "                def iso_fun(v1): return(obj_iso(v1, element_prob_dict, Gln_heavy_frac, verbose=False))\n",
    "                ### Adjust salvage fraction bounds:\n",
    "                lb = (obs_data[1]/100-0.1,)\n",
    "                ub = (obs_data[1]/100+0.1,)\n",
    "                if lb[0] < 0:\n",
    "                    lb = (0,)\n",
    "                if ub[0] >= 1:\n",
    "                    ub = (0.99999,)\n",
    "                xopt, fopt = pso(iso_fun, lb, ub, swarmsize=10, maxiter=10, minstep=1e-7, minfunc=1e-7)\n",
    "                print('Imputed salvage fraction for {}, {}: {}'.format(base, i, xopt[0]))\n",
    "            \n",
    "            # Save imputed salvage fraction:\n",
    "            # m+1 = salvage, m+2 = de novo synthesis\n",
    "            sal_data[base].append(obs_data[1] / sum([obs_data[1], obs_data[2]]))"
   ]
  },
  {
   "cell_type": "code",
   "execution_count": null,
   "metadata": {},
   "outputs": [],
   "source": []
  },
  {
   "cell_type": "code",
   "execution_count": null,
   "metadata": {},
   "outputs": [],
   "source": []
  },
  {
   "cell_type": "code",
   "execution_count": null,
   "metadata": {},
   "outputs": [],
   "source": []
  },
  {
   "cell_type": "code",
   "execution_count": 206,
   "metadata": {},
   "outputs": [],
   "source": []
  },
  {
   "cell_type": "code",
   "execution_count": 45,
   "metadata": {},
   "outputs": [],
   "source": [
    "sal_data['Conc'] = [10, 20, 30, 40, 50, 60]\n",
    "df_imputed = pd.DataFrame(sal_data)\n",
    "df_imputed_flat = pd.melt(df_imputed, id_vars=['Conc'])\n",
    "df_imputed_flat = df_imputed_flat.rename(columns={'variable': 'Nucleotide', 'value': 'Salvage fraction'})\n",
    "df_imputed_flat['Type'] = ['Purine' if base[0] == 'A' or base[0] == 'G' else 'Pyrimidine' for base in df_imputed_flat['Nucleotide']]\n",
    "df_imputed_flat['Charge'] = ['Monophosphate' if base[1] == 'M' else 'Diphosphate' for base in df_imputed_flat['Nucleotide']]"
   ]
  },
  {
   "cell_type": "code",
   "execution_count": null,
   "metadata": {},
   "outputs": [],
   "source": []
  },
  {
   "cell_type": "code",
   "execution_count": 46,
   "metadata": {},
   "outputs": [
    {
     "data": {
      "image/png": "[encoded data removed]",
      "text/plain": [
       "<Figure size 576x432 with 1 Axes>"
      ]
     },
     "metadata": {
      "needs_background": "light"
     },
     "output_type": "display_data"
    }
   ],
   "source": [
    "# pdf = matplotlib.backends.backend_pdf.PdfPages(\"Uridine-Hypoxanthine_salvage-fraction_143B-Nuc-RFP-noArgP10.pdf\")\n",
    "pdf = matplotlib.backends.backend_pdf.PdfPages(\"Uridine-Hypoxanthine_salvage-fraction_H1299.pdf\")\n",
    "fig = plt.figure(figsize=(8, 6))\n",
    "\n",
    "sns.lineplot(data=df_imputed_flat, x='Conc', y='Salvage fraction', hue='Type', style='Charge', markers=True, dashes=True);\n",
    "\n",
    "plt.ylabel('Fraction salvaged', size=12);\n",
    "plt.xlabel('Concentration uridine/hypoxanthine (uM)', size=12);\n",
    "\n",
    "pdf.savefig(fig)\n",
    "plt.show(fig)\n",
    "plt.close(fig)\n",
    "pdf.close()"
   ]
  },
  {
   "cell_type": "code",
   "execution_count": null,
   "metadata": {},
   "outputs": [],
   "source": []
  },
  {
   "cell_type": "code",
   "execution_count": null,
   "metadata": {},
   "outputs": [],
   "source": []
  },
  {
   "cell_type": "code",
   "execution_count": null,
   "metadata": {},
   "outputs": [],
   "source": []
  },
  {
   "cell_type": "code",
   "execution_count": null,
   "metadata": {},
   "outputs": [],
   "source": []
  },
  {
   "cell_type": "code",
   "execution_count": null,
   "metadata": {},
   "outputs": [],
   "source": []
  },
  {
   "cell_type": "code",
   "execution_count": null,
   "metadata": {},
   "outputs": [],
   "source": []
  },
  {
   "cell_type": "code",
   "execution_count": null,
   "metadata": {},
   "outputs": [],
   "source": []
  },
  {
   "cell_type": "code",
   "execution_count": null,
   "metadata": {},
   "outputs": [],
   "source": []
  },
  {
   "cell_type": "code",
   "execution_count": null,
   "metadata": {},
   "outputs": [],
   "source": []
  },
  {
   "cell_type": "code",
   "execution_count": null,
   "metadata": {},
   "outputs": [],
   "source": []
  }
 ],
 "metadata": {
  "kernelspec": {
   "display_name": "Python 3",
   "language": "python",
   "name": "python3"
  },
  "language_info": {
   "codemirror_mode": {
    "name": "ipython",
    "version": 3
   },
   "file_extension": ".py",
   "mimetype": "text/x-python",
   "name": "python",
   "nbconvert_exporter": "python",
   "pygments_lexer": "ipython3",
   "version": "3.7.1"
  }
 },
 "nbformat": 4,
 "nbformat_minor": 2
}
