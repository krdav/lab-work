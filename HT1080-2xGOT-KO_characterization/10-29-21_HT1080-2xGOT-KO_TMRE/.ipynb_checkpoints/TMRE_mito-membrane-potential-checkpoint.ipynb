{
 "cells": [
  {
   "cell_type": "code",
   "execution_count": 28,
   "metadata": {},
   "outputs": [],
   "source": [
    "import sys, os\n",
    "import matplotlib.pyplot as plt\n",
    "import seaborn as sns\n",
    "from matplotlib.gridspec import GridSpec\n",
    "from skimage import data, color, morphology\n",
    "from skimage import io\n",
    "from skimage.color import rgb2hed\n",
    "from matplotlib.colors import LinearSegmentedColormap\n",
    "from pathlib import Path\n",
    "from natsort import natsorted\n",
    "import numpy as np\n",
    "import pandas as pd\n",
    "from skimage.color import rgb2gray\n",
    "from scipy import stats\n",
    "from datetime import datetime\n",
    "def rgb_red2gray(rgb):\n",
    "    return np.dot(rgb[...,:3], [1, 0, 0])"
   ]
  },
  {
   "cell_type": "markdown",
   "metadata": {},
   "source": [
    "## IncuCyte TMRE assay\n",
    "This program will take background subtracted TIFF files from IncuCyte fluorescence microscope and assign TMRE fluorescence, filter for outlier pixels and subtract background. TMRE intensity is controlled by the mitochondrial membrane potential in a Nernstian fashion.\n",
    "\n",
    "It works by the following steps:\n",
    "1. Subtract background using white tophat (see: https://scikit-image.org/docs/dev/auto_examples/applications/plot_morphology.html#sphx-glr-auto-examples-applications-plot-morphology-py).\n",
    "2. Filter TMRE channel between 0 and 98 percentile.\n",
    "3. Calculate TMRE fluorescence intensity statistics for all non-filtered pixels.\n",
    "\n",
    "\n",
    "##  How to use\n",
    "Step-wise guide on how to use:\n",
    "1. Treat cells with drug either acutely or with time for adaptation e.g. 24 h. Cells should be 70-100% confluent after treatment.\n",
    "2. Add 1-20 nM TMRE (non-quencing concentration has to be determined emperically, 15 nM is a good starting point), mix and move plates to IncuCyte.\n",
    "3. After 2 h incubation start imaging each well with 4 fields of view per well. Do not use more fields per view to minimize the time from first to last well, to avoid signal drift. Use the \"Adeherent Cell-by-Cell\" option with 20x resolution and image phase and RFP channels using default values.\n",
    "4. To download the raw image files pres the \"Export Images and Movies\" button on the lower left side of the image tab, then choose \"As Stored\" and export the Red channel as uncalibrated. Choose a file name prefix that indicates the drug/plate/replicate but do not use underscore in the prefix, otherwise use the default settings.\n",
    "6. Download all TIFF images and put into a folder structure on a per plate basis. \n",
    "7. Set input parameters i.e. name of the plate folders and plate dimensions.\n",
    "8. Run the functions to read and assign TMRE.\n",
    "9. Check filters are correct by visual inspection using plotting."
   ]
  },
  {
   "cell_type": "code",
   "execution_count": null,
   "metadata": {},
   "outputs": [],
   "source": []
  },
  {
   "cell_type": "markdown",
   "metadata": {},
   "source": [
    "## Set input parameters"
   ]
  },
  {
   "cell_type": "code",
   "execution_count": 29,
   "metadata": {},
   "outputs": [],
   "source": [
    "# plate_folders = ['_data/BAM15-titration-p1', '_data/BAM15-titration-p2', '_data/BAM15-titration-p3']\n",
    "# plate_folders = ['_data/Asp-titration-p1', '_data/Asp-titration-p2', '_data/Asp-titration-p3']\n",
    "plate_folders = ['_data/BAM15-titration-p1', '_data/BAM15-titration-p2', '_data/BAM15-titration-p3', '_data/Asp-titration-p1', '_data/Asp-titration-p2', '_data/Asp-titration-p3']\n",
    "plate_dim = (2, 3) # Number of rows, columns on plate"
   ]
  },
  {
   "cell_type": "code",
   "execution_count": null,
   "metadata": {},
   "outputs": [],
   "source": []
  },
  {
   "cell_type": "markdown",
   "metadata": {},
   "source": [
    "## Main program"
   ]
  },
  {
   "cell_type": "code",
   "execution_count": 30,
   "metadata": {},
   "outputs": [],
   "source": [
    "# Utility dictionaries:\n",
    "percentile_dict = {'min': 1, 'max': 98}\n",
    "abc2int = {a:n for a, n in zip(['A', 'B', 'C', 'D', 'E', 'F', 'G', 'H'], [0, 1, 2, 3, 4, 5, 6, 7])}"
   ]
  },
  {
   "cell_type": "code",
   "execution_count": null,
   "metadata": {},
   "outputs": [],
   "source": []
  },
  {
   "cell_type": "code",
   "execution_count": 31,
   "metadata": {},
   "outputs": [],
   "source": [
    "def combine_image(image_list):\n",
    "    '''\n",
    "    Combines a list of images that are different field of views\n",
    "    from the same well.\n",
    "    '''\n",
    "    Ndim = int(len(image_list)**0.5)\n",
    "    image_cols = []\n",
    "    image_idx = 0\n",
    "    for i in range(0, Ndim):\n",
    "        image_row = [image_list[j] for j in range(image_idx, image_idx+Ndim)]\n",
    "        image_idx += Ndim\n",
    "        row_cat = np.concatenate(image_row, axis=1)\n",
    "        image_cols.append(row_cat)\n",
    "    return(np.concatenate(image_cols, axis=0))"
   ]
  },
  {
   "cell_type": "code",
   "execution_count": 32,
   "metadata": {},
   "outputs": [],
   "source": [
    "def read_images(plate_folders):\n",
    "    '''\n",
    "    Read the images in the folder structure into a dictionary\n",
    "    that pairs each field of view image with its corresponding well.\n",
    "    '''\n",
    "    # Dict to hold all image information, structure:\n",
    "    # image_dict[plate][well][time][path_list] = list(paths)\n",
    "    # image_dict[plate][well][time][imat] = combined image (matrix format)\n",
    "    # image_dict[plate][well][time][TMRE_avg] = processed TMRE signal\n",
    "    image_dict = dict()\n",
    "\n",
    "    for plate in plate_folders:\n",
    "        # Glob to find all TIFF files:\n",
    "        data_path = Path(plate)\n",
    "        image_files = list(data_path.glob('*.tif'))\n",
    "\n",
    "        image_dict[plate] = dict()\n",
    "        # Read all images:\n",
    "        for p in natsorted(image_files):\n",
    "            fnam = str(p).split('/')[-1]\n",
    "            cols = fnam.split('_')\n",
    "            assert(cols[1][0] in abc2int and cols[1][1] in '0123456789') # assert this column contains the well ID\n",
    "            if cols[1] not in image_dict[plate]:\n",
    "                image_dict[plate][cols[1]] = dict()\n",
    "            if cols[3] not in image_dict[plate][cols[1]]:\n",
    "                # New well entry, to hold all image information:\n",
    "                image_dict[plate][cols[1]][cols[3]] = {'path_list': [], 'imat': None}\n",
    "            # Store each field of view belonging to the well:\n",
    "            image_dict[plate][cols[1]][cols[3]]['path_list'].append(p)\n",
    "\n",
    "        # Collect and merge all the fields of view per well into one image:\n",
    "        for well in image_dict[plate]:\n",
    "            for time in image_dict[plate][well]:\n",
    "                image_list = list()\n",
    "                for filename in image_dict[plate][well][time]['path_list']:\n",
    "                    image_list.append(io.imread(filename))\n",
    "                image_dict[plate][well][time]['imat'] = combine_image(image_list)\n",
    "    \n",
    "    return(image_dict)"
   ]
  },
  {
   "cell_type": "code",
   "execution_count": null,
   "metadata": {},
   "outputs": [],
   "source": []
  },
  {
   "cell_type": "code",
   "execution_count": 33,
   "metadata": {},
   "outputs": [],
   "source": [
    "def filter_images(image_dict, percentile_dict):\n",
    "    '''\n",
    "    Combine all the fields of view per well into one image.\n",
    "    Then subtract backgound and apply filters.\n",
    "    '''\n",
    "    for plate in image_dict:\n",
    "        for well in image_dict[plate]:\n",
    "            for time in image_dict[plate][well]:\n",
    "                # Apply white tophat filter:\n",
    "                footprint = morphology.disk(8)\n",
    "                res = morphology.white_tophat(image_dict[plate][well][time]['imat'], footprint)\n",
    "                image_dict[plate][well][time]['imat'] = res\n",
    "\n",
    "                # Find the percentile cutoff values:\n",
    "                fl_min = np.percentile(image_dict[plate][well][time]['imat'], percentile_dict['min'])\n",
    "                fl_max = np.percentile(image_dict[plate][well][time]['imat'], percentile_dict['max'])\n",
    "                # Find all pixels that are not within the percentile cutoff:\n",
    "                mask = (image_dict[plate][well][time]['imat'] < fl_min) | (image_dict[plate][well][time]['imat'] > fl_max)\n",
    "                # Apply filter:\n",
    "                image_dict[plate][well][time]['imat'][mask] = 0\n",
    "\n",
    "    return(image_dict)"
   ]
  },
  {
   "cell_type": "code",
   "execution_count": null,
   "metadata": {},
   "outputs": [],
   "source": []
  },
  {
   "cell_type": "code",
   "execution_count": 34,
   "metadata": {},
   "outputs": [],
   "source": [
    "def image_stats(image_dict):\n",
    "    '''\n",
    "    Collect stats on the processed images.\n",
    "    '''\n",
    "    # Dataframe to store the normalizated TMRE values:\n",
    "    TMRE_df = pd.DataFrame(columns=['Plate', 'Well', 'Time', 'TMRE_mean', 'TMRE_mean0', 'TMRE_sum'])\n",
    "    TMRE_df['TMRE_sum'] = pd.to_numeric(TMRE_df['TMRE_sum'])\n",
    "    row_idx = 0\n",
    "\n",
    "    for plate in image_dict:\n",
    "        for well in image_dict[plate]:\n",
    "            for time in image_dict[plate][well]:\n",
    "                # Calculate TMRE stat:\n",
    "                image_dict[plate][well][time]['TMRE_mean0'] = np.average(image_dict[plate][well][time]['imat'])\n",
    "                image_dict[plate][well][time]['TMRE_sum'] = np.sum(image_dict[plate][well][time]['imat'])\n",
    "                mask = image_dict[plate][well][time]['imat'] > 0\n",
    "                image_dict[plate][well][time]['TMRE_mean'] = np.average(image_dict[plate][well][time]['imat'][mask])\n",
    "                TMRE_df.loc[row_idx] = [plate, well, time[:-4], image_dict[plate][well][time]['TMRE_mean'], image_dict[plate][well][time]['TMRE_mean0'], image_dict[plate][well][time]['TMRE_sum']]\n",
    "                row_idx += 1\n",
    "\n",
    "    return(image_dict, TMRE_df)"
   ]
  },
  {
   "cell_type": "code",
   "execution_count": null,
   "metadata": {},
   "outputs": [],
   "source": []
  },
  {
   "cell_type": "code",
   "execution_count": null,
   "metadata": {},
   "outputs": [],
   "source": []
  },
  {
   "cell_type": "code",
   "execution_count": null,
   "metadata": {},
   "outputs": [],
   "source": []
  },
  {
   "cell_type": "code",
   "execution_count": 35,
   "metadata": {},
   "outputs": [],
   "source": [
    "def plot_plate(plate_imat, image_name, image_shape, plate_dim, vmax, vmin):\n",
    "    '''\n",
    "    Plot one plate with formatting.\n",
    "    '''\n",
    "    # The merged field of view is not perfectly square,\n",
    "    # so sizing has to be adjusted:\n",
    "    fig = plt.figure(figsize=(plate_dim[1]*3, (image_shape[0] / image_shape[1])*plate_dim[0]*3))\n",
    "    gs = GridSpec(*plate_dim, figure=fig, hspace=0.05)\n",
    "    # Choosing generic red color gradients for RFP channels: \n",
    "    color = 'Reds'\n",
    "    for i in range(plate_dim[0]):\n",
    "        for j in range(plate_dim[1]):\n",
    "            ax = fig.add_subplot(gs[i, j])\n",
    "            ax.imshow(plate_imat[i][j], color, vmax=vmax, vmin=vmin)\n",
    "            ax.get_xaxis().set_ticks([])\n",
    "            ax.get_yaxis().set_ticks([])\n",
    "            ax.set_aspect('equal')\n",
    "    fig.suptitle('{}'.format(image_name))\n",
    "    fig.subplots_adjust(wspace=0, hspace=0)\n",
    "    return(fig)"
   ]
  },
  {
   "cell_type": "code",
   "execution_count": null,
   "metadata": {},
   "outputs": [],
   "source": []
  },
  {
   "cell_type": "code",
   "execution_count": 41,
   "metadata": {},
   "outputs": [],
   "source": [
    "def plot_all(image_dict, plate_dim, same_MinMax, noPlot=False):\n",
    "    '''\n",
    "    Plot the merged and filtered images\n",
    "    in the shape of the well.\n",
    "    '''\n",
    "    if noPlot:\n",
    "        return()\n",
    "    if same_MinMax:\n",
    "        vmax = 0\n",
    "        vmin = 99999\n",
    "        for pl in image_dict:\n",
    "            for tm in image_dict[pl]:\n",
    "                for w in image_dict[pl][tm]:\n",
    "                    val_max = image_dict[pl][tm][w]['imat'].max()\n",
    "                    val_min = image_dict[pl][tm][w]['imat'].max()\n",
    "                    if val_max > vmax:\n",
    "                        vmax = val_max\n",
    "                    if val_min < vmin:\n",
    "                        vmin = val_min\n",
    "    else:\n",
    "        vmax = None\n",
    "        vmin = None\n",
    "    \n",
    "    plate = list(image_dict.keys())[0]\n",
    "    well = list(image_dict[plate].keys())[0]\n",
    "    time = list(image_dict[plate][well].keys())[0]\n",
    "    image_shape = image_dict[plate][well][time]['imat'].shape\n",
    "\n",
    "    fig_list = list()\n",
    "    for plate in image_dict:\n",
    "        well = list(image_dict[plate].keys())[0]\n",
    "        time_list = image_dict[plate][well].keys()\n",
    "        for time in natsorted(time_list):\n",
    "            # Placeholder matrix to hold the \"imat\" matrices of\n",
    "            # the merged image from each well:\n",
    "            plate_imat = [[None for j in range(plate_dim[1])] for i in range(plate_dim[0])]\n",
    "            # Fill the \"plate_imat\":\n",
    "            for well in image_dict[plate]:\n",
    "                i = abc2int[well[0]]\n",
    "                j = int(well[1:]) - 1\n",
    "                plate_imat[i][j] = image_dict[plate][well][time]['imat']\n",
    "\n",
    "            # Plot one plate:\n",
    "            image_name = '{} {}'.format(plate, time)\n",
    "            fig = plot_plate(plate_imat, image_name, image_shape, plate_dim, vmax, vmin)\n",
    "            fig_list.append(fig)\n",
    "    return(fig_list)"
   ]
  },
  {
   "cell_type": "code",
   "execution_count": null,
   "metadata": {},
   "outputs": [],
   "source": []
  },
  {
   "cell_type": "code",
   "execution_count": 37,
   "metadata": {},
   "outputs": [],
   "source": [
    "def time2min(time_list):\n",
    "    mins_list = list()\n",
    "    for time in time_list:\n",
    "        dt = datetime.strptime(time, \"%Hd%Mh%Sm\")\n",
    "        dhm = np.array([dt.hour, dt.minute, dt.second])\n",
    "        mins = np.dot(dhm, [24*60, 60, 1])\n",
    "        mins_list.append(mins)\n",
    "    return(mins_list)"
   ]
  },
  {
   "cell_type": "code",
   "execution_count": null,
   "metadata": {},
   "outputs": [],
   "source": []
  },
  {
   "cell_type": "code",
   "execution_count": null,
   "metadata": {},
   "outputs": [],
   "source": []
  },
  {
   "cell_type": "code",
   "execution_count": null,
   "metadata": {},
   "outputs": [],
   "source": []
  },
  {
   "cell_type": "code",
   "execution_count": null,
   "metadata": {},
   "outputs": [],
   "source": []
  },
  {
   "cell_type": "code",
   "execution_count": 38,
   "metadata": {},
   "outputs": [],
   "source": [
    "# Read images into dict:\n",
    "image_dict = read_images(plate_folders)"
   ]
  },
  {
   "cell_type": "code",
   "execution_count": 39,
   "metadata": {},
   "outputs": [],
   "source": [
    "# Filter:\n",
    "image_dict = filter_images(image_dict, percentile_dict)"
   ]
  },
  {
   "cell_type": "code",
   "execution_count": 40,
   "metadata": {},
   "outputs": [],
   "source": [
    "# Calculate stats:\n",
    "image_dict, TMRE_stat = image_stats(image_dict)"
   ]
  },
  {
   "cell_type": "code",
   "execution_count": null,
   "metadata": {},
   "outputs": [],
   "source": []
  },
  {
   "cell_type": "code",
   "execution_count": 43,
   "metadata": {},
   "outputs": [],
   "source": [
    "# Plot images after filters have been applied\n",
    "# to verify correct settings:\n",
    "fig_list = plot_all(image_dict, plate_dim, same_MinMax=False, noPlot=True)"
   ]
  },
  {
   "cell_type": "code",
   "execution_count": null,
   "metadata": {},
   "outputs": [],
   "source": []
  },
  {
   "cell_type": "code",
   "execution_count": 44,
   "metadata": {},
   "outputs": [],
   "source": [
    "def norm2time(df, Nread):\n",
    "    '''Normalize all TMRE stats to the value at a given timepoint'''\n",
    "    for var in ['TMRE_mean', 'TMRE_mean0', 'TMRE_sum']:\n",
    "        for rep in list(set(df['Replicate'].values)):\n",
    "            for conc in list(set(df['Conc'].values)):\n",
    "                mask = (df['Replicate'] == rep) & (df['Conc'] == conc)\n",
    "                t2 = natsorted(df.loc[mask, 'Time'].values)[Nread-1]\n",
    "                mask_t2 = mask & (df['Time'] == t2)\n",
    "                t2val = df.loc[mask_t2, var].values[0]\n",
    "                df.loc[mask, var+'_t2'] = df.loc[mask, var] / t2val\n",
    "    return(df)"
   ]
  },
  {
   "cell_type": "code",
   "execution_count": 45,
   "metadata": {},
   "outputs": [],
   "source": [
    "def align2time(df, Nread):\n",
    "    '''Align all data to a given timepoint.'''\n",
    "    t_add = 0\n",
    "    for rep in list(set(df['Replicate'].values)):\n",
    "        for conc in list(set(df['Conc'].values)):\n",
    "            mask = (df['Replicate'] == rep) & (df['Conc'] == conc)\n",
    "            t2 = natsorted(df.loc[mask, 'Time'].values)[Nread-1]\n",
    "            df.loc[mask, 'Time'] = df.loc[mask, 'Time'] - t2\n",
    "            if t2 > t_add:\n",
    "                t_add = t2\n",
    "    df['Time'] = df['Time'] + t_add\n",
    "    return(df, t_add)"
   ]
  },
  {
   "cell_type": "code",
   "execution_count": 46,
   "metadata": {},
   "outputs": [],
   "source": [
    "def vertical_intersection(df, var, x_intersection):\n",
    "    '''\n",
    "    Returns the intersection between a vertical line at x_intersection\n",
    "    and the linear interpolation between x and y.'''\n",
    "    inter_df = pd.DataFrame(columns=['Replicate', 'Conc', var])\n",
    "    inter_df[var] = pd.to_numeric(inter_df[var])\n",
    "    row_idx = 0\n",
    "\n",
    "    for rep in list(set(df['Replicate'].values)):\n",
    "        for conc in list(set(df['Conc'].values)):\n",
    "            mask = (df['Replicate'] == rep) & (df['Conc'] == conc)\n",
    "            x = df.loc[mask, 'Time'].values\n",
    "            y = df.loc[mask, var].values\n",
    "            y_inter = np.interp([x_intersection], x, y)[0]\n",
    "            inter_df.loc[row_idx] = [rep, conc, y_inter]\n",
    "            row_idx += 1\n",
    "    return(inter_df)"
   ]
  },
  {
   "cell_type": "code",
   "execution_count": null,
   "metadata": {},
   "outputs": [],
   "source": []
  },
  {
   "cell_type": "markdown",
   "metadata": {},
   "source": [
    "# Aspartate titration"
   ]
  },
  {
   "cell_type": "code",
   "execution_count": 66,
   "metadata": {},
   "outputs": [
    {
     "name": "stderr",
     "output_type": "stream",
     "text": [
      "<ipython-input-66-695a67f4df29>:4: SettingWithCopyWarning: \n",
      "A value is trying to be set on a copy of a slice from a DataFrame.\n",
      "Try using .loc[row_indexer,col_indexer] = value instead\n",
      "\n",
      "See the caveats in the documentation: https://pandas.pydata.org/pandas-docs/stable/user_guide/indexing.html#returning-a-view-versus-a-copy\n",
      "  TMRE_df['Replicate'] = [int(v[-1]) for v in TMRE_df['Well'].values]\n",
      "<ipython-input-66-695a67f4df29>:6: SettingWithCopyWarning: \n",
      "A value is trying to be set on a copy of a slice from a DataFrame.\n",
      "Try using .loc[row_indexer,col_indexer] = value instead\n",
      "\n",
      "See the caveats in the documentation: https://pandas.pydata.org/pandas-docs/stable/user_guide/indexing.html#returning-a-view-versus-a-copy\n",
      "  TMRE_df['Conc'] = [pw2conc[p.split('-')[-1]+w[0]] for p, w in zip(TMRE_df['Plate'].values, TMRE_df['Well'].values)]\n"
     ]
    }
   ],
   "source": [
    "# Process TMRE data:\n",
    "mask = np.array([v[6:9] == 'Asp' for v in TMRE_stat['Plate'].values])\n",
    "TMRE_df = TMRE_stat[mask]\n",
    "TMRE_df['Replicate'] = [int(v[-1]) for v in TMRE_df['Well'].values]\n",
    "pw2conc = {'p1A': 0, 'p1B': 1, 'p2A': 2, 'p2B': 4, 'p3A': 6, 'p3B': 20}\n",
    "TMRE_df['Conc'] = [pw2conc[p.split('-')[-1]+w[0]] for p, w in zip(TMRE_df['Plate'].values, TMRE_df['Well'].values)]\n",
    "TMRE_df = TMRE_df.drop(['Plate', 'Well'], axis=1)\n",
    "TMRE_df['Time'] = time2min(TMRE_df['Time'].values)"
   ]
  },
  {
   "cell_type": "code",
   "execution_count": 67,
   "metadata": {},
   "outputs": [],
   "source": [
    "# Normalize stats to second read timepoint:\n",
    "TMRE_df = norm2time(TMRE_df, 2)\n",
    "# Align stats to second read timepoint:\n",
    "TMRE_df, t_spike = align2time(TMRE_df, 2)"
   ]
  },
  {
   "cell_type": "code",
   "execution_count": null,
   "metadata": {},
   "outputs": [],
   "source": []
  },
  {
   "cell_type": "code",
   "execution_count": 68,
   "metadata": {},
   "outputs": [],
   "source": [
    "x_intersection = 60\n",
    "spike_time = t_spike + 12\n",
    "var = 'TMRE_sum_t2'\n",
    "\n",
    "inter_df = vertical_intersection(TMRE_df, var, x_intersection)\n",
    "c2abs = {'0': 'A', '1': 'B', '2': 'C', '4': 'D', '6': 'E', '20': 'G'}\n",
    "TMRE_df['Conc_sns'] = [c2abs[str(c)] for c in TMRE_df['Conc'].values]\n",
    "\n",
    "sns.set_context(\"talk\")"
   ]
  },
  {
   "cell_type": "code",
   "execution_count": null,
   "metadata": {},
   "outputs": [],
   "source": []
  },
  {
   "cell_type": "code",
   "execution_count": 69,
   "metadata": {},
   "outputs": [
    {
     "data": {
      "image/png": "[encoded data removed]",
      "text/plain": [
       "<Figure size 1080x396 with 3 Axes>"
      ]
     },
     "metadata": {
      "needs_background": "light"
     },
     "output_type": "display_data"
    }
   ],
   "source": [
    "fig, (ax1, ax2, ax3) = plt.subplots(1, 3, figsize=(15, 5.5))\n",
    "\n",
    "g1 = sns.lineplot(ax=ax1, x='Time', y=var, hue='Conc_sns', data=TMRE_df, palette='rocket_r', style='Conc_sns', markers=False, dashes=False, zorder=1)\n",
    "g1.set_ylabel('TMRE (normalized)');\n",
    "g1.set_xlabel('Time (min)');\n",
    "g1.set_ylim(0, g1.get_ylim()[1])\n",
    "# g1.vlines(x_intersection, *g1.get_ylim(), color='gray', linestyle='--')\n",
    "g1.vlines(spike_time, *g1.get_ylim(), color='gray', linestyle='--', linewidth=1.8, zorder=2)\n",
    "g1.text(spike_time-3, 0.55, 'Media\\nchange', horizontalalignment='right', fontsize=12)\n",
    "\n",
    "old_legend = g1.legend_\n",
    "handles = old_legend.legendHandles\n",
    "labels = ['0', '1', '2', '4', '6', '20']\n",
    "title = 'Aspartate (mM)'\n",
    "g1.legend(handles, labels, title=title, bbox_to_anchor=(0,1.02,1,0.2), loc=\"lower left\", mode=\"expand\", borderaxespad=0, ncol=3)\n",
    "\n",
    "\n",
    "\n",
    "g2 = sns.lineplot(ax=ax2, x='Time', y=var, hue='Conc_sns', data=TMRE_df, palette='rocket_r', style='Conc_sns', markers=False, dashes=False, zorder=1)\n",
    "g2.set_ylabel('TMRE (normalized)');\n",
    "g2.set_xlabel('Time (min)');\n",
    "g2.set_ylim(0, g1.get_ylim()[1])\n",
    "g2.set_xlim(20, 80)\n",
    "# g1.vlines(x_intersection, *g1.get_ylim(), color='gray', linestyle='--')\n",
    "g2.vlines(spike_time, *g1.get_ylim(), color='gray', linestyle='--', linewidth=1.8, zorder=2)\n",
    "g2.text(spike_time-3, 0.55, 'Media\\nchange', horizontalalignment='right', fontsize=12)\n",
    "g2.set_ylabel(None);\n",
    "g2.set_yticklabels([])\n",
    "g2.legend([],[], frameon=False)\n",
    "g2.set_title('Early time zoom')\n",
    "\n",
    "\n",
    "\n",
    "\n",
    "g3 = sns.barplot(ax=ax3, x='Conc', y=var, data=inter_df, palette='rocket_r', capsize=.1, errwidth=2, edgecolor='black', linewidth=2.5, alpha=0.7)\n",
    "g3.set_ylim(0, g1.get_ylim()[1])\n",
    "#g2.set_ylabel('TMRE (normalized)');\n",
    "g3.set_ylabel(None);\n",
    "g3.set_xlabel('Aspartate (mM)');\n",
    "g3.set_title('TMRE after {} min'.format(str(x_intersection)))\n",
    "g3.set_yticklabels([])\n",
    "\n",
    "\n",
    "plt.tight_layout()\n",
    "fig.savefig('plots/HT1080-2xGOT-KO_Asp-titration.pdf')"
   ]
  },
  {
   "cell_type": "code",
   "execution_count": null,
   "metadata": {},
   "outputs": [],
   "source": []
  },
  {
   "cell_type": "code",
   "execution_count": null,
   "metadata": {},
   "outputs": [],
   "source": []
  },
  {
   "cell_type": "code",
   "execution_count": null,
   "metadata": {},
   "outputs": [],
   "source": []
  },
  {
   "cell_type": "code",
   "execution_count": null,
   "metadata": {},
   "outputs": [],
   "source": []
  },
  {
   "cell_type": "code",
   "execution_count": null,
   "metadata": {},
   "outputs": [],
   "source": []
  },
  {
   "cell_type": "code",
   "execution_count": null,
   "metadata": {},
   "outputs": [],
   "source": []
  },
  {
   "cell_type": "code",
   "execution_count": null,
   "metadata": {},
   "outputs": [],
   "source": []
  },
  {
   "cell_type": "code",
   "execution_count": 672,
   "metadata": {},
   "outputs": [],
   "source": []
  },
  {
   "cell_type": "markdown",
   "metadata": {},
   "source": [
    "# BAM15 titration"
   ]
  },
  {
   "cell_type": "code",
   "execution_count": 70,
   "metadata": {},
   "outputs": [
    {
     "name": "stderr",
     "output_type": "stream",
     "text": [
      "<ipython-input-70-2fa5adb77943>:4: SettingWithCopyWarning: \n",
      "A value is trying to be set on a copy of a slice from a DataFrame.\n",
      "Try using .loc[row_indexer,col_indexer] = value instead\n",
      "\n",
      "See the caveats in the documentation: https://pandas.pydata.org/pandas-docs/stable/user_guide/indexing.html#returning-a-view-versus-a-copy\n",
      "  TMRE_df['Replicate'] = [int(v[-1]) for v in TMRE_df['Well'].values]\n",
      "<ipython-input-70-2fa5adb77943>:6: SettingWithCopyWarning: \n",
      "A value is trying to be set on a copy of a slice from a DataFrame.\n",
      "Try using .loc[row_indexer,col_indexer] = value instead\n",
      "\n",
      "See the caveats in the documentation: https://pandas.pydata.org/pandas-docs/stable/user_guide/indexing.html#returning-a-view-versus-a-copy\n",
      "  TMRE_df['Conc'] = [pw2conc[p.split('-')[-1]+w[0]] for p, w in zip(TMRE_df['Plate'].values, TMRE_df['Well'].values)]\n"
     ]
    }
   ],
   "source": [
    "# Process TMRE data:\n",
    "mask = np.array([v[6:11] == 'BAM15' for v in TMRE_stat['Plate'].values])\n",
    "TMRE_df = TMRE_stat[mask]\n",
    "TMRE_df['Replicate'] = [int(v[-1]) for v in TMRE_df['Well'].values]\n",
    "pw2conc = {'p1A': 0, 'p1B': 0.1, 'p2A': 0.3, 'p2B': 1, 'p3A': 3, 'p3B': 10}\n",
    "TMRE_df['Conc'] = [pw2conc[p.split('-')[-1]+w[0]] for p, w in zip(TMRE_df['Plate'].values, TMRE_df['Well'].values)]\n",
    "TMRE_df = TMRE_df.drop(['Plate', 'Well'], axis=1)\n",
    "TMRE_df['Time'] = time2min(TMRE_df['Time'].values)"
   ]
  },
  {
   "cell_type": "code",
   "execution_count": 71,
   "metadata": {},
   "outputs": [],
   "source": [
    "# Normalize stats to second read timepoint:\n",
    "TMRE_df = norm2time(TMRE_df, 2)\n",
    "# Align stats to second read timepoint:\n",
    "TMRE_df, t_spike = align2time(TMRE_df, 2)"
   ]
  },
  {
   "cell_type": "code",
   "execution_count": null,
   "metadata": {},
   "outputs": [],
   "source": []
  },
  {
   "cell_type": "code",
   "execution_count": 72,
   "metadata": {},
   "outputs": [],
   "source": [
    "x_intersection = 250\n",
    "spike_time = t_spike + 30\n",
    "var = 'TMRE_sum_t2'\n",
    "\n",
    "inter_df = vertical_intersection(TMRE_df, var, x_intersection)\n",
    "c2abs = {'0.0': 'A', '0.1': 'B', '0.3': 'C', '1.0': 'D', '3.0': 'E', '10.0': 'G'}\n",
    "TMRE_df['Conc_sns'] = [c2abs[str(c)] for c in TMRE_df['Conc'].values]\n",
    "\n",
    "sns.set_context(\"talk\")"
   ]
  },
  {
   "cell_type": "code",
   "execution_count": null,
   "metadata": {},
   "outputs": [],
   "source": []
  },
  {
   "cell_type": "code",
   "execution_count": 73,
   "metadata": {},
   "outputs": [
    {
     "data": {
      "image/png": "[encoded data removed]",
      "text/plain": [
       "<Figure size 720x396 with 2 Axes>"
      ]
     },
     "metadata": {
      "needs_background": "light"
     },
     "output_type": "display_data"
    }
   ],
   "source": [
    "fig, (ax1, ax2) = plt.subplots(1, 2, figsize=(10, 5.5))\n",
    "\n",
    "g1 = sns.lineplot(ax=ax1, x='Time', y=var, hue='Conc_sns', data=TMRE_df, palette='rocket_r', style='Conc_sns', markers=True, dashes=False, zorder=1)\n",
    "g1.set_ylabel('TMRE (normalized)');\n",
    "g1.set_xlabel('Time (min)');\n",
    "g1.set_ylim(0, g1.get_ylim()[1])\n",
    "# g1.vlines(x_intersection, *g1.get_ylim(), color='gray', linestyle='--')\n",
    "g1.vlines(spike_time, *g1.get_ylim(), color='gray', linestyle='--', linewidth=1.8, zorder=2)\n",
    "g1.text(spike_time-3, 0.5, 'Spike-in', horizontalalignment='right', fontsize=15)\n",
    "\n",
    "old_legend = g1.legend_\n",
    "handles = old_legend.legendHandles\n",
    "labels = ['0', '0.1', '0.3', '1.0', '3.0', '10.0']\n",
    "title = 'BAM15 (μM)'\n",
    "g1.legend(handles, labels, title=title, bbox_to_anchor=(0,1.02,1,0.2), loc=\"lower left\", mode=\"expand\", borderaxespad=0, ncol=3)\n",
    "\n",
    "\n",
    "g2 = sns.barplot(ax=ax2, x='Conc', y=var, data=inter_df, palette='rocket_r', capsize=.1, errwidth=2, edgecolor='black', linewidth=2.5, alpha=0.7)\n",
    "g2.set_ylim(0, g1.get_ylim()[1])\n",
    "#g2.set_ylabel('TMRE (normalized)');\n",
    "g2.set_ylabel(None);\n",
    "g2.set_xlabel('BAM15 (μM)');\n",
    "g2.set_title('TMRE after {} min'.format(str(x_intersection)))\n",
    "g2.set_yticklabels([])\n",
    "\n",
    "plt.tight_layout()\n",
    "fig.savefig('plots/HT1080-2xGOT-KO_BAM15-titration.pdf')"
   ]
  },
  {
   "cell_type": "code",
   "execution_count": null,
   "metadata": {},
   "outputs": [],
   "source": []
  },
  {
   "cell_type": "code",
   "execution_count": null,
   "metadata": {},
   "outputs": [],
   "source": []
  },
  {
   "cell_type": "code",
   "execution_count": null,
   "metadata": {},
   "outputs": [],
   "source": []
  },
  {
   "cell_type": "code",
   "execution_count": null,
   "metadata": {},
   "outputs": [],
   "source": []
  },
  {
   "cell_type": "code",
   "execution_count": null,
   "metadata": {},
   "outputs": [],
   "source": []
  },
  {
   "cell_type": "code",
   "execution_count": null,
   "metadata": {},
   "outputs": [],
   "source": []
  },
  {
   "cell_type": "code",
   "execution_count": null,
   "metadata": {},
   "outputs": [],
   "source": []
  }
 ],
 "metadata": {
  "kernelspec": {
   "display_name": "Python 3",
   "language": "python",
   "name": "python3"
  },
  "language_info": {
   "codemirror_mode": {
    "name": "ipython",
    "version": 3
   },
   "file_extension": ".py",
   "mimetype": "text/x-python",
   "name": "python",
   "nbconvert_exporter": "python",
   "pygments_lexer": "ipython3",
   "version": "3.8.5"
  }
 },
 "nbformat": 4,
 "nbformat_minor": 4
}
