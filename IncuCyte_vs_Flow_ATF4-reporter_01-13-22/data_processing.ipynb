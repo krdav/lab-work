{
 "cells": [
  {
   "cell_type": "code",
   "execution_count": 1,
   "metadata": {},
   "outputs": [],
   "source": [
    "import sys, os, copy, re, pathlib\n",
    "from natsort import natsorted\n",
    "import pandas as pd\n",
    "import seaborn as sns\n",
    "import FlowCal\n",
    "import numpy as np\n",
    "import matplotlib.pyplot as plt\n",
    "import matplotlib.backends.backend_pdf\n",
    "import matplotlib.patches\n",
    "import matplotlib.ticker as mticker\n",
    "import matplotlib.colors as mcolors\n",
    "from matplotlib.ticker import ScalarFormatter, FormatStrFormatter\n",
    "%matplotlib inline"
   ]
  },
  {
   "cell_type": "code",
   "execution_count": 2,
   "metadata": {},
   "outputs": [],
   "source": [
    "palette = list(mcolors.TABLEAU_COLORS.keys())\n",
    "palette.extend(['salmon', 'teal','yellowgreen'])\n",
    "sns.set_style(\"whitegrid\", {\n",
    " 'axes.spines.bottom': True,\n",
    " 'axes.spines.left': True,\n",
    " 'axes.spines.right': False,\n",
    " 'axes.spines.top': False\n",
    "})\n",
    "sns.set_theme(style=\"ticks\", palette=\"muted\")\n",
    "sns.set_context(\"talk\")"
   ]
  },
  {
   "cell_type": "code",
   "execution_count": 3,
   "metadata": {},
   "outputs": [],
   "source": [
    "# Convert row letter to integer,\n",
    "# for indicating replicates:\n",
    "letter2rep = {'A': 1, 'B': 2, 'C': 3, 'D': 4, 'E': 1, 'F': 2, 'G': 3, 'H': 4}\n",
    "letter2row = {'A': 1, 'B': 2, 'C': 3, 'D': 4, 'E': 5, 'F': 6, 'G': 7, 'H': 8}"
   ]
  },
  {
   "cell_type": "code",
   "execution_count": null,
   "metadata": {},
   "outputs": [],
   "source": []
  },
  {
   "cell_type": "code",
   "execution_count": 4,
   "metadata": {},
   "outputs": [
    {
     "data": {
      "text/html": [
       "<div>\n",
       "<style scoped>\n",
       "    .dataframe tbody tr th:only-of-type {\n",
       "        vertical-align: middle;\n",
       "    }\n",
       "\n",
       "    .dataframe tbody tr th {\n",
       "        vertical-align: top;\n",
       "    }\n",
       "\n",
       "    .dataframe thead th {\n",
       "        text-align: right;\n",
       "    }\n",
       "</style>\n",
       "<table border=\"1\" class=\"dataframe\">\n",
       "  <thead>\n",
       "    <tr style=\"text-align: right;\">\n",
       "      <th></th>\n",
       "      <th>Cell_line</th>\n",
       "      <th>Folder</th>\n",
       "      <th>Plate</th>\n",
       "      <th>Time_first_mes</th>\n",
       "      <th>Timepoints</th>\n",
       "      <th>Gradient</th>\n",
       "      <th>Unit</th>\n",
       "      <th>Drug</th>\n",
       "      <th>Rescue</th>\n",
       "      <th>Col 1</th>\n",
       "      <th>Col 2</th>\n",
       "      <th>Col 3</th>\n",
       "      <th>Col 4</th>\n",
       "      <th>Col 5</th>\n",
       "      <th>Col 6</th>\n",
       "    </tr>\n",
       "  </thead>\n",
       "  <tbody>\n",
       "    <tr>\n",
       "      <th>35</th>\n",
       "      <td>HT1080-WT_ATF4-rep</td>\n",
       "      <td>01-13-22_low</td>\n",
       "      <td>P1</td>\n",
       "      <td>18.0</td>\n",
       "      <td>False</td>\n",
       "      <td>False</td>\n",
       "      <td>NaN</td>\n",
       "      <td>Vehicle</td>\n",
       "      <td>NaN</td>\n",
       "      <td>Vehicle</td>\n",
       "      <td>Asn</td>\n",
       "      <td>SM</td>\n",
       "      <td>Asp</td>\n",
       "      <td>Pyr</td>\n",
       "      <td>aKB</td>\n",
       "    </tr>\n",
       "    <tr>\n",
       "      <th>36</th>\n",
       "      <td>HT1080-WT_ATF4-rep</td>\n",
       "      <td>01-13-22_low</td>\n",
       "      <td>P2</td>\n",
       "      <td>18.0</td>\n",
       "      <td>False</td>\n",
       "      <td>False</td>\n",
       "      <td>NaN</td>\n",
       "      <td>Rotenone</td>\n",
       "      <td>NaN</td>\n",
       "      <td>Vehicle</td>\n",
       "      <td>Asn</td>\n",
       "      <td>SM</td>\n",
       "      <td>Asp</td>\n",
       "      <td>Pyr</td>\n",
       "      <td>aKB</td>\n",
       "    </tr>\n",
       "    <tr>\n",
       "      <th>37</th>\n",
       "      <td>HT1080-WT_ATF4-rep</td>\n",
       "      <td>01-13-22_low</td>\n",
       "      <td>P3</td>\n",
       "      <td>18.0</td>\n",
       "      <td>False</td>\n",
       "      <td>False</td>\n",
       "      <td>NaN</td>\n",
       "      <td>Antimycin</td>\n",
       "      <td>NaN</td>\n",
       "      <td>Vehicle</td>\n",
       "      <td>Asn</td>\n",
       "      <td>SM</td>\n",
       "      <td>Asp</td>\n",
       "      <td>Pyr</td>\n",
       "      <td>aKB</td>\n",
       "    </tr>\n",
       "    <tr>\n",
       "      <th>38</th>\n",
       "      <td>HT1080-WT_ATF4-rep</td>\n",
       "      <td>01-13-22_low</td>\n",
       "      <td>P4</td>\n",
       "      <td>18.0</td>\n",
       "      <td>False</td>\n",
       "      <td>False</td>\n",
       "      <td>NaN</td>\n",
       "      <td>Oligomycin</td>\n",
       "      <td>NaN</td>\n",
       "      <td>Vehicle</td>\n",
       "      <td>Asn</td>\n",
       "      <td>SM</td>\n",
       "      <td>Asp</td>\n",
       "      <td>Pyr</td>\n",
       "      <td>aKB</td>\n",
       "    </tr>\n",
       "    <tr>\n",
       "      <th>39</th>\n",
       "      <td>HT1080-WT_ATF4-rep</td>\n",
       "      <td>01-13-22_low</td>\n",
       "      <td>P5</td>\n",
       "      <td>18.0</td>\n",
       "      <td>False</td>\n",
       "      <td>False</td>\n",
       "      <td>NaN</td>\n",
       "      <td>FCCP</td>\n",
       "      <td>NaN</td>\n",
       "      <td>Vehicle</td>\n",
       "      <td>Asn</td>\n",
       "      <td>SM</td>\n",
       "      <td>Asp</td>\n",
       "      <td>Pyr</td>\n",
       "      <td>aKB</td>\n",
       "    </tr>\n",
       "    <tr>\n",
       "      <th>40</th>\n",
       "      <td>HT1080-WT_ATF4-rep</td>\n",
       "      <td>01-13-22_low</td>\n",
       "      <td>P6</td>\n",
       "      <td>18.0</td>\n",
       "      <td>False</td>\n",
       "      <td>False</td>\n",
       "      <td>NaN</td>\n",
       "      <td>Mix</td>\n",
       "      <td>NaN</td>\n",
       "      <td>Vehicle</td>\n",
       "      <td>Rot</td>\n",
       "      <td>Atp</td>\n",
       "      <td>Atp+Rot</td>\n",
       "      <td>Atp+Asn</td>\n",
       "      <td>Atp+Asp</td>\n",
       "    </tr>\n",
       "  </tbody>\n",
       "</table>\n",
       "</div>"
      ],
      "text/plain": [
       "             Cell_line        Folder Plate  Time_first_mes  Timepoints  \\\n",
       "35  HT1080-WT_ATF4-rep  01-13-22_low    P1            18.0       False   \n",
       "36  HT1080-WT_ATF4-rep  01-13-22_low    P2            18.0       False   \n",
       "37  HT1080-WT_ATF4-rep  01-13-22_low    P3            18.0       False   \n",
       "38  HT1080-WT_ATF4-rep  01-13-22_low    P4            18.0       False   \n",
       "39  HT1080-WT_ATF4-rep  01-13-22_low    P5            18.0       False   \n",
       "40  HT1080-WT_ATF4-rep  01-13-22_low    P6            18.0       False   \n",
       "\n",
       "    Gradient Unit        Drug Rescue    Col 1 Col 2 Col 3    Col 4    Col 5  \\\n",
       "35     False  NaN     Vehicle    NaN  Vehicle   Asn    SM      Asp      Pyr   \n",
       "36     False  NaN    Rotenone    NaN  Vehicle   Asn    SM      Asp      Pyr   \n",
       "37     False  NaN   Antimycin    NaN  Vehicle   Asn    SM      Asp      Pyr   \n",
       "38     False  NaN  Oligomycin    NaN  Vehicle   Asn    SM      Asp      Pyr   \n",
       "39     False  NaN        FCCP    NaN  Vehicle   Asn    SM      Asp      Pyr   \n",
       "40     False  NaN         Mix    NaN  Vehicle   Rot   Atp  Atp+Rot  Atp+Asn   \n",
       "\n",
       "      Col 6  \n",
       "35      aKB  \n",
       "36      aKB  \n",
       "37      aKB  \n",
       "38      aKB  \n",
       "39      aKB  \n",
       "40  Atp+Asp  "
      ]
     },
     "execution_count": 4,
     "metadata": {},
     "output_type": "execute_result"
    }
   ],
   "source": [
    "# Read sample annotations:\n",
    "sample_anno = pd.read_excel('sample_annotations.xlsx')\n",
    "sample_anno['Plate'] = [v.upper() for v in sample_anno['Plate'].values]\n",
    "# Define the offset on the 96 well format (rows, columns):\n",
    "plate_offset = {'P1': (0, 0), 'P2': (0, 6), 'P3': (4, 0), 'P4': (0, 0), 'P5': (0, 6), 'P6': (4, 0)}\n",
    "# Flow samples were made from the 01-13-22_low batch:\n",
    "folder = '01-13-22_low'\n",
    "sample_mask = sample_anno['Folder'] == folder\n",
    "sample_anno[sample_mask]"
   ]
  },
  {
   "cell_type": "code",
   "execution_count": null,
   "metadata": {},
   "outputs": [],
   "source": []
  },
  {
   "cell_type": "code",
   "execution_count": 5,
   "metadata": {},
   "outputs": [],
   "source": [
    "# Locate FCS files:\n",
    "cur_dir = pathlib.Path('.')\n",
    "fcs_paths = list(cur_dir.glob('flow_data/Unmixed/*/P?/*.fcs'))\n",
    "\n",
    "well_names = list()\n",
    "for fp in fcs_paths:\n",
    "    fp = str(fp)\n",
    "    well_names.append('-'.join(fp.split('/')[-2:]).split(' ')[0])"
   ]
  },
  {
   "cell_type": "code",
   "execution_count": null,
   "metadata": {},
   "outputs": [],
   "source": []
  },
  {
   "cell_type": "code",
   "execution_count": 6,
   "metadata": {},
   "outputs": [
    {
     "name": "stdout",
     "output_type": "stream",
     "text": [
      "Done, minimum FSC/SSC.\n",
      "Done, single cell side scatter.\n",
      "Done, single cell forward scatter.\n",
      "Done, uniform forward and side scatter population.\n"
     ]
    }
   ],
   "source": [
    "# Read FCS files into object and apply gates:\n",
    "fcs = [FlowCal.io.FCSData(str(fp)) for fp in fcs_paths]\n",
    "# Gate for minimum forward and side scatter:\n",
    "fcs_g = [FlowCal.gate.high_low(di, channels=['FSC-A', 'FSC-H'], low=300000) for di in fcs]\n",
    "fcs_g = [FlowCal.gate.high_low(di, channels='SSC-A', low=200000) for di in fcs_g]\n",
    "print('Done, minimum FSC/SSC.')\n",
    "# Gate for single cells using side scatter:\n",
    "fcs_g = [FlowCal.gate.density2d(di, channels=['SSC-A', 'SSC-H'], gate_fraction=0.92) for di in fcs_g]\n",
    "print('Done, single cell side scatter.')\n",
    "# Gate for single cells using forward scatter:\n",
    "fcs_g = [FlowCal.gate.density2d(di, channels=['FSC-A', 'FSC-H'], gate_fraction=0.92) for di in fcs_g]\n",
    "print('Done, single cell forward scatter.')\n",
    "# Gate for uniform population as per forward and side scatter:\n",
    "fcs_g = [FlowCal.gate.density2d(di, channels=['FSC-A', 'SSC-A'], gate_fraction=0.92) for di in fcs_g]\n",
    "print('Done, uniform forward and side scatter population.')"
   ]
  },
  {
   "cell_type": "code",
   "execution_count": null,
   "metadata": {},
   "outputs": [],
   "source": []
  },
  {
   "cell_type": "code",
   "execution_count": 7,
   "metadata": {},
   "outputs": [],
   "source": [
    "# Plot gating of each sample:\n",
    "for idx, fcs_i in enumerate(fcs_g):\n",
    "    N_no_gate = len(fcs[idx])\n",
    "    N_gate = len(fcs_i)\n",
    "    title = 'Retained: {} %'.format(round(N_gate / N_no_gate * 100))\n",
    "    FlowCal.plot.density_and_hist(fcs_i, density_channels=['FSC-A', 'SSC-A'], density_params={'mode':'scatter', 'title': title}, hist_channels=['RFP-A'], savefig='_plots/after_gating/{}.pdf'.format(well_names[idx]))"
   ]
  },
  {
   "cell_type": "code",
   "execution_count": null,
   "metadata": {},
   "outputs": [],
   "source": []
  },
  {
   "cell_type": "code",
   "execution_count": 8,
   "metadata": {},
   "outputs": [],
   "source": [
    "### Read flow data into dataframe ###\n",
    "data_fl = pd.DataFrame(columns=['Folder', 'Plate', 'Drug', 'Rescue', 'Replicate', 'RFP_f1', 'RFP_f2', 'RFP_f3', 'RFP_f4', 'RFP_f5'])\n",
    "for idx, di in enumerate(fcs_g):\n",
    "    af = di[:,['AF-A']] # Autofluorescence\n",
    "    rfp = di[:,['RFP-A']] # RFP signal\n",
    "    # There can be multiple ways for calculating the average cell RFP\n",
    "    rfp_1 = rfp.mean() # Raw RFP\n",
    "    rfp_af = rfp - af\n",
    "    rfp_2 = rfp_af.mean() # RFP minus autofluorescence\n",
    "    rfp_af_min = rfp_af - rfp_af.min()\n",
    "    rfp_3 = rfp_af_min.mean() # RFP minus autofluorescence, baseline adjusted to positive values\n",
    "    mask_pos = rfp_af > 0\n",
    "    mask_neg = rfp_af < 0\n",
    "    rfp_4 = rfp_af[mask_pos].mean() # RFP minus autofluorescence, only positive values\n",
    "    rfp_af_zero = copy.deepcopy(rfp_af)\n",
    "    rfp_af_zero[mask_neg] = 0\n",
    "    rfp_5 = rfp_af_zero.mean() # RFP minus autofluorescence, negative values adjusted to zero\n",
    "\n",
    "    # Add data to row in dataframe:\n",
    "    plate, well = well_names[idx].split('-')\n",
    "    replicate = letter2rep[well[0]]\n",
    "    col_idx = int(well[1:]) - plate_offset[plate][1]\n",
    "    col = 'Col {}'.format(col_idx)\n",
    "    mask = (sample_anno['Folder'] == folder) & (sample_anno['Plate'] == plate)\n",
    "    drug = sample_anno.loc[mask, 'Drug'].values[0]\n",
    "    rescue = sample_anno.loc[mask, col].values[0]\n",
    "    data_list = [folder, plate, drug, rescue, replicate, rfp_1, rfp_2, rfp_3, rfp_4, rfp_5]\n",
    "    data_fl.loc[idx, :] = data_list"
   ]
  },
  {
   "cell_type": "code",
   "execution_count": 9,
   "metadata": {},
   "outputs": [
    {
     "data": {
      "text/html": [
       "<div>\n",
       "<style scoped>\n",
       "    .dataframe tbody tr th:only-of-type {\n",
       "        vertical-align: middle;\n",
       "    }\n",
       "\n",
       "    .dataframe tbody tr th {\n",
       "        vertical-align: top;\n",
       "    }\n",
       "\n",
       "    .dataframe thead th {\n",
       "        text-align: right;\n",
       "    }\n",
       "</style>\n",
       "<table border=\"1\" class=\"dataframe\">\n",
       "  <thead>\n",
       "    <tr style=\"text-align: right;\">\n",
       "      <th></th>\n",
       "      <th>Folder</th>\n",
       "      <th>Plate</th>\n",
       "      <th>Drug</th>\n",
       "      <th>Rescue</th>\n",
       "      <th>Replicate</th>\n",
       "      <th>RFP_f1</th>\n",
       "      <th>RFP_f2</th>\n",
       "      <th>RFP_f3</th>\n",
       "      <th>RFP_f4</th>\n",
       "      <th>RFP_f5</th>\n",
       "    </tr>\n",
       "  </thead>\n",
       "  <tbody>\n",
       "    <tr>\n",
       "      <th>0</th>\n",
       "      <td>01-13-22_low</td>\n",
       "      <td>P3</td>\n",
       "      <td>Antimycin</td>\n",
       "      <td>Vehicle</td>\n",
       "      <td>3</td>\n",
       "      <td>45021.121094</td>\n",
       "      <td>6163.371094</td>\n",
       "      <td>304353.5</td>\n",
       "      <td>16326.474609</td>\n",
       "      <td>10405.65625</td>\n",
       "    </tr>\n",
       "    <tr>\n",
       "      <th>1</th>\n",
       "      <td>01-13-22_low</td>\n",
       "      <td>P3</td>\n",
       "      <td>Antimycin</td>\n",
       "      <td>aKB</td>\n",
       "      <td>1</td>\n",
       "      <td>47859.464844</td>\n",
       "      <td>-948.019104</td>\n",
       "      <td>138758.65625</td>\n",
       "      <td>13160.193359</td>\n",
       "      <td>5874.163086</td>\n",
       "    </tr>\n",
       "    <tr>\n",
       "      <th>2</th>\n",
       "      <td>01-13-22_low</td>\n",
       "      <td>P3</td>\n",
       "      <td>Antimycin</td>\n",
       "      <td>Pyr</td>\n",
       "      <td>2</td>\n",
       "      <td>50109.695312</td>\n",
       "      <td>1927.225952</td>\n",
       "      <td>176300.875</td>\n",
       "      <td>15505.685547</td>\n",
       "      <td>7957.421387</td>\n",
       "    </tr>\n",
       "    <tr>\n",
       "      <th>3</th>\n",
       "      <td>01-13-22_low</td>\n",
       "      <td>P3</td>\n",
       "      <td>Antimycin</td>\n",
       "      <td>Vehicle</td>\n",
       "      <td>2</td>\n",
       "      <td>45576.953125</td>\n",
       "      <td>7574.200195</td>\n",
       "      <td>299821.71875</td>\n",
       "      <td>16978.421875</td>\n",
       "      <td>11277.551758</td>\n",
       "    </tr>\n",
       "    <tr>\n",
       "      <th>4</th>\n",
       "      <td>01-13-22_low</td>\n",
       "      <td>P3</td>\n",
       "      <td>Antimycin</td>\n",
       "      <td>aKB</td>\n",
       "      <td>3</td>\n",
       "      <td>47863.828125</td>\n",
       "      <td>-892.048706</td>\n",
       "      <td>193681.390625</td>\n",
       "      <td>12958.803711</td>\n",
       "      <td>5793.169434</td>\n",
       "    </tr>\n",
       "    <tr>\n",
       "      <th>...</th>\n",
       "      <td>...</td>\n",
       "      <td>...</td>\n",
       "      <td>...</td>\n",
       "      <td>...</td>\n",
       "      <td>...</td>\n",
       "      <td>...</td>\n",
       "      <td>...</td>\n",
       "      <td>...</td>\n",
       "      <td>...</td>\n",
       "      <td>...</td>\n",
       "    </tr>\n",
       "    <tr>\n",
       "      <th>139</th>\n",
       "      <td>01-13-22_low</td>\n",
       "      <td>P6</td>\n",
       "      <td>Mix</td>\n",
       "      <td>Rot</td>\n",
       "      <td>1</td>\n",
       "      <td>52716.707031</td>\n",
       "      <td>15074.275391</td>\n",
       "      <td>967318.625</td>\n",
       "      <td>19008.068359</td>\n",
       "      <td>16334.381836</td>\n",
       "    </tr>\n",
       "    <tr>\n",
       "      <th>140</th>\n",
       "      <td>01-13-22_low</td>\n",
       "      <td>P6</td>\n",
       "      <td>Mix</td>\n",
       "      <td>Atp+Asn</td>\n",
       "      <td>3</td>\n",
       "      <td>65715.570312</td>\n",
       "      <td>25761.662109</td>\n",
       "      <td>130793.015625</td>\n",
       "      <td>28481.712891</td>\n",
       "      <td>26457.318359</td>\n",
       "    </tr>\n",
       "    <tr>\n",
       "      <th>141</th>\n",
       "      <td>01-13-22_low</td>\n",
       "      <td>P6</td>\n",
       "      <td>Mix</td>\n",
       "      <td>Rot</td>\n",
       "      <td>2</td>\n",
       "      <td>65079.613281</td>\n",
       "      <td>42607.472656</td>\n",
       "      <td>82346.210938</td>\n",
       "      <td>43132.265625</td>\n",
       "      <td>42672.3125</td>\n",
       "    </tr>\n",
       "    <tr>\n",
       "      <th>142</th>\n",
       "      <td>01-13-22_low</td>\n",
       "      <td>P6</td>\n",
       "      <td>Mix</td>\n",
       "      <td>Atp+Asn</td>\n",
       "      <td>1</td>\n",
       "      <td>64944.457031</td>\n",
       "      <td>26858.878906</td>\n",
       "      <td>646655.875</td>\n",
       "      <td>29704.757812</td>\n",
       "      <td>27568.148438</td>\n",
       "    </tr>\n",
       "    <tr>\n",
       "      <th>143</th>\n",
       "      <td>01-13-22_low</td>\n",
       "      <td>P6</td>\n",
       "      <td>Mix</td>\n",
       "      <td>Atp</td>\n",
       "      <td>3</td>\n",
       "      <td>59153.5</td>\n",
       "      <td>21822.394531</td>\n",
       "      <td>874500.3125</td>\n",
       "      <td>25419.574219</td>\n",
       "      <td>22908.714844</td>\n",
       "    </tr>\n",
       "  </tbody>\n",
       "</table>\n",
       "<p>144 rows × 10 columns</p>\n",
       "</div>"
      ],
      "text/plain": [
       "           Folder Plate       Drug   Rescue Replicate        RFP_f1  \\\n",
       "0    01-13-22_low    P3  Antimycin  Vehicle         3  45021.121094   \n",
       "1    01-13-22_low    P3  Antimycin      aKB         1  47859.464844   \n",
       "2    01-13-22_low    P3  Antimycin      Pyr         2  50109.695312   \n",
       "3    01-13-22_low    P3  Antimycin  Vehicle         2  45576.953125   \n",
       "4    01-13-22_low    P3  Antimycin      aKB         3  47863.828125   \n",
       "..            ...   ...        ...      ...       ...           ...   \n",
       "139  01-13-22_low    P6        Mix      Rot         1  52716.707031   \n",
       "140  01-13-22_low    P6        Mix  Atp+Asn         3  65715.570312   \n",
       "141  01-13-22_low    P6        Mix      Rot         2  65079.613281   \n",
       "142  01-13-22_low    P6        Mix  Atp+Asn         1  64944.457031   \n",
       "143  01-13-22_low    P6        Mix      Atp         3       59153.5   \n",
       "\n",
       "           RFP_f2         RFP_f3        RFP_f4        RFP_f5  \n",
       "0     6163.371094       304353.5  16326.474609   10405.65625  \n",
       "1     -948.019104   138758.65625  13160.193359   5874.163086  \n",
       "2     1927.225952     176300.875  15505.685547   7957.421387  \n",
       "3     7574.200195   299821.71875  16978.421875  11277.551758  \n",
       "4     -892.048706  193681.390625  12958.803711   5793.169434  \n",
       "..            ...            ...           ...           ...  \n",
       "139  15074.275391     967318.625  19008.068359  16334.381836  \n",
       "140  25761.662109  130793.015625  28481.712891  26457.318359  \n",
       "141  42607.472656   82346.210938  43132.265625    42672.3125  \n",
       "142  26858.878906     646655.875  29704.757812  27568.148438  \n",
       "143  21822.394531    874500.3125  25419.574219  22908.714844  \n",
       "\n",
       "[144 rows x 10 columns]"
      ]
     },
     "execution_count": 9,
     "metadata": {},
     "output_type": "execute_result"
    }
   ],
   "source": [
    "data_fl"
   ]
  },
  {
   "cell_type": "code",
   "execution_count": null,
   "metadata": {},
   "outputs": [],
   "source": []
  },
  {
   "cell_type": "code",
   "execution_count": 10,
   "metadata": {},
   "outputs": [],
   "source": [
    "### Read IncuCyte data ###\n",
    "data_IC = pd.DataFrame(columns=['Folder', 'Plate', 'Drug', 'Rescue', 'Replicate', 'RFP_IC'])\n",
    "row_idx = 0\n",
    "cell_line_folder = 'HT1080-WT_ATF4-rep'\n",
    "home_p = pathlib.Path('IC_data/{}'.format(cell_line_folder))\n",
    "for fnam in natsorted(home_p.glob('{}/*.txt'.format(folder))):\n",
    "    plate = str(fnam).split('/')[-1][:-4]\n",
    "    plate = plate.upper()\n",
    "    tmp_df = pd.read_csv(fnam, skiprows=1, sep='\\t')\n",
    "    # Notice the last timepoint is chosen:\n",
    "    for colnam, val in zip(tmp_df.columns, tmp_df.loc[len(tmp_df)-1].values):\n",
    "        if colnam[0] in 'ABCD' and colnam[1] in '123456':\n",
    "            pass\n",
    "        else:\n",
    "            continue\n",
    "\n",
    "        rep = letter2rep[colnam[0]]\n",
    "        col = 'Col {}'.format(colnam[1])\n",
    "        mask = (sample_anno['Folder'] == folder) & (sample_anno['Plate'] == plate)\n",
    "        drug = sample_anno.loc[mask, 'Drug'].values[0]\n",
    "        rescue = sample_anno.loc[mask, col].values[0]\n",
    "        data_list = [folder, plate, drug, rescue, rep, val]\n",
    "        data_IC.loc[row_idx, :] = data_list\n",
    "        row_idx += 1"
   ]
  },
  {
   "cell_type": "code",
   "execution_count": 11,
   "metadata": {},
   "outputs": [
    {
     "data": {
      "text/html": [
       "<div>\n",
       "<style scoped>\n",
       "    .dataframe tbody tr th:only-of-type {\n",
       "        vertical-align: middle;\n",
       "    }\n",
       "\n",
       "    .dataframe tbody tr th {\n",
       "        vertical-align: top;\n",
       "    }\n",
       "\n",
       "    .dataframe thead th {\n",
       "        text-align: right;\n",
       "    }\n",
       "</style>\n",
       "<table border=\"1\" class=\"dataframe\">\n",
       "  <thead>\n",
       "    <tr style=\"text-align: right;\">\n",
       "      <th></th>\n",
       "      <th>Folder</th>\n",
       "      <th>Plate</th>\n",
       "      <th>Drug</th>\n",
       "      <th>Rescue</th>\n",
       "      <th>Replicate</th>\n",
       "      <th>RFP_IC</th>\n",
       "    </tr>\n",
       "  </thead>\n",
       "  <tbody>\n",
       "    <tr>\n",
       "      <th>0</th>\n",
       "      <td>01-13-22_low</td>\n",
       "      <td>P1</td>\n",
       "      <td>Vehicle</td>\n",
       "      <td>Vehicle</td>\n",
       "      <td>1</td>\n",
       "      <td>1707118</td>\n",
       "    </tr>\n",
       "    <tr>\n",
       "      <th>1</th>\n",
       "      <td>01-13-22_low</td>\n",
       "      <td>P1</td>\n",
       "      <td>Vehicle</td>\n",
       "      <td>Vehicle</td>\n",
       "      <td>2</td>\n",
       "      <td>1972226</td>\n",
       "    </tr>\n",
       "    <tr>\n",
       "      <th>2</th>\n",
       "      <td>01-13-22_low</td>\n",
       "      <td>P1</td>\n",
       "      <td>Vehicle</td>\n",
       "      <td>Vehicle</td>\n",
       "      <td>3</td>\n",
       "      <td>2214697</td>\n",
       "    </tr>\n",
       "    <tr>\n",
       "      <th>3</th>\n",
       "      <td>01-13-22_low</td>\n",
       "      <td>P1</td>\n",
       "      <td>Vehicle</td>\n",
       "      <td>Vehicle</td>\n",
       "      <td>4</td>\n",
       "      <td>1850008</td>\n",
       "    </tr>\n",
       "    <tr>\n",
       "      <th>4</th>\n",
       "      <td>01-13-22_low</td>\n",
       "      <td>P1</td>\n",
       "      <td>Vehicle</td>\n",
       "      <td>Asn</td>\n",
       "      <td>1</td>\n",
       "      <td>2521753</td>\n",
       "    </tr>\n",
       "    <tr>\n",
       "      <th>...</th>\n",
       "      <td>...</td>\n",
       "      <td>...</td>\n",
       "      <td>...</td>\n",
       "      <td>...</td>\n",
       "      <td>...</td>\n",
       "      <td>...</td>\n",
       "    </tr>\n",
       "    <tr>\n",
       "      <th>138</th>\n",
       "      <td>01-13-22_low</td>\n",
       "      <td>P6</td>\n",
       "      <td>Mix</td>\n",
       "      <td>Atp+Asn</td>\n",
       "      <td>4</td>\n",
       "      <td>4045354</td>\n",
       "    </tr>\n",
       "    <tr>\n",
       "      <th>139</th>\n",
       "      <td>01-13-22_low</td>\n",
       "      <td>P6</td>\n",
       "      <td>Mix</td>\n",
       "      <td>Atp+Asp</td>\n",
       "      <td>1</td>\n",
       "      <td>1866304</td>\n",
       "    </tr>\n",
       "    <tr>\n",
       "      <th>140</th>\n",
       "      <td>01-13-22_low</td>\n",
       "      <td>P6</td>\n",
       "      <td>Mix</td>\n",
       "      <td>Atp+Asp</td>\n",
       "      <td>2</td>\n",
       "      <td>2351615</td>\n",
       "    </tr>\n",
       "    <tr>\n",
       "      <th>141</th>\n",
       "      <td>01-13-22_low</td>\n",
       "      <td>P6</td>\n",
       "      <td>Mix</td>\n",
       "      <td>Atp+Asp</td>\n",
       "      <td>3</td>\n",
       "      <td>3025973</td>\n",
       "    </tr>\n",
       "    <tr>\n",
       "      <th>142</th>\n",
       "      <td>01-13-22_low</td>\n",
       "      <td>P6</td>\n",
       "      <td>Mix</td>\n",
       "      <td>Atp+Asp</td>\n",
       "      <td>4</td>\n",
       "      <td>2398734</td>\n",
       "    </tr>\n",
       "  </tbody>\n",
       "</table>\n",
       "<p>143 rows × 6 columns</p>\n",
       "</div>"
      ],
      "text/plain": [
       "           Folder Plate     Drug   Rescue Replicate   RFP_IC\n",
       "0    01-13-22_low    P1  Vehicle  Vehicle         1  1707118\n",
       "1    01-13-22_low    P1  Vehicle  Vehicle         2  1972226\n",
       "2    01-13-22_low    P1  Vehicle  Vehicle         3  2214697\n",
       "3    01-13-22_low    P1  Vehicle  Vehicle         4  1850008\n",
       "4    01-13-22_low    P1  Vehicle      Asn         1  2521753\n",
       "..            ...   ...      ...      ...       ...      ...\n",
       "138  01-13-22_low    P6      Mix  Atp+Asn         4  4045354\n",
       "139  01-13-22_low    P6      Mix  Atp+Asp         1  1866304\n",
       "140  01-13-22_low    P6      Mix  Atp+Asp         2  2351615\n",
       "141  01-13-22_low    P6      Mix  Atp+Asp         3  3025973\n",
       "142  01-13-22_low    P6      Mix  Atp+Asp         4  2398734\n",
       "\n",
       "[143 rows x 6 columns]"
      ]
     },
     "execution_count": 11,
     "metadata": {},
     "output_type": "execute_result"
    }
   ],
   "source": [
    "data_IC"
   ]
  },
  {
   "cell_type": "code",
   "execution_count": null,
   "metadata": {},
   "outputs": [],
   "source": []
  },
  {
   "cell_type": "code",
   "execution_count": 22,
   "metadata": {},
   "outputs": [],
   "source": [
    "# Merge dataframe:\n",
    "data_merged = data_IC.merge(data_fl, on=['Folder', 'Plate', 'Drug', 'Rescue','Replicate'])\n",
    "data_merged = data_merged.astype({'RFP_IC': 'float', 'RFP_f1': 'float', 'RFP_f2': 'float', 'RFP_f3': 'float', 'RFP_f4': 'float', 'RFP_f5': 'float'})"
   ]
  },
  {
   "cell_type": "code",
   "execution_count": 23,
   "metadata": {},
   "outputs": [
    {
     "name": "stdout",
     "output_type": "stream",
     "text": [
      "Correlation: RFP_f1 -> 0.2\n",
      "Correlation: RFP_f2 -> 0.69\n",
      "Correlation: RFP_f3 -> -0.021\n",
      "Correlation: RFP_f4 -> 0.77\n",
      "Correlation: RFP_f5 -> 0.74\n"
     ]
    }
   ],
   "source": [
    "# Let's look at the correlation between flow and IncuCyte data:\n",
    "x = data_merged['RFP_IC'].values.astype(float)\n",
    "for i in range(5):\n",
    "    y = data_merged['RFP_f{}'.format(i+1)].values\n",
    "    cor = np.corrcoef(x, y)[0][1]\n",
    "    print('Correlation: RFP_f{} -> {:.2}'.format(i+1, cor))"
   ]
  },
  {
   "cell_type": "code",
   "execution_count": 24,
   "metadata": {},
   "outputs": [
    {
     "data": {
      "text/plain": [
       "<matplotlib.collections.PathCollection at 0x7fab23bdc9d0>"
      ]
     },
     "execution_count": 24,
     "metadata": {},
     "output_type": "execute_result"
    },
    {
     "data": {
      "image/png": "[encoded data removed]",
      "text/plain": [
       "<Figure size 432x288 with 1 Axes>"
      ]
     },
     "metadata": {},
     "output_type": "display_data"
    }
   ],
   "source": [
    "# RFP_f4 is highly correlated:\n",
    "flow_RFP = 'RFP_f4'\n",
    "y = data_merged[flow_RFP].values\n",
    "plt.scatter(x, y)\n",
    "# plt.xscale('log')\n",
    "# plt.yscale('log')"
   ]
  },
  {
   "cell_type": "code",
   "execution_count": null,
   "metadata": {},
   "outputs": [],
   "source": []
  },
  {
   "cell_type": "code",
   "execution_count": null,
   "metadata": {},
   "outputs": [],
   "source": []
  },
  {
   "cell_type": "code",
   "execution_count": 38,
   "metadata": {},
   "outputs": [
    {
     "name": "stdout",
     "output_type": "stream",
     "text": [
      "Correlation: RFP_f1 -> 0.2\n",
      "Correlation: RFP_f2 -> 0.72\n",
      "Correlation: RFP_f3 -> -0.036\n",
      "Correlation: RFP_f4 -> 0.84\n",
      "Correlation: RFP_f5 -> 0.79\n"
     ]
    },
    {
     "name": "stderr",
     "output_type": "stream",
     "text": [
      "<ipython-input-38-d0fd6fcf0768>:3: FutureWarning: The default value of numeric_only in DataFrameGroupBy.mean is deprecated. In a future version, numeric_only will default to False. Either specify numeric_only or select only columns which should be valid for the function.\n",
      "  data_merged_mean = data_merged.groupby(['Folder', 'Plate', 'Drug', 'Rescue']).mean().reset_index()\n"
     ]
    }
   ],
   "source": [
    "# Maybe the correlation increases by taking\n",
    "# the average of the replicates:\n",
    "data_merged_mean = data_merged.groupby(['Folder', 'Plate', 'Drug', 'Rescue']).mean().reset_index()\n",
    "x = data_merged_mean['RFP_IC'].values.astype(float)\n",
    "for i in range(5):\n",
    "    y = data_merged_mean['RFP_f{}'.format(i+1)].values\n",
    "    cor = np.corrcoef(x, y)[0][1]\n",
    "    print('Correlation: RFP_f{} -> {:.2}'.format(i+1, cor))"
   ]
  },
  {
   "cell_type": "code",
   "execution_count": 39,
   "metadata": {},
   "outputs": [
    {
     "data": {
      "text/plain": [
       "<matplotlib.collections.PathCollection at 0x7fab2c1da4f0>"
      ]
     },
     "execution_count": 39,
     "metadata": {},
     "output_type": "execute_result"
    },
    {
     "data": {
      "image/png": "[encoded data removed]",
      "text/plain": [
       "<Figure size 432x288 with 1 Axes>"
      ]
     },
     "metadata": {},
     "output_type": "display_data"
    }
   ],
   "source": [
    "# The correlation to RFP_f4 looks pretty good:\n",
    "flow_RFP = 'RFP_f4'\n",
    "y = data_merged_mean[flow_RFP].values\n",
    "plt.scatter(x, y)\n",
    "# plt.xscale('log')\n",
    "# plt.yscale('log')"
   ]
  },
  {
   "cell_type": "code",
   "execution_count": 44,
   "metadata": {},
   "outputs": [
    {
     "data": {
      "image/png": "[encoded data removed]",
      "text/plain": [
       "<Figure size 432x360 with 1 Axes>"
      ]
     },
     "metadata": {},
     "output_type": "display_data"
    }
   ],
   "source": [
    "\n",
    "fig, ax1 = plt.subplots(1, 1, figsize=(6, 5))\n",
    "g1 = sns.regplot(ax=ax1, x=x, y=y, scatter_kws=dict(alpha=0.7), \\\n",
    "                 ci=None, line_kws=dict(color='red', alpha=0.4))\n",
    "\n",
    "g1.set_ylabel('RFP (AU; flow)');\n",
    "g1.set_xlabel('RFP (AU; IC)');\n",
    "\n",
    "fig.tight_layout()\n",
    "fig.savefig('plots/corr.pdf')"
   ]
  },
  {
   "cell_type": "code",
   "execution_count": null,
   "metadata": {},
   "outputs": [],
   "source": []
  },
  {
   "cell_type": "code",
   "execution_count": null,
   "metadata": {},
   "outputs": [],
   "source": []
  },
  {
   "cell_type": "code",
   "execution_count": 17,
   "metadata": {},
   "outputs": [
    {
     "name": "stderr",
     "output_type": "stream",
     "text": [
      "<ipython-input-17-5da575a35e37>:4: FutureWarning: \n",
      "\n",
      "The `ci` parameter is deprecated. Use `errorbar=('ci', 90)` for the same effect.\n",
      "\n",
      "  g1 = sns.barplot(ax=ax1, data=data_merged[mask], x='Drug', y='RFP_IC', hue='Rescue', ci=90, capsize=.04, errwidth=2, edgecolor='black', linewidth=2.5, alpha=0.7, zorder=1)\n"
     ]
    },
    {
     "data": {
      "image/png": "[encoded data removed]",
      "text/plain": [
       "<Figure size 792x360 with 1 Axes>"
      ]
     },
     "metadata": {},
     "output_type": "display_data"
    }
   ],
   "source": [
    "### Plot IncuCyte results ###\n",
    "fig, ax1 = plt.subplots(1, 1, figsize=(11, 5))\n",
    "mask = (data_merged['Folder'] == folder) & (data_merged['Drug'] != 'Mix')\n",
    "g1 = sns.barplot(ax=ax1, data=data_merged[mask], x='Drug', y='RFP_IC', hue='Rescue', ci=90, capsize=.04, errwidth=2, edgecolor='black', linewidth=2.5, alpha=0.7, zorder=1)\n",
    "ax1.axhline(y=1, color='r', linestyle='--', zorder=0)\n",
    "\n",
    "g1.set_ylabel('RFP (AU)')\n",
    "g1.set_xlabel('')\n",
    "g1.set_title('HT1080 ATF4-reporter (low)')\n",
    "g1.grid(True, axis='y')\n",
    "g1.legend(bbox_to_anchor=(1.04,1), borderaxespad=0, title='Rescue')\n",
    "\n",
    "sns.despine()\n",
    "fig.tight_layout()\n",
    "fig.savefig('plots/IncuCyte_mito-inhib.pdf', bbox_inches='tight')"
   ]
  },
  {
   "cell_type": "code",
   "execution_count": null,
   "metadata": {},
   "outputs": [],
   "source": []
  },
  {
   "cell_type": "code",
   "execution_count": 18,
   "metadata": {},
   "outputs": [
    {
     "name": "stderr",
     "output_type": "stream",
     "text": [
      "<ipython-input-18-66008db8839e>:4: FutureWarning: \n",
      "\n",
      "The `ci` parameter is deprecated. Use `errorbar=('ci', 90)` for the same effect.\n",
      "\n",
      "  g1 = sns.barplot(ax=ax1, data=data_merged[mask], x='Drug', y='RFP_f4', hue='Rescue', ci=90, capsize=.04, errwidth=2, edgecolor='black', linewidth=2.5, alpha=0.7, zorder=1)\n"
     ]
    },
    {
     "data": {
      "image/png": "[encoded data removed]",
      "text/plain": [
       "<Figure size 792x360 with 1 Axes>"
      ]
     },
     "metadata": {},
     "output_type": "display_data"
    }
   ],
   "source": [
    "### Plot flow results ###\n",
    "fig, ax1 = plt.subplots(1, 1, figsize=(11, 5))\n",
    "mask = (data_merged['Folder'] == folder) & (data_merged['Drug'] != 'Mix')\n",
    "g1 = sns.barplot(ax=ax1, data=data_merged[mask], x='Drug', y='RFP_f4', hue='Rescue', ci=90, capsize=.04, errwidth=2, edgecolor='black', linewidth=2.5, alpha=0.7, zorder=1)\n",
    "ax1.axhline(y=1, color='r', linestyle='--', zorder=0)\n",
    "\n",
    "g1.set_ylabel('RFP (AU)')\n",
    "g1.set_xlabel('')\n",
    "g1.set_title('HT1080 ATF4-reporter (low)')\n",
    "g1.grid(True, axis='y')\n",
    "g1.legend(bbox_to_anchor=(1.04,1), borderaxespad=0, title='Rescue')\n",
    "\n",
    "sns.despine()\n",
    "fig.tight_layout()\n",
    "fig.savefig('plots/flow_mito-inhib.pdf', bbox_inches='tight')"
   ]
  },
  {
   "cell_type": "code",
   "execution_count": null,
   "metadata": {},
   "outputs": [],
   "source": []
  },
  {
   "cell_type": "code",
   "execution_count": 19,
   "metadata": {},
   "outputs": [
    {
     "name": "stderr",
     "output_type": "stream",
     "text": [
      "<ipython-input-19-808dee5a3260>:4: FutureWarning: \n",
      "\n",
      "The `ci` parameter is deprecated. Use `errorbar=('ci', 90)` for the same effect.\n",
      "\n",
      "  g1 = sns.barplot(ax=ax1, data=data_merged[mask], x='Rescue', y='RFP_IC', ci=90, capsize=.04, errwidth=2, edgecolor='black', linewidth=2.5, alpha=0.7, zorder=1)\n"
     ]
    },
    {
     "data": {
      "image/png": "[encoded data removed]",
      "text/plain": [
       "<Figure size 432x360 with 1 Axes>"
      ]
     },
     "metadata": {},
     "output_type": "display_data"
    }
   ],
   "source": [
    "### Plot Atpenin data - IncuCyte ###\n",
    "fig, ax1 = plt.subplots(1, 1, figsize=(6, 5))\n",
    "mask = (data_merged['Drug'] == 'Mix')\n",
    "g1 = sns.barplot(ax=ax1, data=data_merged[mask], x='Rescue', y='RFP_IC', ci=90, capsize=.04, errwidth=2, edgecolor='black', linewidth=2.5, alpha=0.7, zorder=1)\n",
    "\n",
    "g1.set_ylabel('RFP (AU)')\n",
    "g1.set_title('ATF4-reporter, Atpenin experiment')\n",
    "g1.set_xticklabels(g1.get_xticklabels(), rotation=30)\n",
    "g1.grid(True, axis='y')\n",
    "\n",
    "sns.despine()\n",
    "fig.tight_layout()\n",
    "fig.savefig('plots/IncuCyte_Atp-exp.pdf', bbox_inches='tight')"
   ]
  },
  {
   "cell_type": "code",
   "execution_count": null,
   "metadata": {},
   "outputs": [],
   "source": []
  },
  {
   "cell_type": "code",
   "execution_count": 20,
   "metadata": {},
   "outputs": [
    {
     "name": "stderr",
     "output_type": "stream",
     "text": [
      "<ipython-input-20-848170c6ea8d>:4: FutureWarning: \n",
      "\n",
      "The `ci` parameter is deprecated. Use `errorbar=('ci', 90)` for the same effect.\n",
      "\n",
      "  g1 = sns.barplot(ax=ax1, data=data_merged[mask], x='Rescue', y='RFP_f4', ci=90, capsize=.04, errwidth=2, edgecolor='black', linewidth=2.5, alpha=0.7, zorder=1)\n"
     ]
    },
    {
     "data": {
      "image/png": "[encoded data removed]",
      "text/plain": [
       "<Figure size 432x360 with 1 Axes>"
      ]
     },
     "metadata": {},
     "output_type": "display_data"
    }
   ],
   "source": [
    "### Plot Atpenin data - flow ###\n",
    "fig, ax1 = plt.subplots(1, 1, figsize=(6, 5))\n",
    "mask = (data_merged['Drug'] == 'Mix')\n",
    "g1 = sns.barplot(ax=ax1, data=data_merged[mask], x='Rescue', y='RFP_f4', ci=90, capsize=.04, errwidth=2, edgecolor='black', linewidth=2.5, alpha=0.7, zorder=1)\n",
    "\n",
    "g1.set_ylabel('RFP (AU)')\n",
    "g1.set_title('ATF4-reporter, Atpenin experiment')\n",
    "g1.set_xticklabels(g1.get_xticklabels(), rotation=30)\n",
    "g1.grid(True, axis='y')\n",
    "\n",
    "sns.despine()\n",
    "fig.tight_layout()\n",
    "fig.savefig('plots/flow_Atp-exp.pdf', bbox_inches='tight')"
   ]
  },
  {
   "cell_type": "code",
   "execution_count": null,
   "metadata": {},
   "outputs": [],
   "source": []
  },
  {
   "cell_type": "code",
   "execution_count": null,
   "metadata": {},
   "outputs": [],
   "source": []
  },
  {
   "cell_type": "code",
   "execution_count": null,
   "metadata": {},
   "outputs": [],
   "source": []
  },
  {
   "cell_type": "code",
   "execution_count": null,
   "metadata": {},
   "outputs": [],
   "source": []
  },
  {
   "cell_type": "code",
   "execution_count": null,
   "metadata": {},
   "outputs": [],
   "source": []
  },
  {
   "cell_type": "code",
   "execution_count": null,
   "metadata": {},
   "outputs": [],
   "source": []
  },
  {
   "cell_type": "code",
   "execution_count": null,
   "metadata": {},
   "outputs": [],
   "source": []
  }
 ],
 "metadata": {
  "kernelspec": {
   "display_name": "Python 3",
   "language": "python",
   "name": "python3"
  },
  "language_info": {
   "codemirror_mode": {
    "name": "ipython",
    "version": 3
   },
   "file_extension": ".py",
   "mimetype": "text/x-python",
   "name": "python",
   "nbconvert_exporter": "python",
   "pygments_lexer": "ipython3",
   "version": "3.8.5"
  }
 },
 "nbformat": 4,
 "nbformat_minor": 2
}
