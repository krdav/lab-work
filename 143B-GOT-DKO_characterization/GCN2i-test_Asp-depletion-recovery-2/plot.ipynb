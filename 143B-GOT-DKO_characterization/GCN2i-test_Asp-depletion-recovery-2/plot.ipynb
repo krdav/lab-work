{
 "cells": [
  {
   "cell_type": "code",
   "execution_count": 6,
   "metadata": {},
   "outputs": [],
   "source": [
    "import numpy as np\n",
    "import seaborn as sns\n",
    "import pandas as pd\n",
    "import matplotlib.pyplot as plt\n",
    "import matplotlib.backends.backend_pdf\n",
    "import matplotlib.colors as mcolors\n",
    "palette = list(mcolors.TABLEAU_COLORS.keys())\n",
    "%matplotlib inline"
   ]
  },
  {
   "cell_type": "code",
   "execution_count": 7,
   "metadata": {},
   "outputs": [],
   "source": [
    "#sns.set_theme(style=\"ticks\", palette=\"pastel\")\n",
    "sns.set_theme(style=\"ticks\", palette=\"muted\")\n",
    "sns.set_context(\"talk\")"
   ]
  },
  {
   "cell_type": "code",
   "execution_count": null,
   "metadata": {},
   "outputs": [],
   "source": []
  },
  {
   "cell_type": "code",
   "execution_count": 8,
   "metadata": {},
   "outputs": [],
   "source": [
    "df = pd.read_excel('plot_data.xlsx')"
   ]
  },
  {
   "cell_type": "code",
   "execution_count": 9,
   "metadata": {},
   "outputs": [
    {
     "data": {
      "text/html": [
       "<div>\n",
       "<style scoped>\n",
       "    .dataframe tbody tr th:only-of-type {\n",
       "        vertical-align: middle;\n",
       "    }\n",
       "\n",
       "    .dataframe tbody tr th {\n",
       "        vertical-align: top;\n",
       "    }\n",
       "\n",
       "    .dataframe thead th {\n",
       "        text-align: right;\n",
       "    }\n",
       "</style>\n",
       "<table border=\"1\" class=\"dataframe\">\n",
       "  <thead>\n",
       "    <tr style=\"text-align: right;\">\n",
       "      <th></th>\n",
       "      <th>Sample ID</th>\n",
       "      <th>Number</th>\n",
       "      <th>GCN2i</th>\n",
       "    </tr>\n",
       "  </thead>\n",
       "  <tbody>\n",
       "    <tr>\n",
       "      <th>0</th>\n",
       "      <td>10uM-vec_1</td>\n",
       "      <td>218800</td>\n",
       "      <td>Vehicle</td>\n",
       "    </tr>\n",
       "    <tr>\n",
       "      <th>1</th>\n",
       "      <td>10uM-vec_2</td>\n",
       "      <td>226800</td>\n",
       "      <td>Vehicle</td>\n",
       "    </tr>\n",
       "    <tr>\n",
       "      <th>2</th>\n",
       "      <td>1uM-vec_3</td>\n",
       "      <td>212500</td>\n",
       "      <td>Vehicle</td>\n",
       "    </tr>\n",
       "    <tr>\n",
       "      <th>3</th>\n",
       "      <td>10uM-vec_1</td>\n",
       "      <td>222200</td>\n",
       "      <td>Vehicle</td>\n",
       "    </tr>\n",
       "    <tr>\n",
       "      <th>4</th>\n",
       "      <td>10uM-vec_2</td>\n",
       "      <td>240100</td>\n",
       "      <td>Vehicle</td>\n",
       "    </tr>\n",
       "    <tr>\n",
       "      <th>5</th>\n",
       "      <td>10uM-vec_3</td>\n",
       "      <td>251500</td>\n",
       "      <td>Vehicle</td>\n",
       "    </tr>\n",
       "    <tr>\n",
       "      <th>6</th>\n",
       "      <td>1uM-GCN2i_1</td>\n",
       "      <td>76060</td>\n",
       "      <td>1 μM</td>\n",
       "    </tr>\n",
       "    <tr>\n",
       "      <th>7</th>\n",
       "      <td>1uM-GCN2i_2</td>\n",
       "      <td>70470</td>\n",
       "      <td>1 μM</td>\n",
       "    </tr>\n",
       "    <tr>\n",
       "      <th>8</th>\n",
       "      <td>1uM-GCN2i_3</td>\n",
       "      <td>78310</td>\n",
       "      <td>1 μM</td>\n",
       "    </tr>\n",
       "    <tr>\n",
       "      <th>9</th>\n",
       "      <td>10uM-GCN2i_1</td>\n",
       "      <td>120400</td>\n",
       "      <td>10 μM</td>\n",
       "    </tr>\n",
       "    <tr>\n",
       "      <th>10</th>\n",
       "      <td>10uM-GCN2i_2</td>\n",
       "      <td>135300</td>\n",
       "      <td>10 μM</td>\n",
       "    </tr>\n",
       "    <tr>\n",
       "      <th>11</th>\n",
       "      <td>10uM-GCN2i_3</td>\n",
       "      <td>145200</td>\n",
       "      <td>10 μM</td>\n",
       "    </tr>\n",
       "  </tbody>\n",
       "</table>\n",
       "</div>"
      ],
      "text/plain": [
       "       Sample ID  Number    GCN2i\n",
       "0     10uM-vec_1  218800  Vehicle\n",
       "1     10uM-vec_2  226800  Vehicle\n",
       "2      1uM-vec_3  212500  Vehicle\n",
       "3     10uM-vec_1  222200  Vehicle\n",
       "4     10uM-vec_2  240100  Vehicle\n",
       "5     10uM-vec_3  251500  Vehicle\n",
       "6    1uM-GCN2i_1   76060     1 μM\n",
       "7    1uM-GCN2i_2   70470     1 μM\n",
       "8    1uM-GCN2i_3   78310     1 μM\n",
       "9   10uM-GCN2i_1  120400    10 μM\n",
       "10  10uM-GCN2i_2  135300    10 μM\n",
       "11  10uM-GCN2i_3  145200    10 μM"
      ]
     },
     "execution_count": 9,
     "metadata": {},
     "output_type": "execute_result"
    }
   ],
   "source": [
    "df"
   ]
  },
  {
   "cell_type": "code",
   "execution_count": 23,
   "metadata": {},
   "outputs": [
    {
     "data": {
      "image/png": "[encoded data removed]",
      "text/plain": [
       "<Figure size 432x288 with 1 Axes>"
      ]
     },
     "metadata": {},
     "output_type": "display_data"
    }
   ],
   "source": [
    "fig, ax1 = plt.subplots(1, 1, figsize=(6, 4))\n",
    "\n",
    "g1 = sns.barplot(ax=ax1, x='GCN2i', y='Number', data=df, capsize=.1, errwidth=2, edgecolor='black', linewidth=2.5, alpha=0.7)\n",
    "\n",
    "#g1.set_yscale('log')\n",
    "g1.set_ylabel('Cell count\\n2d post Asp rescue');\n",
    "g1.set_xlabel('GCN2i treatment');\n",
    "g1.ticklabel_format(axis='y', style='sci', scilimits=[0, 0])\n",
    "\n",
    "plt.tight_layout()\n",
    "fig.savefig('GCN2i-Asp-rescue.pdf')"
   ]
  },
  {
   "cell_type": "code",
   "execution_count": null,
   "metadata": {},
   "outputs": [],
   "source": []
  },
  {
   "cell_type": "code",
   "execution_count": null,
   "metadata": {},
   "outputs": [],
   "source": []
  },
  {
   "cell_type": "code",
   "execution_count": null,
   "metadata": {},
   "outputs": [],
   "source": []
  },
  {
   "cell_type": "code",
   "execution_count": null,
   "metadata": {},
   "outputs": [],
   "source": []
  },
  {
   "cell_type": "code",
   "execution_count": null,
   "metadata": {},
   "outputs": [],
   "source": []
  },
  {
   "cell_type": "code",
   "execution_count": null,
   "metadata": {},
   "outputs": [],
   "source": []
  }
 ],
 "metadata": {
  "kernelspec": {
   "display_name": "Python 3",
   "language": "python",
   "name": "python3"
  },
  "language_info": {
   "codemirror_mode": {
    "name": "ipython",
    "version": 3
   },
   "file_extension": ".py",
   "mimetype": "text/x-python",
   "name": "python",
   "nbconvert_exporter": "python",
   "pygments_lexer": "ipython3",
   "version": "3.8.5"
  }
 },
 "nbformat": 4,
 "nbformat_minor": 2
}
