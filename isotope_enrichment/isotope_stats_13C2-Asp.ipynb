{
 "cells": [
  {
   "cell_type": "code",
   "execution_count": 67,
   "metadata": {},
   "outputs": [],
   "source": [
    "import pandas as pd\n",
    "import seaborn as sns\n",
    "sns.set_style(\"whitegrid\", {\n",
    " 'axes.spines.bottom': True,\n",
    " 'axes.spines.left': True,\n",
    " 'axes.spines.right': True,\n",
    " 'axes.spines.top': True\n",
    "})\n",
    "sns.set(font_scale=1)\n",
    "#sns.set_style(\"darkgrid\")\n",
    "#sns.set_context(\"poster\")\n",
    "import sys\n",
    "import os\n",
    "from scipy.optimize import newton, minimize, fsolve\n",
    "from scipy.interpolate import InterpolatedUnivariateSpline, krogh_interpolate, PchipInterpolator, interp1d\n",
    "import numpy as np\n",
    "import copy\n",
    "import re\n",
    "from pathlib import Path\n",
    "\n",
    "import neutcurve\n",
    "from neutcurve.colorschemes import CBMARKERS, CBPALETTE\n",
    "\n",
    "import matplotlib.pyplot as plt\n",
    "import matplotlib.backends.backend_pdf\n",
    "import matplotlib.colors as mcolors\n",
    "palette = list(mcolors.TABLEAU_COLORS.keys())\n",
    "palette.extend(['salmon', 'teal','yellowgreen'])\n",
    "%matplotlib inline\n",
    "\n",
    "import random\n",
    "from pyswarm import pso\n",
    "import isocor"
   ]
  },
  {
   "cell_type": "code",
   "execution_count": null,
   "metadata": {},
   "outputs": [],
   "source": []
  },
  {
   "cell_type": "code",
   "execution_count": 68,
   "metadata": {},
   "outputs": [],
   "source": [
    "element_natural_prob = {\n",
    "    'C': 0.0107,\n",
    "    'H': 0.000115,\n",
    "    'N': 0.00364\n",
    "}"
   ]
  },
  {
   "cell_type": "code",
   "execution_count": 69,
   "metadata": {},
   "outputs": [],
   "source": [
    "### Adjust for specific label:\n",
    "def obj_iso(v1, element_natural_prob, element_list, print_sim=False):\n",
    "    # Adjust:\n",
    "    element_prob = [v1, element_natural_prob[element_list[1]], element_natural_prob[element_list[2]], v1]\n",
    "\n",
    "    N_trials = 10000000\n",
    "    ra = np.random.binomial(1, element_prob, (N_trials, len(element_prob)))\n",
    "    sim_data = np.bincount(ra.sum(1)) / len(ra) * 100\n",
    "    # Adjust:\n",
    "    loss = abs(obs_data[2] - sim_data[2]) + abs(obs_data[3] - sim_data[3])\n",
    "    print(v1, loss)\n",
    "    if print_sim:\n",
    "        return(sim_data)\n",
    "    else:\n",
    "        return(loss)"
   ]
  },
  {
   "cell_type": "code",
   "execution_count": null,
   "metadata": {},
   "outputs": [],
   "source": []
  },
  {
   "cell_type": "code",
   "execution_count": 71,
   "metadata": {},
   "outputs": [],
   "source": [
    "# Asp 13C2 position 2,3. m+0,1,2,3,4 abundance data:\n",
    "metabolite = 'Asp'\n",
    "ion_formula = 'C4H6NO4'\n",
    "tracer_element = '13C'\n",
    "charge = -1\n",
    "obs_data = {\n",
    "    0: 0,\n",
    "    1: 0,\n",
    "    2: 97.8505095,\n",
    "    3: 2.1478276,\n",
    "    4: 0.0016629\n",
    "}\n",
    "\n",
    "element_list = ['C']*4"
   ]
  },
  {
   "cell_type": "code",
   "execution_count": 72,
   "metadata": {},
   "outputs": [],
   "source": [
    "# Correct the effect of natural abundance of other elements than carbon.\n",
    "# No natural abundance correction for the tracer and assume 100% tracer purity\n",
    "# to avoid multiplication with the purity matrix.\n",
    "corrector_HR = isocor.mscorrectors.MetaboliteCorrectorFactory(formula=ion_formula, label=metabolite, tracer=tracer_element, tracer_purity=[0, 1], resolution=240000, mz_of_resolution=200, charge=charge, correct_NA_tracer=False, resolution_formula_code='orbitrap')"
   ]
  },
  {
   "cell_type": "code",
   "execution_count": 73,
   "metadata": {},
   "outputs": [],
   "source": [
    "# Calculate the corrected isotope fraction:\n",
    "corrected_area, iso_fraction, res, m_enr = corrector_HR.correct([obs_data[i] for i in range(len(obs_data))])"
   ]
  },
  {
   "cell_type": "code",
   "execution_count": 77,
   "metadata": {},
   "outputs": [],
   "source": [
    "# Update the data:\n",
    "for i in range(len(obs_data)):\n",
    "    obs_data[i] = iso_fraction[i] * 100"
   ]
  },
  {
   "cell_type": "code",
   "execution_count": null,
   "metadata": {},
   "outputs": [],
   "source": []
  },
  {
   "cell_type": "code",
   "execution_count": null,
   "metadata": {},
   "outputs": [],
   "source": []
  },
  {
   "cell_type": "code",
   "execution_count": 78,
   "metadata": {},
   "outputs": [
    {
     "name": "stdout",
     "output_type": "stream",
     "text": [
      "[0.97036894] 5.725297099999995\n",
      "[0.95714428] 8.221557099999984\n",
      "[0.99079096] 1.799767099999984\n",
      "[0.96197668] 7.303587099999989\n",
      "[0.9813954] 3.6274870999999895\n",
      "[0.96077732] 7.541977099999984\n",
      "[0.99020404] 1.916107099999985\n",
      "[0.97749482] 4.37482709999999\n",
      "[0.96434705] 6.864807099999987\n",
      "[0.97170061] 5.4788070999999965\n",
      "[0.97900815] 4.078817099999988\n",
      "[0.99584469] 0.8195570999999893\n",
      "[0.95198689] 9.19238709999999\n",
      "[0.9716179] 5.4881170999999895\n",
      "[0.98649587] 2.6345570999999794\n",
      "[0.98645979] 2.6372670999999985\n",
      "[0.95230721] 9.127827099999994\n",
      "[0.96951507] 5.869837099999994\n",
      "[0.9676499] 6.240247099999986\n",
      "[0.9905176] 1.8533870999999862\n",
      "[0.95680328] 8.28404709999999\n",
      "[0.95] 9.562287099999985\n",
      "[0.9993161] 0.14289709999998124\n",
      "[0.9914997] 1.6708970999999813\n",
      "[0.9999999] 0.04075810000000901\n",
      "[0.96910421] 5.961157099999986\n",
      "[0.9999999] 0.04623810000001116\n",
      "[0.9999999] 0.044218100000004146\n",
      "[0.96772997] 6.217377099999979\n",
      "[0.98880064] 2.1916770999999855\n",
      "[0.96312459] 7.109817099999995\n",
      "[0.99875419] 0.2528570999999915\n",
      "[0.96158634] 7.399027099999976\n",
      "[0.984447] 3.022737099999985\n",
      "[0.97164123] 5.485047099999985\n",
      "[0.97908704] 4.052317099999996\n",
      "[0.9655563] 6.626217099999984\n",
      "[0.97315235] 5.189417099999993\n",
      "[0.99077572] 1.8064070999999804\n",
      "[0.97902456] 4.06767709999998\n",
      "[0.95657881] 8.327937099999977\n",
      "[0.96807206] 6.172857099999995\n",
      "[0.9999999] 0.05677810000001271\n",
      "[0.9999999] 0.05774810000000352\n",
      "[0.9999999] 0.05921810000001315\n",
      "[0.98205949] 3.492457099999989\n",
      "[0.9999999] 0.041648100000004185\n",
      "[0.9999999] 0.04650810000000627\n",
      "[0.9831024] 3.2925170999999853\n",
      "[0.99836074] 0.3332770999999881\n",
      "[0.97633631] 4.579807099999984\n",
      "[0.9999999] 0.055228100000010105\n",
      "[0.96710966] 6.34432709999998\n",
      "[0.99825005] 0.3520270999999866\n",
      "[0.9726012] 5.299547099999975\n",
      "[0.98075128] 3.7416370999999793\n",
      "[0.98723149] 2.4942470999999897\n",
      "[0.98709775] 2.527777099999988\n",
      "[0.9999999] 0.04375810000000868\n",
      "[0.98481725] 2.9633870999999923\n",
      "[0.96858189] 6.050867099999987\n",
      "[0.97899544] 4.080067099999985\n",
      "[0.9999999] 0.04830810000001984\n",
      "[0.9999999] 0.06278810000000679\n",
      "[0.9999999] 0.048268100000007585\n",
      "[0.9939255] 1.1973970999999888\n",
      "[0.9999999] 0.040968100000021046\n",
      "[0.9999999] 0.04156810000000677\n",
      "[0.9956275] 0.8664070999999902\n",
      "[0.9999999] 0.06086810000001286\n",
      "[0.98472643] 2.9732970999999826\n",
      "[0.9999999] 0.07765810000000561\n",
      "[0.9733129] 5.156017099999996\n",
      "[0.9999999] 0.03916810000000348\n",
      "Stopping search: Swarm best position change less than 1e-07\n"
     ]
    }
   ],
   "source": [
    "# Use particle swarm to find best probability to fit the data:\n",
    "def iso_fun(v1): return(obj_iso(v1, element_natural_prob, element_list))\n",
    "xopt, fopt = pso(iso_fun, (0.95,), (0.9999999,), swarmsize=20, maxiter=20, minstep=1e-7, minfunc=1e-7)"
   ]
  },
  {
   "cell_type": "code",
   "execution_count": 79,
   "metadata": {},
   "outputs": [
    {
     "data": {
      "text/plain": [
       "(0.9999999, 0.03916810000000348)"
      ]
     },
     "execution_count": 79,
     "metadata": {},
     "output_type": "execute_result"
    }
   ],
   "source": [
    "# Print probability:\n",
    "xopt[0], fopt"
   ]
  },
  {
   "cell_type": "code",
   "execution_count": null,
   "metadata": {},
   "outputs": [],
   "source": []
  },
  {
   "cell_type": "code",
   "execution_count": 80,
   "metadata": {},
   "outputs": [
    {
     "name": "stdout",
     "output_type": "stream",
     "text": [
      "0.9999999 0.033448100000021075\n"
     ]
    },
    {
     "data": {
      "text/plain": [
       "array([0.00000e+00, 2.00000e-05, 9.78624e+01, 2.12627e+00, 1.13100e-02])"
      ]
     },
     "execution_count": 80,
     "metadata": {},
     "output_type": "execute_result"
    }
   ],
   "source": [
    "# Get predictions:\n",
    "obj_iso(xopt[0], element_natural_prob, element_list, print_sim=True)"
   ]
  },
  {
   "cell_type": "code",
   "execution_count": 81,
   "metadata": {},
   "outputs": [
    {
     "data": {
      "text/plain": [
       "{0: 3.91989890898343e-16,\n",
       " 1: 5.509140396898849e-19,\n",
       " 2: 97.85050949999999,\n",
       " 3: 2.1478276,\n",
       " 4: 0.0016629}"
      ]
     },
     "execution_count": 81,
     "metadata": {},
     "output_type": "execute_result"
    }
   ],
   "source": [
    "obs_data"
   ]
  },
  {
   "cell_type": "code",
   "execution_count": null,
   "metadata": {},
   "outputs": [],
   "source": []
  },
  {
   "cell_type": "code",
   "execution_count": null,
   "metadata": {},
   "outputs": [],
   "source": []
  },
  {
   "cell_type": "code",
   "execution_count": null,
   "metadata": {},
   "outputs": [],
   "source": []
  },
  {
   "cell_type": "code",
   "execution_count": null,
   "metadata": {},
   "outputs": [],
   "source": []
  },
  {
   "cell_type": "code",
   "execution_count": null,
   "metadata": {},
   "outputs": [],
   "source": []
  },
  {
   "cell_type": "code",
   "execution_count": null,
   "metadata": {},
   "outputs": [],
   "source": []
  },
  {
   "cell_type": "code",
   "execution_count": null,
   "metadata": {},
   "outputs": [],
   "source": []
  },
  {
   "cell_type": "code",
   "execution_count": null,
   "metadata": {},
   "outputs": [],
   "source": []
  }
 ],
 "metadata": {
  "kernelspec": {
   "display_name": "Python 3",
   "language": "python",
   "name": "python3"
  },
  "language_info": {
   "codemirror_mode": {
    "name": "ipython",
    "version": 3
   },
   "file_extension": ".py",
   "mimetype": "text/x-python",
   "name": "python",
   "nbconvert_exporter": "python",
   "pygments_lexer": "ipython3",
   "version": "3.7.1"
  }
 },
 "nbformat": 4,
 "nbformat_minor": 2
}
