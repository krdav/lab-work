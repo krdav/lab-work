{
 "cells": [
  {
   "cell_type": "code",
   "execution_count": 1,
   "metadata": {},
   "outputs": [],
   "source": [
    "import pandas as pd\n",
    "import seaborn as sns\n",
    "sns.set_style(\"whitegrid\", {\n",
    " 'axes.spines.bottom': True,\n",
    " 'axes.spines.left': True,\n",
    " 'axes.spines.right': True,\n",
    " 'axes.spines.top': True\n",
    "})\n",
    "sns.set(font_scale=1)\n",
    "#sns.set_style(\"darkgrid\")\n",
    "#sns.set_context(\"poster\")\n",
    "import sys\n",
    "import os\n",
    "from scipy.optimize import newton, minimize, fsolve\n",
    "from scipy.interpolate import InterpolatedUnivariateSpline, krogh_interpolate, PchipInterpolator, interp1d\n",
    "import numpy as np\n",
    "import copy\n",
    "import re\n",
    "from pathlib import Path\n",
    "\n",
    "import neutcurve\n",
    "from neutcurve.colorschemes import CBMARKERS, CBPALETTE\n",
    "\n",
    "import matplotlib.pyplot as plt\n",
    "import matplotlib.backends.backend_pdf\n",
    "import matplotlib.colors as mcolors\n",
    "palette = list(mcolors.TABLEAU_COLORS.keys())\n",
    "palette.extend(['salmon', 'teal','yellowgreen'])\n",
    "%matplotlib inline"
   ]
  },
  {
   "cell_type": "code",
   "execution_count": null,
   "metadata": {},
   "outputs": [],
   "source": []
  },
  {
   "cell_type": "code",
   "execution_count": null,
   "metadata": {},
   "outputs": [],
   "source": []
  },
  {
   "cell_type": "code",
   "execution_count": null,
   "metadata": {},
   "outputs": [],
   "source": []
  },
  {
   "cell_type": "code",
   "execution_count": 13,
   "metadata": {},
   "outputs": [],
   "source": [
    "data_file = 'results_flat.xlsx'\n",
    "df = pd.read_excel(data_file)"
   ]
  },
  {
   "cell_type": "code",
   "execution_count": 14,
   "metadata": {},
   "outputs": [
    {
     "data": {
      "text/html": [
       "<div>\n",
       "<style scoped>\n",
       "    .dataframe tbody tr th:only-of-type {\n",
       "        vertical-align: middle;\n",
       "    }\n",
       "\n",
       "    .dataframe tbody tr th {\n",
       "        vertical-align: top;\n",
       "    }\n",
       "\n",
       "    .dataframe thead th {\n",
       "        text-align: right;\n",
       "    }\n",
       "</style>\n",
       "<table border=\"1\" class=\"dataframe\">\n",
       "  <thead>\n",
       "    <tr style=\"text-align: right;\">\n",
       "      <th></th>\n",
       "      <th>Proliferation rate</th>\n",
       "      <th>Seeding</th>\n",
       "      <th>Drug</th>\n",
       "      <th>Conc (mM)</th>\n",
       "      <th>Replicate</th>\n",
       "    </tr>\n",
       "  </thead>\n",
       "  <tbody>\n",
       "    <tr>\n",
       "      <th>0</th>\n",
       "      <td>1.031363</td>\n",
       "      <td>Dispersed</td>\n",
       "      <td>Metformin</td>\n",
       "      <td>0.1</td>\n",
       "      <td>1</td>\n",
       "    </tr>\n",
       "    <tr>\n",
       "      <th>1</th>\n",
       "      <td>1.067158</td>\n",
       "      <td>Dispersed</td>\n",
       "      <td>Metformin</td>\n",
       "      <td>0.1</td>\n",
       "      <td>2</td>\n",
       "    </tr>\n",
       "    <tr>\n",
       "      <th>2</th>\n",
       "      <td>1.062121</td>\n",
       "      <td>Dispersed</td>\n",
       "      <td>Metformin</td>\n",
       "      <td>0.1</td>\n",
       "      <td>3</td>\n",
       "    </tr>\n",
       "    <tr>\n",
       "      <th>3</th>\n",
       "      <td>0.949488</td>\n",
       "      <td>Dispersed</td>\n",
       "      <td>Metformin</td>\n",
       "      <td>0.1</td>\n",
       "      <td>4</td>\n",
       "    </tr>\n",
       "    <tr>\n",
       "      <th>4</th>\n",
       "      <td>1.000850</td>\n",
       "      <td>Dispersed</td>\n",
       "      <td>Metformin</td>\n",
       "      <td>0.1</td>\n",
       "      <td>5</td>\n",
       "    </tr>\n",
       "    <tr>\n",
       "      <th>...</th>\n",
       "      <td>...</td>\n",
       "      <td>...</td>\n",
       "      <td>...</td>\n",
       "      <td>...</td>\n",
       "      <td>...</td>\n",
       "    </tr>\n",
       "    <tr>\n",
       "      <th>103</th>\n",
       "      <td>-0.219658</td>\n",
       "      <td>Centered</td>\n",
       "      <td>Metformin</td>\n",
       "      <td>16.0</td>\n",
       "      <td>2</td>\n",
       "    </tr>\n",
       "    <tr>\n",
       "      <th>104</th>\n",
       "      <td>-0.235883</td>\n",
       "      <td>Centered</td>\n",
       "      <td>Metformin</td>\n",
       "      <td>16.0</td>\n",
       "      <td>3</td>\n",
       "    </tr>\n",
       "    <tr>\n",
       "      <th>105</th>\n",
       "      <td>-0.272604</td>\n",
       "      <td>Centered</td>\n",
       "      <td>Metformin</td>\n",
       "      <td>16.0</td>\n",
       "      <td>4</td>\n",
       "    </tr>\n",
       "    <tr>\n",
       "      <th>106</th>\n",
       "      <td>-0.353174</td>\n",
       "      <td>Centered</td>\n",
       "      <td>Metformin</td>\n",
       "      <td>16.0</td>\n",
       "      <td>5</td>\n",
       "    </tr>\n",
       "    <tr>\n",
       "      <th>107</th>\n",
       "      <td>-0.323079</td>\n",
       "      <td>Centered</td>\n",
       "      <td>Metformin</td>\n",
       "      <td>16.0</td>\n",
       "      <td>6</td>\n",
       "    </tr>\n",
       "  </tbody>\n",
       "</table>\n",
       "<p>108 rows × 5 columns</p>\n",
       "</div>"
      ],
      "text/plain": [
       "     Proliferation rate    Seeding       Drug  Conc (mM)  Replicate\n",
       "0              1.031363  Dispersed  Metformin        0.1          1\n",
       "1              1.067158  Dispersed  Metformin        0.1          2\n",
       "2              1.062121  Dispersed  Metformin        0.1          3\n",
       "3              0.949488  Dispersed  Metformin        0.1          4\n",
       "4              1.000850  Dispersed  Metformin        0.1          5\n",
       "..                  ...        ...        ...        ...        ...\n",
       "103           -0.219658   Centered  Metformin       16.0          2\n",
       "104           -0.235883   Centered  Metformin       16.0          3\n",
       "105           -0.272604   Centered  Metformin       16.0          4\n",
       "106           -0.353174   Centered  Metformin       16.0          5\n",
       "107           -0.323079   Centered  Metformin       16.0          6\n",
       "\n",
       "[108 rows x 5 columns]"
      ]
     },
     "execution_count": 14,
     "metadata": {},
     "output_type": "execute_result"
    }
   ],
   "source": [
    "df"
   ]
  },
  {
   "cell_type": "code",
   "execution_count": 21,
   "metadata": {},
   "outputs": [],
   "source": [
    "# df[df['Seeding'] == 'Dispersed']\n",
    "fits = neutcurve.CurveFits(df, conc_col='Conc (mM)', fracinf_col='Proliferation rate', serum_col='Drug', virus_col='Seeding', replicate_col='Replicate', fixtop=False, fixbottom=False)"
   ]
  },
  {
   "cell_type": "code",
   "execution_count": 38,
   "metadata": {},
   "outputs": [
    {
     "data": {
      "image/png": "[encoded data removed]",
      "text/plain": [
       "<Figure size 504x360 with 2 Axes>"
      ]
     },
     "metadata": {
      "needs_background": "light"
     },
     "output_type": "display_data"
    }
   ],
   "source": [
    "plot_name = 'IC50_curve.pdf'\n",
    "pdf_plot = matplotlib.backends.backend_pdf.PdfPages(plot_name)\n",
    "\n",
    "fig, ax = fits.plotSera(titles = ['H1299'], legendtitle='Seeding', xlabel='Metformin (mM)', ylabel='Doublings per day')\n",
    "fig.set_figwidth(7)\n",
    "fig.set_figheight(5)\n",
    "pdf_plot.savefig(fig, bbox_inches='tight')\n",
    "pdf_plot.close()"
   ]
  },
  {
   "cell_type": "code",
   "execution_count": null,
   "metadata": {},
   "outputs": [],
   "source": []
  },
  {
   "cell_type": "code",
   "execution_count": null,
   "metadata": {},
   "outputs": [],
   "source": []
  },
  {
   "cell_type": "code",
   "execution_count": null,
   "metadata": {},
   "outputs": [],
   "source": []
  },
  {
   "cell_type": "code",
   "execution_count": null,
   "metadata": {},
   "outputs": [],
   "source": []
  },
  {
   "cell_type": "code",
   "execution_count": null,
   "metadata": {},
   "outputs": [],
   "source": []
  },
  {
   "cell_type": "code",
   "execution_count": null,
   "metadata": {},
   "outputs": [],
   "source": []
  },
  {
   "cell_type": "code",
   "execution_count": null,
   "metadata": {},
   "outputs": [],
   "source": []
  },
  {
   "cell_type": "code",
   "execution_count": null,
   "metadata": {},
   "outputs": [],
   "source": []
  }
 ],
 "metadata": {
  "kernelspec": {
   "display_name": "Python 3",
   "language": "python",
   "name": "python3"
  },
  "language_info": {
   "codemirror_mode": {
    "name": "ipython",
    "version": 3
   },
   "file_extension": ".py",
   "mimetype": "text/x-python",
   "name": "python",
   "nbconvert_exporter": "python",
   "pygments_lexer": "ipython3",
   "version": "3.8.5"
  }
 },
 "nbformat": 4,
 "nbformat_minor": 2
}
