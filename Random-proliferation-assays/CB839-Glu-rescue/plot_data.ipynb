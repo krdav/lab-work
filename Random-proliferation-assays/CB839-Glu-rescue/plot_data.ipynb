{
 "cells": [
  {
   "cell_type": "code",
   "execution_count": 56,
   "metadata": {},
   "outputs": [],
   "source": [
    "import copy\n",
    "import numpy as np\n",
    "import seaborn as sns\n",
    "import pandas as pd\n",
    "import matplotlib.pyplot as plt\n",
    "import matplotlib.backends.backend_pdf\n",
    "import matplotlib.colors as mcolors\n",
    "palette = list(mcolors.TABLEAU_COLORS.keys())\n",
    "%matplotlib inline"
   ]
  },
  {
   "cell_type": "code",
   "execution_count": 2,
   "metadata": {},
   "outputs": [],
   "source": [
    "#sns.set_theme(style=\"ticks\", palette=\"pastel\")\n",
    "sns.set_theme(style=\"ticks\", palette=\"muted\")\n",
    "sns.set_context(\"talk\")"
   ]
  },
  {
   "cell_type": "code",
   "execution_count": null,
   "metadata": {},
   "outputs": [],
   "source": []
  },
  {
   "cell_type": "code",
   "execution_count": 65,
   "metadata": {},
   "outputs": [],
   "source": [
    "data_file = 'CB839_Glu-rescue_143B-SLC1A3.xlsx'\n",
    "df = pd.read_excel(data_file)\n",
    "df = df.sort_values(by=['Rescue', 'Conc'], ascending=[False, True]).reset_index(drop=True)"
   ]
  },
  {
   "cell_type": "code",
   "execution_count": 66,
   "metadata": {},
   "outputs": [],
   "source": [
    "rescue = 'Vehicle'\n",
    "mask = df_norm['Rescue'] == rescue\n",
    "mask0 =  (df['Rescue'] == rescue) & (df['Conc'] == 0)\n",
    "df.loc[mask, 'Prlfr_norm'] = df.loc[mask, 'Prlfr'] / df[mask0]['Prlfr'].values[0]\n",
    "\n",
    "rescue = 'Glu'\n",
    "mask = df_norm['Rescue'] == rescue\n",
    "mask0 =  (df['Rescue'] == rescue) & (df['Conc'] == 0)\n",
    "df.loc[mask, 'Prlfr_norm'] = df.loc[mask, 'Prlfr'] / df[mask0]['Prlfr'].values[0]"
   ]
  },
  {
   "cell_type": "code",
   "execution_count": null,
   "metadata": {},
   "outputs": [],
   "source": []
  },
  {
   "cell_type": "code",
   "execution_count": 67,
   "metadata": {},
   "outputs": [
    {
     "data": {
      "text/html": [
       "<div>\n",
       "<style scoped>\n",
       "    .dataframe tbody tr th:only-of-type {\n",
       "        vertical-align: middle;\n",
       "    }\n",
       "\n",
       "    .dataframe tbody tr th {\n",
       "        vertical-align: top;\n",
       "    }\n",
       "\n",
       "    .dataframe thead th {\n",
       "        text-align: right;\n",
       "    }\n",
       "</style>\n",
       "<table border=\"1\" class=\"dataframe\">\n",
       "  <thead>\n",
       "    <tr style=\"text-align: right;\">\n",
       "      <th></th>\n",
       "      <th>Rescue</th>\n",
       "      <th>Conc</th>\n",
       "      <th>Prlfr</th>\n",
       "      <th>Prlfr_norm</th>\n",
       "    </tr>\n",
       "  </thead>\n",
       "  <tbody>\n",
       "    <tr>\n",
       "      <th>0</th>\n",
       "      <td>Vehicle</td>\n",
       "      <td>0</td>\n",
       "      <td>0.857017</td>\n",
       "      <td>1.000000</td>\n",
       "    </tr>\n",
       "    <tr>\n",
       "      <th>1</th>\n",
       "      <td>Vehicle</td>\n",
       "      <td>1</td>\n",
       "      <td>0.996625</td>\n",
       "      <td>1.162900</td>\n",
       "    </tr>\n",
       "    <tr>\n",
       "      <th>2</th>\n",
       "      <td>Vehicle</td>\n",
       "      <td>10</td>\n",
       "      <td>0.800975</td>\n",
       "      <td>0.934608</td>\n",
       "    </tr>\n",
       "    <tr>\n",
       "      <th>3</th>\n",
       "      <td>Vehicle</td>\n",
       "      <td>100</td>\n",
       "      <td>0.215290</td>\n",
       "      <td>0.251209</td>\n",
       "    </tr>\n",
       "    <tr>\n",
       "      <th>4</th>\n",
       "      <td>Vehicle</td>\n",
       "      <td>1000</td>\n",
       "      <td>0.099544</td>\n",
       "      <td>0.116152</td>\n",
       "    </tr>\n",
       "    <tr>\n",
       "      <th>5</th>\n",
       "      <td>Vehicle</td>\n",
       "      <td>10000</td>\n",
       "      <td>-0.366162</td>\n",
       "      <td>-0.427252</td>\n",
       "    </tr>\n",
       "    <tr>\n",
       "      <th>6</th>\n",
       "      <td>Glu</td>\n",
       "      <td>0</td>\n",
       "      <td>1.255652</td>\n",
       "      <td>1.000000</td>\n",
       "    </tr>\n",
       "    <tr>\n",
       "      <th>7</th>\n",
       "      <td>Glu</td>\n",
       "      <td>1</td>\n",
       "      <td>1.332998</td>\n",
       "      <td>1.061598</td>\n",
       "    </tr>\n",
       "    <tr>\n",
       "      <th>8</th>\n",
       "      <td>Glu</td>\n",
       "      <td>10</td>\n",
       "      <td>1.254043</td>\n",
       "      <td>0.998719</td>\n",
       "    </tr>\n",
       "    <tr>\n",
       "      <th>9</th>\n",
       "      <td>Glu</td>\n",
       "      <td>100</td>\n",
       "      <td>1.297339</td>\n",
       "      <td>1.033200</td>\n",
       "    </tr>\n",
       "    <tr>\n",
       "      <th>10</th>\n",
       "      <td>Glu</td>\n",
       "      <td>1000</td>\n",
       "      <td>1.327468</td>\n",
       "      <td>1.057194</td>\n",
       "    </tr>\n",
       "    <tr>\n",
       "      <th>11</th>\n",
       "      <td>Glu</td>\n",
       "      <td>10000</td>\n",
       "      <td>1.164632</td>\n",
       "      <td>0.927512</td>\n",
       "    </tr>\n",
       "  </tbody>\n",
       "</table>\n",
       "</div>"
      ],
      "text/plain": [
       "     Rescue   Conc     Prlfr  Prlfr_norm\n",
       "0   Vehicle      0  0.857017    1.000000\n",
       "1   Vehicle      1  0.996625    1.162900\n",
       "2   Vehicle     10  0.800975    0.934608\n",
       "3   Vehicle    100  0.215290    0.251209\n",
       "4   Vehicle   1000  0.099544    0.116152\n",
       "5   Vehicle  10000 -0.366162   -0.427252\n",
       "6       Glu      0  1.255652    1.000000\n",
       "7       Glu      1  1.332998    1.061598\n",
       "8       Glu     10  1.254043    0.998719\n",
       "9       Glu    100  1.297339    1.033200\n",
       "10      Glu   1000  1.327468    1.057194\n",
       "11      Glu  10000  1.164632    0.927512"
      ]
     },
     "execution_count": 67,
     "metadata": {},
     "output_type": "execute_result"
    }
   ],
   "source": [
    "df"
   ]
  },
  {
   "cell_type": "code",
   "execution_count": 84,
   "metadata": {},
   "outputs": [],
   "source": []
  },
  {
   "cell_type": "code",
   "execution_count": null,
   "metadata": {},
   "outputs": [],
   "source": [
    "g1.legend_.get_d"
   ]
  },
  {
   "cell_type": "code",
   "execution_count": null,
   "metadata": {},
   "outputs": [],
   "source": []
  },
  {
   "cell_type": "code",
   "execution_count": 100,
   "metadata": {},
   "outputs": [
    {
     "data": {
      "image/png": "[encoded data removed]",
      "text/plain": [
       "<Figure size 576x324 with 1 Axes>"
      ]
     },
     "metadata": {
      "needs_background": "light"
     },
     "output_type": "display_data"
    }
   ],
   "source": [
    "fig, ax1 = plt.subplots(1, 1, figsize=(8, 4.5))\n",
    "\n",
    "g1 = sns.barplot(y='Prlfr', x='Conc', hue='Rescue', data=df, edgecolor='black', linewidth=2.5, alpha=0.7)\n",
    "g1.set_ylabel('Doublings per day');\n",
    "g1.set_xlabel('CB-839 (nM)');\n",
    "handles, labels = g1.get_legend_handles_labels()\n",
    "labels = ['Vehicle', '4 mM Glu']\n",
    "g1.legend(loc='upper left', bbox_to_anchor=(1.04, 1), borderaxespad=0, title='Rescue', labels=labels, handles=handles)\n",
    "g1.grid(True, axis='y')\n",
    "g1.set_ylim(bottom=-0.5, top=1.5);\n",
    "g1.set_title('143B SLC1A3')\n",
    "ax1.axhline(y=0, linestyle='-', zorder=1, linewidth=2.5, color='#444444')\n",
    "sns.despine()\n",
    "plt.tight_layout()\n",
    "fig.savefig('CB-titration.pdf')"
   ]
  },
  {
   "cell_type": "code",
   "execution_count": null,
   "metadata": {},
   "outputs": [],
   "source": []
  },
  {
   "cell_type": "code",
   "execution_count": null,
   "metadata": {},
   "outputs": [],
   "source": []
  },
  {
   "cell_type": "code",
   "execution_count": 98,
   "metadata": {},
   "outputs": [
    {
     "data": {
      "image/png": "[encoded data removed]",
      "text/plain": [
       "<Figure size 576x324 with 1 Axes>"
      ]
     },
     "metadata": {
      "needs_background": "light"
     },
     "output_type": "display_data"
    }
   ],
   "source": [
    "fig, ax1 = plt.subplots(1, 1, figsize=(8, 4.5))\n",
    "\n",
    "g1 = sns.barplot(y='Prlfr_norm', x='Conc', hue='Rescue', data=df, edgecolor='black', linewidth=2.5, alpha=0.7)\n",
    "g1.set_ylabel('Proliferation (norm. to 0 nM)');\n",
    "g1.set_xlabel('CB-839 (nM)');\n",
    "handles, labels = g1.get_legend_handles_labels()\n",
    "labels = ['Vehicle', '4 mM Glu']\n",
    "g1.legend(loc='upper left', bbox_to_anchor=(1.04, 1), borderaxespad=0, title='Rescue', labels=labels, handles=handles)\n",
    "g1.grid(True, axis='y')\n",
    "g1.set_ylim(bottom=-0.5, top=1.25);\n",
    "g1.set_title('143B SLC1A3')\n",
    "ax1.axhline(y=0, linestyle='-', zorder=1, linewidth=2.5, color='#444444')\n",
    "sns.despine()\n",
    "plt.tight_layout()\n",
    "fig.savefig('CB-titration_norm.pdf')"
   ]
  },
  {
   "cell_type": "code",
   "execution_count": null,
   "metadata": {},
   "outputs": [],
   "source": []
  },
  {
   "cell_type": "code",
   "execution_count": null,
   "metadata": {},
   "outputs": [],
   "source": []
  },
  {
   "cell_type": "code",
   "execution_count": null,
   "metadata": {},
   "outputs": [],
   "source": []
  },
  {
   "cell_type": "code",
   "execution_count": null,
   "metadata": {},
   "outputs": [],
   "source": []
  },
  {
   "cell_type": "code",
   "execution_count": null,
   "metadata": {},
   "outputs": [],
   "source": []
  },
  {
   "cell_type": "code",
   "execution_count": null,
   "metadata": {},
   "outputs": [],
   "source": []
  }
 ],
 "metadata": {
  "kernelspec": {
   "display_name": "Python 3",
   "language": "python",
   "name": "python3"
  },
  "language_info": {
   "codemirror_mode": {
    "name": "ipython",
    "version": 3
   },
   "file_extension": ".py",
   "mimetype": "text/x-python",
   "name": "python",
   "nbconvert_exporter": "python",
   "pygments_lexer": "ipython3",
   "version": "3.8.5"
  }
 },
 "nbformat": 4,
 "nbformat_minor": 2
}
