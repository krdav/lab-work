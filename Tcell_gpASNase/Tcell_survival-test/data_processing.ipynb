{
 "cells": [
  {
   "cell_type": "code",
   "execution_count": 1,
   "metadata": {},
   "outputs": [],
   "source": [
    "import sys, os, re, copy\n",
    "import dill as pickle # this serializes all the functions inside the quantification dict\n",
    "import numpy as np\n",
    "import scipy as sp\n",
    "from scipy.optimize import newton, minimize, fsolve\n",
    "import pandas as pd\n",
    "import matplotlib.pyplot as plt\n",
    "from matplotlib.backends.backend_pdf import PdfPages\n",
    "import matplotlib.colors as mcolors\n",
    "import matplotlib.ticker as tck\n",
    "from matplotlib.gridspec import GridSpec\n",
    "palette = list(mcolors.TABLEAU_COLORS.keys())\n",
    "%matplotlib inline\n",
    "import seaborn as sns\n",
    "sns.set_style(\"whitegrid\", {\n",
    " 'axes.spines.bottom': True,\n",
    " 'axes.spines.left': True,\n",
    " 'axes.spines.right': True,\n",
    " 'axes.spines.top': True\n",
    "})\n",
    "sns.set(font_scale=1)\n",
    "palette = list(mcolors.TABLEAU_COLORS.keys())\n",
    "#sns.set_theme(style=\"ticks\", palette=\"muted\")\n",
    "sns.set_context(\"talk\")\n",
    "sns.set_style(\"whitegrid\")"
   ]
  },
  {
   "cell_type": "code",
   "execution_count": 2,
   "metadata": {},
   "outputs": [],
   "source": [
    "def impute_conc(piece_wise_fit_metab, response_ratio):\n",
    "    '''\n",
    "    This function imputes the concentration from a response ratio.\n",
    "    '''\n",
    "    response_ratio_range = np.array(list(piece_wise_fit_metab.keys()))\n",
    "    mask_range = [response_ratio >= min_v and response_ratio <= max_v for max_v, min_v in response_ratio_range]\n",
    "    k = tuple(response_ratio_range[mask_range][0])\n",
    "    conc = piece_wise_fit_metab[k](response_ratio)\n",
    "    estimator = 'intrapolation'\n",
    "    if 0 in k:\n",
    "        estimator = 'extrapolation under'\n",
    "    elif np.inf in k:\n",
    "        estimator = 'extrapolation over'\n",
    "    return(conc, estimator)"
   ]
  },
  {
   "cell_type": "code",
   "execution_count": null,
   "metadata": {},
   "outputs": [],
   "source": []
  },
  {
   "cell_type": "code",
   "execution_count": null,
   "metadata": {},
   "outputs": [],
   "source": []
  },
  {
   "cell_type": "code",
   "execution_count": 3,
   "metadata": {},
   "outputs": [],
   "source": [
    "### Read quantification function ###\n",
    "dict_pickle_fnam = 'AA_quant-dict.pickle'\n",
    "with open(dict_pickle_fnam, 'rb') as handle:\n",
    "    piece_wise_fit_quant = pickle.load(handle)"
   ]
  },
  {
   "cell_type": "code",
   "execution_count": 4,
   "metadata": {},
   "outputs": [],
   "source": [
    "### Read measurements ###\n",
    "### Replace all N/F with 0 before start ###\n",
    "esheet_dict_mes = pd.read_excel('Tcell_mouse_tissue_samples.xlsx', sheet_name=None)\n",
    "annotation_df = pd.read_excel('annotations.xlsx')\n",
    "metab_dict_mes = dict()\n",
    "metab_names_mes = list()\n",
    "for k in esheet_dict_mes.keys():\n",
    "    if 'U-13C' not in k:\n",
    "        metab_names_mes.append(k)\n",
    "        metab_dict_mes[k] = copy.deepcopy(esheet_dict_mes[k])\n",
    "        metab_dict_mes[k]['Response Ratio'] = metab_dict_mes[k]['Area'] / metab_dict_mes[k]['ISTD Response']\n",
    "        metab_dict_mes[k]['Response Ratio'] = metab_dict_mes[k]['Response Ratio'].fillna(0).replace(np.inf, 0)\n",
    "        metab_dict_mes[k]['Sample_name'] = [fn.split('_')[-1] for fn in metab_dict_mes[k]['Filename']]\n",
    "        # Add annotations:\n",
    "        metab_dict_mes[k] = metab_dict_mes[k].merge(annotation_df, left_on='Sample_name', right_on='Sample_name')\n",
    "        metab_dict_mes[k] = metab_dict_mes[k].drop(['Flag Details', 'Filename', 'Type', 'RT'], axis=1)"
   ]
  },
  {
   "cell_type": "code",
   "execution_count": 5,
   "metadata": {},
   "outputs": [],
   "source": [
    "### Impute concentration and add to metabolite dataframe ###\n",
    "rr_mes = dict() # for plotting \n",
    "imp_conc_mes = dict() # for plotting\n",
    "for metab in metab_names_mes[:]:\n",
    "    # Assign imputed concentration:\n",
    "    if metab in piece_wise_fit_quant:\n",
    "        conc_list = list()\n",
    "        estimator_list = list()\n",
    "        for rr in metab_dict_mes[metab]['Response Ratio'].values:\n",
    "            conc, estimator = impute_conc(piece_wise_fit_quant[metab], rr)\n",
    "            conc_list.append(conc)\n",
    "            estimator_list.append(estimator)\n",
    "        metab_dict_mes[metab]['imputed_sample_conc'] = conc_list\n",
    "        metab_dict_mes[metab]['imputed_sample_conc'] = metab_dict_mes[metab]['imputed_sample_conc'] / metab_dict_mes[metab]['dilution']\n",
    "        metab_dict_mes[metab]['imputed_sample_estimator'] = estimator_list\n"
   ]
  },
  {
   "cell_type": "code",
   "execution_count": null,
   "metadata": {},
   "outputs": [],
   "source": []
  },
  {
   "cell_type": "code",
   "execution_count": null,
   "metadata": {},
   "outputs": [],
   "source": []
  },
  {
   "cell_type": "code",
   "execution_count": 6,
   "metadata": {},
   "outputs": [],
   "source": [
    "def metab_plot(plot_df, yname, conc_type, metab_nam):\n",
    "    fig, ax1 = plt.subplots(1, 1, figsize=(8, 4.5))\n",
    "\n",
    "    g1 = sns.barplot(ax=ax1, data=plot_df, y=yname, x='Treatment', hue='Tissue', \\\n",
    "                     capsize=0.1, edgecolor=\".2\", linewidth=2, alpha=0.8)\n",
    "    g1.set(xlabel='Treatment type', ylabel=conc_type)\n",
    "\n",
    "    g1 = sns.swarmplot(ax=ax1, data=plot_df, y=yname, x='Treatment', hue='Tissue', \\\n",
    "                       palette='dark:grey', alpha=0.8, edgecolor='black', linewidth=0.8, \\\n",
    "                       size=5, marker=\"X\", dodge=True, legend=False)\n",
    "    sns.move_legend(g1, \"upper left\", bbox_to_anchor=(1.01, 1.03))\n",
    "    g1.set_title(metab_nam[:-4])\n",
    "    fig.tight_layout()\n",
    "    return(fig)\n",
    "\n",
    "# Generate plot for each metabolite:\n",
    "with PdfPages('metab_plots.pdf') as pp:\n",
    "    for metab_nam in metab_dict_mes:\n",
    "        if 'Cys' in metab_nam:\n",
    "            continue\n",
    "\n",
    "        plot_df = metab_dict_mes[metab_nam]\n",
    "        mask = (~plot_df['Treatment'].isna()) & ((plot_df['Tissue'] == 'Spleen') | (plot_df['Tissue'] == 'Tumor'))\n",
    "        plot_df = plot_df[mask].copy()\n",
    "        if 'imputed_sample_conc' in metab_dict_mes[metab_nam].columns:\n",
    "            yname = 'imputed_sample_conc'\n",
    "            conc_type = 'Concentration (uM)'\n",
    "        elif sum(metab_dict_mes[metab_nam]['Response Ratio']) > 0:\n",
    "            yname = 'Response Ratio'\n",
    "            conc_type = 'Response ratio'\n",
    "        else:\n",
    "            yname = 'Area'\n",
    "            conc_type = 'Peak area'\n",
    "\n",
    "        fig = metab_plot(plot_df, yname, conc_type, metab_nam)\n",
    "        pp.savefig(fig, bbox_inches='tight')\n",
    "        plt.close(fig)     "
   ]
  },
  {
   "cell_type": "code",
   "execution_count": null,
   "metadata": {},
   "outputs": [],
   "source": []
  },
  {
   "cell_type": "code",
   "execution_count": 7,
   "metadata": {},
   "outputs": [],
   "source": [
    "# Generate dataframe for concentrations and estimtors:\n",
    "print_cols = ['Sample_name', 'Ear Tag', 'Treatment Plan', 'T cell dose', 'Date']\n",
    "conc_df = metab_dict_mes['Glutamine pos'].loc[:, print_cols]\n",
    "est_df = metab_dict_mes['Glutamine pos'].loc[:, print_cols]\n",
    "\n",
    "for metab_nam in metab_dict_mes:\n",
    "    if 'Cys' in metab_nam:\n",
    "        continue\n",
    "    if 'imputed_sample_conc' in metab_dict_mes[metab_nam].columns:\n",
    "        conc_df = conc_df.merge(metab_dict_mes[metab_nam].loc[:, ['Sample_name', 'imputed_sample_conc']], on='Sample_name')\n",
    "        conc_df = conc_df.rename(columns={'imputed_sample_conc': metab_nam})\n",
    "        est_df = est_df.merge(metab_dict_mes[metab_nam].loc[:, ['Sample_name', 'imputed_sample_estimator']], on='Sample_name')\n",
    "        est_df = est_df.rename(columns={'imputed_sample_estimator': metab_nam})\n",
    "    elif sum(metab_dict_mes[metab_nam]['Response Ratio']) > 0:\n",
    "        conc_df = conc_df.merge(metab_dict_mes[metab_nam].loc[:, ['Sample_name', 'Response Ratio']], on='Sample_name')\n",
    "        conc_df = conc_df.rename(columns={'Response Ratio': metab_nam})\n",
    "        est_df[metab_nam] = 'Response Ratio'\n",
    "    else:\n",
    "        conc_df = conc_df.merge(metab_dict_mes[metab_nam].loc[:, ['Sample_name', 'Area']], on='Sample_name')\n",
    "        conc_df = conc_df.rename(columns={'Area': metab_nam})\n",
    "        est_df[metab_nam] = 'Peak area'\n",
    "\n",
    "# Write to Excel file:\n",
    "with pd.ExcelWriter('Tcell_mouse_tissue_samples_conc.xlsx') as writer:  \n",
    "    conc_df.to_excel(writer, sheet_name='metab')\n",
    "    est_df.to_excel(writer, sheet_name='estimator')"
   ]
  },
  {
   "cell_type": "code",
   "execution_count": null,
   "metadata": {},
   "outputs": [],
   "source": []
  },
  {
   "cell_type": "code",
   "execution_count": null,
   "metadata": {},
   "outputs": [],
   "source": []
  },
  {
   "cell_type": "code",
   "execution_count": null,
   "metadata": {},
   "outputs": [],
   "source": []
  },
  {
   "cell_type": "code",
   "execution_count": null,
   "metadata": {},
   "outputs": [],
   "source": []
  },
  {
   "cell_type": "code",
   "execution_count": null,
   "metadata": {},
   "outputs": [],
   "source": []
  },
  {
   "cell_type": "code",
   "execution_count": null,
   "metadata": {},
   "outputs": [],
   "source": []
  }
 ],
 "metadata": {
  "kernelspec": {
   "display_name": "Python 3",
   "language": "python",
   "name": "python3"
  },
  "language_info": {
   "codemirror_mode": {
    "name": "ipython",
    "version": 3
   },
   "file_extension": ".py",
   "mimetype": "text/x-python",
   "name": "python",
   "nbconvert_exporter": "python",
   "pygments_lexer": "ipython3",
   "version": "3.8.5"
  }
 },
 "nbformat": 4,
 "nbformat_minor": 2
}
